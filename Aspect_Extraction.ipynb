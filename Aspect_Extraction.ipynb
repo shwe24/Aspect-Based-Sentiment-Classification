{
  "nbformat": 4,
  "nbformat_minor": 0,
  "metadata": {
    "colab": {
      "name": "Aspect-Extraction.ipynb",
      "provenance": [],
      "toc_visible": true,
      "include_colab_link": true
    },
    "kernelspec": {
      "display_name": "Python 3",
      "name": "python3"
    },
    "accelerator": "GPU"
  },
  "cells": [
    {
      "cell_type": "markdown",
      "metadata": {
        "id": "view-in-github",
        "colab_type": "text"
      },
      "source": [
        "<a href=\"https://colab.research.google.com/github/shwe24/Aspect-Based-Sentiment-Classification/blob/main/Aspect_Extraction.ipynb\" target=\"_parent\"><img src=\"https://colab.research.google.com/assets/colab-badge.svg\" alt=\"Open In Colab\"/></a>"
      ]
    },
    {
      "cell_type": "code",
      "metadata": {
        "colab": {
          "base_uri": "https://localhost:8080/"
        },
        "id": "8Xc7ib8LseO0",
        "outputId": "5a0f1494-06cb-42f4-9a27-dde544b58f4b"
      },
      "source": [
        "pip install tensorflow"
      ],
      "execution_count": null,
      "outputs": [
        {
          "output_type": "stream",
          "text": [
            "Requirement already satisfied: tensorflow in /usr/local/lib/python3.6/dist-packages (2.3.1)\n",
            "Requirement already satisfied: wrapt>=1.11.1 in /usr/local/lib/python3.6/dist-packages (from tensorflow) (1.12.1)\n",
            "Requirement already satisfied: keras-preprocessing<1.2,>=1.1.1 in /usr/local/lib/python3.6/dist-packages (from tensorflow) (1.1.2)\n",
            "Requirement already satisfied: grpcio>=1.8.6 in /usr/local/lib/python3.6/dist-packages (from tensorflow) (1.33.2)\n",
            "Requirement already satisfied: wheel>=0.26 in /usr/local/lib/python3.6/dist-packages (from tensorflow) (0.35.1)\n",
            "Requirement already satisfied: termcolor>=1.1.0 in /usr/local/lib/python3.6/dist-packages (from tensorflow) (1.1.0)\n",
            "Requirement already satisfied: absl-py>=0.7.0 in /usr/local/lib/python3.6/dist-packages (from tensorflow) (0.10.0)\n",
            "Requirement already satisfied: opt-einsum>=2.3.2 in /usr/local/lib/python3.6/dist-packages (from tensorflow) (3.3.0)\n",
            "Requirement already satisfied: protobuf>=3.9.2 in /usr/local/lib/python3.6/dist-packages (from tensorflow) (3.12.4)\n",
            "Requirement already satisfied: gast==0.3.3 in /usr/local/lib/python3.6/dist-packages (from tensorflow) (0.3.3)\n",
            "Requirement already satisfied: numpy<1.19.0,>=1.16.0 in /usr/local/lib/python3.6/dist-packages (from tensorflow) (1.18.5)\n",
            "Requirement already satisfied: six>=1.12.0 in /usr/local/lib/python3.6/dist-packages (from tensorflow) (1.15.0)\n",
            "Requirement already satisfied: tensorboard<3,>=2.3.0 in /usr/local/lib/python3.6/dist-packages (from tensorflow) (2.3.0)\n",
            "Requirement already satisfied: astunparse==1.6.3 in /usr/local/lib/python3.6/dist-packages (from tensorflow) (1.6.3)\n",
            "Requirement already satisfied: tensorflow-estimator<2.4.0,>=2.3.0 in /usr/local/lib/python3.6/dist-packages (from tensorflow) (2.3.0)\n",
            "Requirement already satisfied: h5py<2.11.0,>=2.10.0 in /usr/local/lib/python3.6/dist-packages (from tensorflow) (2.10.0)\n",
            "Requirement already satisfied: google-pasta>=0.1.8 in /usr/local/lib/python3.6/dist-packages (from tensorflow) (0.2.0)\n",
            "Requirement already satisfied: setuptools in /usr/local/lib/python3.6/dist-packages (from protobuf>=3.9.2->tensorflow) (50.3.2)\n",
            "Requirement already satisfied: requests<3,>=2.21.0 in /usr/local/lib/python3.6/dist-packages (from tensorboard<3,>=2.3.0->tensorflow) (2.23.0)\n",
            "Requirement already satisfied: google-auth<2,>=1.6.3 in /usr/local/lib/python3.6/dist-packages (from tensorboard<3,>=2.3.0->tensorflow) (1.17.2)\n",
            "Requirement already satisfied: werkzeug>=0.11.15 in /usr/local/lib/python3.6/dist-packages (from tensorboard<3,>=2.3.0->tensorflow) (1.0.1)\n",
            "Requirement already satisfied: google-auth-oauthlib<0.5,>=0.4.1 in /usr/local/lib/python3.6/dist-packages (from tensorboard<3,>=2.3.0->tensorflow) (0.4.2)\n",
            "Requirement already satisfied: markdown>=2.6.8 in /usr/local/lib/python3.6/dist-packages (from tensorboard<3,>=2.3.0->tensorflow) (3.3.3)\n",
            "Requirement already satisfied: tensorboard-plugin-wit>=1.6.0 in /usr/local/lib/python3.6/dist-packages (from tensorboard<3,>=2.3.0->tensorflow) (1.7.0)\n",
            "Requirement already satisfied: urllib3!=1.25.0,!=1.25.1,<1.26,>=1.21.1 in /usr/local/lib/python3.6/dist-packages (from requests<3,>=2.21.0->tensorboard<3,>=2.3.0->tensorflow) (1.24.3)\n",
            "Requirement already satisfied: certifi>=2017.4.17 in /usr/local/lib/python3.6/dist-packages (from requests<3,>=2.21.0->tensorboard<3,>=2.3.0->tensorflow) (2020.11.8)\n",
            "Requirement already satisfied: chardet<4,>=3.0.2 in /usr/local/lib/python3.6/dist-packages (from requests<3,>=2.21.0->tensorboard<3,>=2.3.0->tensorflow) (3.0.4)\n",
            "Requirement already satisfied: idna<3,>=2.5 in /usr/local/lib/python3.6/dist-packages (from requests<3,>=2.21.0->tensorboard<3,>=2.3.0->tensorflow) (2.10)\n",
            "Requirement already satisfied: rsa<5,>=3.1.4; python_version >= \"3\" in /usr/local/lib/python3.6/dist-packages (from google-auth<2,>=1.6.3->tensorboard<3,>=2.3.0->tensorflow) (4.6)\n",
            "Requirement already satisfied: cachetools<5.0,>=2.0.0 in /usr/local/lib/python3.6/dist-packages (from google-auth<2,>=1.6.3->tensorboard<3,>=2.3.0->tensorflow) (4.1.1)\n",
            "Requirement already satisfied: pyasn1-modules>=0.2.1 in /usr/local/lib/python3.6/dist-packages (from google-auth<2,>=1.6.3->tensorboard<3,>=2.3.0->tensorflow) (0.2.8)\n",
            "Requirement already satisfied: requests-oauthlib>=0.7.0 in /usr/local/lib/python3.6/dist-packages (from google-auth-oauthlib<0.5,>=0.4.1->tensorboard<3,>=2.3.0->tensorflow) (1.3.0)\n",
            "Requirement already satisfied: importlib-metadata; python_version < \"3.8\" in /usr/local/lib/python3.6/dist-packages (from markdown>=2.6.8->tensorboard<3,>=2.3.0->tensorflow) (2.0.0)\n",
            "Requirement already satisfied: pyasn1>=0.1.3 in /usr/local/lib/python3.6/dist-packages (from rsa<5,>=3.1.4; python_version >= \"3\"->google-auth<2,>=1.6.3->tensorboard<3,>=2.3.0->tensorflow) (0.4.8)\n",
            "Requirement already satisfied: oauthlib>=3.0.0 in /usr/local/lib/python3.6/dist-packages (from requests-oauthlib>=0.7.0->google-auth-oauthlib<0.5,>=0.4.1->tensorboard<3,>=2.3.0->tensorflow) (3.1.0)\n",
            "Requirement already satisfied: zipp>=0.5 in /usr/local/lib/python3.6/dist-packages (from importlib-metadata; python_version < \"3.8\"->markdown>=2.6.8->tensorboard<3,>=2.3.0->tensorflow) (3.4.0)\n"
          ],
          "name": "stdout"
        }
      ]
    },
    {
      "cell_type": "code",
      "metadata": {
        "colab": {
          "base_uri": "https://localhost:8080/"
        },
        "id": "qbk1CZq0zhVM",
        "outputId": "3ea454fc-8917-4278-8be4-5be04c6c3f70"
      },
      "source": [
        "import nltk\n",
        "nltk.download('punkt')\n",
        "nltk.download('stopwords')\n",
        "nltk.download('averaged_perceptron_tagger')"
      ],
      "execution_count": null,
      "outputs": [
        {
          "output_type": "stream",
          "text": [
            "[nltk_data] Downloading package punkt to /root/nltk_data...\n",
            "[nltk_data]   Unzipping tokenizers/punkt.zip.\n",
            "[nltk_data] Downloading package stopwords to /root/nltk_data...\n",
            "[nltk_data]   Unzipping corpora/stopwords.zip.\n",
            "[nltk_data] Downloading package averaged_perceptron_tagger to\n",
            "[nltk_data]     /root/nltk_data...\n",
            "[nltk_data]   Unzipping taggers/averaged_perceptron_tagger.zip.\n"
          ],
          "name": "stdout"
        },
        {
          "output_type": "execute_result",
          "data": {
            "text/plain": [
              "True"
            ]
          },
          "metadata": {
            "tags": []
          },
          "execution_count": 1
        }
      ]
    },
    {
      "cell_type": "code",
      "metadata": {
        "colab": {
          "base_uri": "https://localhost:8080/"
        },
        "id": "xhvA1tHsnzDj",
        "outputId": "106409dd-f9a2-492e-e293-04db47f1ff02"
      },
      "source": [
        "import os\n",
        "from google.colab import drive\n",
        "USE_GOOGLE_DRIVE = True\n",
        "if USE_GOOGLE_DRIVE:\n",
        "    drive.mount('/content/drive')\n",
        "    PATH_PREFIX = 'drive/My Drive/ABSA'\n",
        "else:\n",
        "    PATH_PREFIX = '..'\n",
        "\n",
        "train_data=os.path.join(\n",
        "    PATH_PREFIX, 'Laptops_Train_v2.xml'\n",
        ")\n",
        "test_data=os.path.join(\n",
        "    PATH_PREFIX, 'Laptops_Test_Gold.xml'\n",
        ")"
      ],
      "execution_count": null,
      "outputs": [
        {
          "output_type": "stream",
          "text": [
            "Mounted at /content/drive\n"
          ],
          "name": "stdout"
        }
      ]
    },
    {
      "cell_type": "markdown",
      "metadata": {
        "id": "LJpOiIPuhtxH"
      },
      "source": [
        "# Aspect Extraction - using ML models"
      ]
    },
    {
      "cell_type": "code",
      "metadata": {
        "colab": {
          "base_uri": "https://localhost:8080/"
        },
        "id": "WvlV0oj528uM",
        "outputId": "1149d7f1-3df2-4343-b96d-ac3863766c17"
      },
      "source": [
        "import pandas as pd\n",
        "\n",
        "\n",
        "# convert into bio format\n",
        "class BIO:\n",
        "\n",
        "    def convert_into_bio(self, text, predicted_aspect_terms_list, common_words_list):\n",
        "        text_list = text.split()\n",
        "        # print(text_list)\n",
        "        df = pd.DataFrame({'text': text_list, 'BIO': 'O'})\n",
        "\n",
        "        bio_dict = self.bio_mapper(common_words_list=common_words_list, prediction=predicted_aspect_terms_list)\n",
        "        bio_filtered_dict = self.filter_predicted_words(bio_dict)\n",
        "\n",
        "        for item in bio_filtered_dict:\n",
        "            final_list = self.matcher(text, item)\n",
        "            if final_list[1] - final_list[0] == 0:\n",
        "                df.at[final_list[0], 'BIO'] = 'B'\n",
        "            else:\n",
        "                df.at[final_list[0], 'BIO'] = 'B'\n",
        "                for index in range(final_list[0] + 1, final_list[1] + 1):\n",
        "                        df.at[index, 'BIO'] = 'I'\n",
        "\n",
        "        return df\n",
        "\n",
        "    def bio_mapper(self, common_words_list, prediction):\n",
        "        bio_dict = dict()\n",
        "\n",
        "        for i in range(len(common_words_list)):\n",
        "            bio_dict[common_words_list[i]] = prediction[i]\n",
        "\n",
        "        return bio_dict\n",
        "\n",
        "    def matcher(self, text, word):\n",
        "        split_word = word.split()\n",
        "        split_text = text.split(word)\n",
        "        start=0\n",
        "        end=0\n",
        "        if len(split_text) > 1:\n",
        "            start = len(split_text[0].split())\n",
        "            end = start + len(split_word) - 1\n",
        "        return start, end\n",
        "\n",
        "    def filter_predicted_words(self, _dict):\n",
        "\n",
        "        final_list = []\n",
        "\n",
        "        for key, value in _dict.items():\n",
        "            if value == 1:\n",
        "                final_list.append(key)\n",
        "\n",
        "        return final_list;\n",
        "\n",
        "\n",
        "def main():\n",
        "\n",
        "    text = \"The battery life is really good and its size is reasonable\"\n",
        "    x = BIO()\n",
        "    prd = [0, 0, 0, 0, 0, 0, 1, 0, 0, 0, 0, 0, 0, 0, 0, 0, 0, 0, 0, 0, 0, 0, 0, 0, 0, 0, 0, 0, 0, 0, 0, 0, 0, 0, 0, 0,\n",
        "           0, 1, 0, 0, 0, 0, 0, 0, 0, 0, 0, 0, 0, 0]\n",
        "\n",
        "    common_words = ['OS',\n",
        "                    'Vista',\n",
        "                    'Windows',\n",
        "                    'Windows 7',\n",
        "                    'applications',\n",
        "                    'battery',\n",
        "                    'battery life',\n",
        "                    'carry',\n",
        "                    'charge',\n",
        "                    'cost',\n",
        "                    'design',\n",
        "                    'display',\n",
        "                    'extended warranty',\n",
        "                    'features',\n",
        "                    'games',\n",
        "                    'gaming',\n",
        "                    'graphics',\n",
        "                    'hard drive',\n",
        "                    'keyboard',\n",
        "                    'keys',\n",
        "                    'look',\n",
        "                    'memory',\n",
        "                    'motherboard',\n",
        "                    'mouse',\n",
        "                    'operating system',\n",
        "                    'performance',\n",
        "                    'power',\n",
        "                    'power supply',\n",
        "                    'price',\n",
        "                    'processor',\n",
        "                    'program',\n",
        "                    'programs',\n",
        "                    'quality',\n",
        "                    'runs',\n",
        "                    'screen',\n",
        "                    'service',\n",
        "                    'shipping',\n",
        "                    'size',\n",
        "                    'software',\n",
        "                    'speakers',\n",
        "                    'speed',\n",
        "                    'system',\n",
        "                    'use',\n",
        "                    'value',\n",
        "                    'warranty',\n",
        "                    'warrenty',\n",
        "                    'weight',\n",
        "                    'windows',\n",
        "                    'work',\n",
        "                    'works']\n",
        "\n",
        "    print(x.convert_into_bio(text, prd, common_words_list=common_words))\n",
        "\n",
        "if __name__ == '__main__':\n",
        "  main()"
      ],
      "execution_count": null,
      "outputs": [
        {
          "output_type": "stream",
          "text": [
            "          text BIO\n",
            "0          The   O\n",
            "1      battery   B\n",
            "2         life   I\n",
            "3           is   O\n",
            "4       really   O\n",
            "5         good   O\n",
            "6          and   O\n",
            "7          its   O\n",
            "8         size   B\n",
            "9           is   O\n",
            "10  reasonable   O\n"
          ],
          "name": "stdout"
        }
      ]
    },
    {
      "cell_type": "code",
      "metadata": {
        "colab": {
          "base_uri": "https://localhost:8080/"
        },
        "id": "E2VvaTUzydtr",
        "outputId": "2d73512a-1410-4689-c109-b102c8b0251c"
      },
      "source": [
        "import xml.etree.ElementTree as ET\n",
        "import pandas as pd\n",
        "\n",
        "\n",
        "pd.set_option('display.max_colwidth', -1)\n",
        "\n",
        "class Xml2DataFrame:\n",
        "\n",
        "    @staticmethod\n",
        "    def parse_root(root):\n",
        "        \"\"\"Return pandas dataframe from given xml data\"\"\"\n",
        "        data_list = []\n",
        "        xml_data = dict()\n",
        "\n",
        "        target_words = []\n",
        "        for child in root:\n",
        "            xml_data['id'] = child.attrib.get('id')\n",
        "            text = child.find('text').text.lower()\n",
        "            xml_data['text'] = text\n",
        "            for aspectTerms in child.iter('aspectTerms'):\n",
        "                aspectInfos = []\n",
        "                for asp_term in aspectTerms:\n",
        "                    aspectInfos.append(asp_term.attrib)\n",
        "                    # print(asp_term.attrib)\n",
        "                xml_data['aspect_info'] = aspectInfos\n",
        "            data_list.append(xml_data)\n",
        "            xml_data = {}\n",
        "\n",
        "        return data_list\n",
        "\n",
        "    def process_data(self, path):\n",
        "        root = ET.parse(path).getroot()\n",
        "        \"\"\" Initiate the root XML, parse it, and return a dataframe\"\"\"\n",
        "        structure_data = self.parse_root(root)\n",
        "        df = pd.DataFrame([[k.get('id'), k.get('text'), k.get('aspect_info')] for k in iter(structure_data)],\n",
        "                          columns=['id', 'text', 'aspect_info'])\n",
        "        return df\n",
        "\n",
        "\n",
        "if __name__ == '__main__':\n",
        "    xml2df = Xml2DataFrame()\n",
        "    xml_dataframe = xml2df.process_data(test_data)\n"
      ],
      "execution_count": null,
      "outputs": [
        {
          "output_type": "stream",
          "text": [
            "/usr/local/lib/python3.6/dist-packages/ipykernel_launcher.py:5: FutureWarning: Passing a negative integer is deprecated in version 1.0 and will not be supported in future version. Instead, use None to not limit the column width.\n",
            "  \"\"\"\n"
          ],
          "name": "stderr"
        }
      ]
    },
    {
      "cell_type": "code",
      "metadata": {
        "id": "7ID9R_qIzFr_"
      },
      "source": [
        "import nltk\n",
        "from nltk.corpus import stopwords\n",
        "from string import punctuation\n",
        "\n",
        "\n",
        "class POSTagger:\n",
        "\n",
        "    @staticmethod\n",
        "    def pos_tagger(text):\n",
        "        text = nltk.word_tokenize(text)\n",
        "        stopwords_en = stopwords.words('english')\n",
        "        stopwords_en_withpunct = set(stopwords_en).union(set(punctuation))\n",
        "        text = [word for word in text if word not in stopwords_en_withpunct]\n",
        "        tagged_pos_list = nltk.pos_tag(text)\n",
        "        return tagged_pos_list\n",
        "\n",
        "    def filter_pos_tag(self, tagged_text):\n",
        "        final_text_list = []\n",
        "        matching_tag = ['NN','NNS','NNP','NNPS','RB','RBR','RBS','JJ','JJR','JJS','VB','VBD','VBG','VBN','VBP','VBZ']\n",
        "\n",
        "        for word, tag in tagged_text:\n",
        "            final_text = []\n",
        "            if tag in matching_tag:\n",
        "                final_text.append(word)\n",
        "                final_text_list.append((' '.join(final_text)))\n",
        "        return self.combine(final_text_list)\n",
        "\n",
        "    @staticmethod\n",
        "    def combine(filtered_tags):\n",
        "        filtered_string = ' '.join(filtered_tags)\n",
        "        return filtered_string\n",
        "\n",
        "\n",
        "if __name__ == '__main__':\n",
        "    x = POSTagger()\n",
        "    k = x.pos_tagger(\"The battery life is really good and its size is reasonable\")\n",
        "    y = x.filter_pos_tag(k)"
      ],
      "execution_count": null,
      "outputs": []
    },
    {
      "cell_type": "code",
      "metadata": {
        "colab": {
          "base_uri": "https://localhost:8080/"
        },
        "id": "1Fkqcms3zxRQ",
        "outputId": "75461427-6b7d-473f-e69d-0b0777ac25b5"
      },
      "source": [
        "import pandas as pd\n",
        "from sklearn.externals import joblib\n",
        "from sklearn.feature_extraction import DictVectorizer\n",
        "from sklearn.linear_model import SGDClassifier\n",
        "from sklearn.multiclass import OneVsRestClassifier\n",
        "from sklearn.naive_bayes import MultinomialNB\n",
        "from sklearn import svm\n",
        "from scipy.sparse import hstack\n",
        "import warnings\n",
        "\n"
      ],
      "execution_count": null,
      "outputs": [
        {
          "output_type": "stream",
          "text": [
            "/usr/local/lib/python3.6/dist-packages/sklearn/externals/joblib/__init__.py:15: FutureWarning: sklearn.externals.joblib is deprecated in 0.21 and will be removed in 0.23. Please import this functionality directly from joblib, which can be installed with: pip install joblib. If this warning is raised when loading pickled models, you may need to re-serialize those models with scikit-learn 0.21+.\n",
            "  warnings.warn(msg, category=FutureWarning)\n"
          ],
          "name": "stderr"
        }
      ]
    },
    {
      "cell_type": "code",
      "metadata": {
        "id": "oqkTeJaUz809"
      },
      "source": [
        "# xml parser\n",
        "def get_xml_data(path):\n",
        "    xml2df = Xml2DataFrame()\n",
        "    xml_dataframe = xml2df.process_data(path)\n",
        "    return xml_dataframe\n",
        "\n",
        "#get_xml_data(train_data)"
      ],
      "execution_count": null,
      "outputs": []
    },
    {
      "cell_type": "code",
      "metadata": {
        "colab": {
          "base_uri": "https://localhost:8080/"
        },
        "id": "OZ4IOxCD0IG1",
        "outputId": "7002879e-36d1-4f1e-ea2d-67189d8fec26"
      },
      "source": [
        "train_dataframe = get_xml_data(train_data)\n",
        "# print(train_dataframe.head())\n",
        "train_text_list = train_dataframe['text']\n",
        "train_aspects_list = list(train_dataframe['aspect_info'])\n",
        "print(train_text_list.head())\n",
        "print(\"=============================\")\n",
        "print(train_aspects_list[:5])"
      ],
      "execution_count": null,
      "outputs": [
        {
          "output_type": "stream",
          "text": [
            "0    i charge it at night and skip taking the cord with me because of the good battery life.                                                                                            \n",
            "1    i bought a hp pavilion dv4-1222nr laptop and have had so many problems with the computer.                                                                                          \n",
            "2    the tech guy then said the service center does not do 1-to-1 exchange and i have to direct my concern to the \"sales\" team, which is the retail shop which i bought my netbook from.\n",
            "3    i investigated netbooks and saw the toshiba nb305-n410bl.                                                                                                                          \n",
            "4    the other day i had a presentation to do for a seminar at a large conference in town- lots of people, little time to prep and have to set up a computer to a projector, etc.       \n",
            "Name: text, dtype: object\n",
            "=============================\n",
            "[[{'term': 'cord', 'polarity': 'neutral', 'from': '41', 'to': '45'}, {'term': 'battery life', 'polarity': 'positive', 'from': '74', 'to': '86'}], None, [{'term': 'service center', 'polarity': 'negative', 'from': '27', 'to': '41'}, {'term': '\"sales\" team', 'polarity': 'negative', 'from': '109', 'to': '121'}, {'term': 'tech guy', 'polarity': 'neutral', 'from': '4', 'to': '12'}], None, None]\n"
          ],
          "name": "stdout"
        }
      ]
    },
    {
      "cell_type": "code",
      "metadata": {
        "id": "4EsjXIhR0Q3q"
      },
      "source": [
        "\n",
        "# POSTag function wrapper\n",
        "def pos_tag(review):\n",
        "    tagged_text_list = []\n",
        "    pos_tagger = POSTagger()\n",
        "    for text in review:\n",
        "        tagged_text_list.append(pos_tagger.pos_tagger(text=text))\n",
        "    return tagged_text_list\n",
        "\n",
        "\n",
        "# POSTag filtering of noun,adjective,verb,adverb\n",
        "def filter_tag(tagged_reviews):\n",
        "    filtered_list = []\n",
        "    pos_tagger = POSTagger()\n",
        "    for tagged_review in tagged_reviews:\n",
        "        filtered_list.append(pos_tagger.filter_pos_tag(tagged_review))\n",
        "    return filtered_list"
      ],
      "execution_count": null,
      "outputs": []
    },
    {
      "cell_type": "code",
      "metadata": {
        "id": "Z_eMHGCM0UDv"
      },
      "source": [
        "# tag POS\n",
        "tagged_text_list_train = pos_tag(train_text_list)\n",
        "joblib.dump(tagged_text_list_train, 'tagged_text_list_train.pkl')\n",
        "tagged_text_list_train = joblib.load('tagged_text_list_train.pkl')\n",
        "# print(tagged_text_list_train[:5])"
      ],
      "execution_count": null,
      "outputs": []
    },
    {
      "cell_type": "code",
      "metadata": {
        "colab": {
          "base_uri": "https://localhost:8080/"
        },
        "id": "n7ef3aN70apY",
        "outputId": "c2afaac6-1208-4e38-d18d-8acf8e6b4d51"
      },
      "source": [
        "# train list after filtering\n",
        "final_train_text_list = filter_tag(tagged_text_list_train)\n",
        "\n",
        "print(final_train_text_list[:5])"
      ],
      "execution_count": null,
      "outputs": [
        {
          "output_type": "stream",
          "text": [
            "['charge night skip taking cord good battery life', 'bought hp pavilion dv4-1222nr laptop many problems computer', 'tech guy said service center 1-to-1 exchange direct concern sales team retail shop bought netbook', 'investigated netbooks saw toshiba nb305-n410bl', 'day presentation seminar large conference town- lots people little time prep set computer projector etc']\n"
          ],
          "name": "stdout"
        }
      ]
    },
    {
      "cell_type": "code",
      "metadata": {
        "id": "-DzmV6UJ0gE8"
      },
      "source": [
        "#Selecting only 20 most common aspect.\n",
        "def get_most_common_aspect(aspect_list):\n",
        "    import nltk\n",
        "    aspect_terms = []\n",
        "\n",
        "    aspect_list = list(aspect_list.aspect_info)\n",
        "\n",
        "    for inner_list in aspect_list:\n",
        "        if inner_list is not None:\n",
        "            for _dict in inner_list:\n",
        "                # for key in _dict:\n",
        "                aspect_terms.append(_dict.get('term'))\n",
        "\n",
        "    most_common_aspect = [k for k, v in nltk.FreqDist(aspect_terms).most_common(1000)]\n",
        "    return most_common_aspect"
      ],
      "execution_count": null,
      "outputs": []
    },
    {
      "cell_type": "code",
      "metadata": {
        "id": "xDd9t5LI0jAq"
      },
      "source": [
        "# generate data frame\n",
        "def get_data_frame(text_list, train_aspects_list, most_common_aspect):\n",
        "    data = {'Text': text_list}\n",
        "    df = pd.DataFrame(data)\n",
        "    for inner_list in train_aspects_list:\n",
        "        if inner_list is not None:\n",
        "            for _dict in inner_list:\n",
        "                # for key in _dict:\n",
        "                if _dict.get('term') in most_common_aspect:\n",
        "                    df.loc[train_aspects_list.index(inner_list), _dict.get('term')] = _dict.get('polarity')\n",
        "    return df"
      ],
      "execution_count": null,
      "outputs": []
    },
    {
      "cell_type": "code",
      "metadata": {
        "id": "x3-i0qAU0mi2"
      },
      "source": [
        "\n",
        "# generate data frame for aspect extraction task\n",
        "def get_aspect_data_frame(df, most_common_aspect):\n",
        "    for common_aspect in most_common_aspect:\n",
        "        df[common_aspect] = df[common_aspect].replace(['positive','negative','neutral','conflict'],[1,1,1,1])\n",
        "    df = df.fillna(0)\n",
        "    return df"
      ],
      "execution_count": null,
      "outputs": []
    },
    {
      "cell_type": "code",
      "metadata": {
        "colab": {
          "base_uri": "https://localhost:8080/"
        },
        "id": "YBYaIlx90pIM",
        "outputId": "1d05c865-3ab3-4224-eecb-dc7dc3c4dc18"
      },
      "source": [
        "\n",
        "most_common_aspect = get_most_common_aspect(train_dataframe)\n",
        "print(most_common_aspect)"
      ],
      "execution_count": null,
      "outputs": [
        {
          "output_type": "stream",
          "text": [
            "['screen', 'price', 'use', 'battery life', 'battery', 'keyboard', 'programs', 'software', 'features', 'warranty', 'hard drive', 'quality', 'size', 'performance', 'speed', 'Windows', 'memory', 'graphics', 'applications', 'motherboard', 'runs', 'Vista', 'gaming', 'system', 'program', 'works', 'charge', 'design', 'display', 'power supply', 'Windows 7', 'service', 'operating system', 'windows', 'warrenty', 'value', 'keys', 'mouse', 'OS', 'speakers', 'extended warranty', 'shipping', 'games', 'cost', 'work', 'processor', 'look', 'hardware', 'power', 'weight', 'carry', 'fan', 'Keyboard', 'touchpad', 'trackpad', 'feature', 'boot up', 'webcam', 'internet', 'sound', 'touch pad', 'iWork', 'screen size', 'Windows 7 Starter', 'tech support', 'Screen', 'drivers', 'navigate', 'hinge', 'mousepad', 'iTunes', 'cd drive', 'space', 'iPhoto', 'RAM', 'edges', 'buttons', 'portability', 'service center', 'mother board', 'web browsing', 'iMovie', 'monitor', 'iLife', 'set up', 'HD', 'DVD burner', 'USB ports', 'operation', 'functions', 'customer support', 'run', 'BIOS', 'Garageband', 'Pages', 'case', 'built', 'specs', 'repair depot', 'MS Office', 'drive', 'feel', 'external mouse', 'browser', 'charger', 'cooling system', 'Bluetooth', 'delivery', 'appearance', 'graphics card', 'mic', 'GarageBand', 'colors', 'resolution', 'Mac OS', 'support', 'loads', 'storage', 'video card', 'word processing', 'components', 'windows 7', 'batteries', 'staff', 'specifications', 'Features', 'Keynote', 'Photoshop', 'shipped', 'ram', 'Word', 'Runs', 'OS X', 'iphoto', 'mouse pad', 'budget', 'hard drives', 'cords', 'Touchpad', 'Speakers', 'Customer Service', 'cord', 'GUI', 'start up', 'edge', 'preloaded software', 'brand', 'hard disc', 'operating systems', 'Mac software', 'recovery discs', 'USB', 'bluetooth', 'XP', 'color', 'designed', 'construction quality', 'longevity', 'security', 'boots up', 'safari', 'built-in webcam', 'Windows Vista', 'camera', 'price tag', 'ports', 'Appleworks', 'paint', 'hard disk', 'running', 'antivirus software', 'Fan', 'cooling pad', 'techs', 'Windows 7 Ultimate', 'ran', 'twin packing', 'pad', 'virus protection', 'HDMI port', 'Internet Explorer', 'boot', 'shut down', 'Windows 7 Home Premium', 'watching movies', 'build quality', 'costing', 'driver', 'priced', 'internet speed', 'Numbers', 'web cam', 'Skype', 'updates', 'Windows XP', 'Wireless', 'subwoofer', 'built in camera', 'hard drive space', 'picture', 'extended warranties', 'right speaker', 'recovery disk', 'Office', 'Windows update', 'switch', 'hardrive', 'iLife software', 'LCD', 'Safari', 'Firefox', 'Quality Display', 'video', 'Linux', 'company', 'iPhotos', 'CPU', '3 year warranty', 'SATA controller', 'bluetooth mouse', 'plug', 'videocard', 'charging', 'processing power', 'tutorials', 'charged', 'speaker grill', 'build', 'touch-pad', 'headphones', 'OSX', 'KEYS', 'KEYBOARD', 'internet connection', 'port', 'cursor', 'operate', 'track pad', 'disc drive', 'Battery', 'Microsoft Office', 'recovery DVDs', 'user interface', 'surfing', 'extended life battery', 'expense', 'performs', 'power adapter', 'apps', 'sized', 'surfing the web', 'DC jack', 'bios', 'call center', 'setup', 'word processor', 'handle', 'surf the web', 'Battery life', 'casing', 'backlit keyboard', 'Applications', 'memory stick', 'Price', 'repair', '\"sales\" team', 'tech guy', 'iChat', 'Photobooth', 'garage band', 'power light', 'hard drive light', 'rubber enclosure', 'multi-touch gestures', 'tracking area', 'suite of software', 'usb devices', 'Microsoft office for the mac', 'syncing', '30\" HD Monitor', 'clock in BIOS setup', 'WARRANTY SERVICE', 'Customer Service number', 'talking to a technician', 'Drivers', 'BIOS update', 'HP Technical Support', 'virus scan', '9 punds', 'Toshiba Warranty', 'Quality', 'managing personal files', 'force quit', 'VMWare program', 'find files', 'performace', 'opening my Documents folder', 'glass touchpad', 'external speaker', 'Microsoft software', 'delete  key', 'editing', 'phone assistance', 'genius bar', 'movie playing', 'word editing', 'Office Max\\'s \"Max Assurance\"', 'iMac backup disc', 'battery timer', 'Temperatures', 'Core Processing Unit temperatures', 'virus protection for Mac', 'LG notebook service center', 'responds', 'representive at Microsoft', 'WIndows 7', \"Dell's customer disservice\", 'quad core I7', 'sales associate', 'Windows applications', 'virus program', 'weighed', 'seven pounds', 'bag', 'style', 'sales', 'DELL SUPPORT', 'configuration of \"extra key\"', 'pricetag', 'vga port', 'volume', 'look and feel standpoint', 'Mozzilla firfox', 'fingerprint reader driver', 'Microsoft office', 'Resolution', 'built-in mic', 'cam', 'board', 'connector', 'ethernet', 'drag and drop feature', 'sales tax', 'software packages', 'Size', 'external monitor', 'base installation', 'manuf', 'AMD Turin processor', 'Intel', 'start menu', 'bluray read/write drive', 'service tech', 'tech store', 'surface', 'Snow Leopard X', 'sound output quality', 'techie', 'Toshiba online help', 'service life', 'stock screen', 'gray color', 'volume buttons', 'computing', 'protector', 'key pad', 'magnetic plug-in power charging power cord', 'Geek Squad', 'graphics quality', 'service department', 'warrentys', 'CD drive', 'human interface', 'inbuilt applications', 'Software', 'body', 'i5', 'firewall', 'Apple team', 'video chat', 'installation time', 'abilitiy', 'spotlight search', 'wireless system', 'Apple support', 'adding the bluetooth', 'graphic power', 'Adobe Creative apps', 'materials', 'Tech support', 'POWER SUPPLY', 'Windows XP SP2', 'Fingerprint reader', 'techs at HP', 'audio', 'spec', 'graphics chip', 'ground loop isolator', 'price range', 'leading edge', 'bloatware', 'Maximum sound', 'Bootcamp', 'action pack games', 'after sales support', 'display screen', 'acer arcade', 'life', 'system performance', 'linux based os', 'shipping carton', 'OSX 16', 'Intel Core processors', 'price premium', 'product and help aftermarket', 'Microsoft word', 'usb ports', 'sd memory card reader', 'sd memory car expansion', 'LaCie 2Big external drive', 'firewire 800 interface', 'Time Machine', 'extra features', 'windows 7 home premium', 'Acer screen', 'USB port', 'fires up', 'online tutorial videos', 'image', 'soud', 'Windows 7 Professional', 'power cords', 'multi-touch features', 'clicking buttons', 'wired lan', 'hard reboot', 'Apple care', 'font', 'plastic\\xa0pieces', '2GB RAM stick', 'Microsoft Word for Mac', 'WARRANTY COMPANY', 'cusromer service center', 'aluminum body', 'playing', 'dock', 'working', 'i7', 'Boots up', 'tech issues', 'Photo Booth', 'video-editing', 'movie-making', 'photo management', 'music', 'school or office use', \"burn cd's\", '17 inch screen', 'Drivers/Applications DVD', 'Launch Manager', 'glass screen', 'switchable graphic card', 'technical support', 'BOOT MGR', 'recovery cd', 'mouse buttons', 'HDD', 'rails', 'Games', 'home use', 'business use', 'MS Office apps', 'Nortons virus scan', 'frame', 'loaded', 'key broad', 'repair \"depot\"', 'school use', 'navigating', 'left mouse key', 'costed', 'technical service for dell', 'system clock', 'securitysoftware', 'driver updates', '15 inch', 'Product support', 'casing of the power cord', 'internet signals', 'multiple page viewer', 'Office programs', 'wifi', 'TYPING', 'temp', 'Windows operating system', 'processor speed', 'thunderbolt port', 'lcd screen', 'Images', 'windows vista', 'windows xp', 'Adobe Flash player', 'Internet Explore', 'update', '4GB stick of RAM', 'touch control buttons', 'iWeb', 'system board', 'navigation', 'DELL Customer Service', 'RMA service', 'Design', 'screen/video resolution', 'Dreamweaver', 'Final Cut Pro 7', 'MSN Messenger', 'Apple applications', 'gigs', '17-inch screen', 'DVD', 'CD burners', 'uploading photos', 'creating presentations', '12 cell battery', 'power adapter plug', 'TAB', 'extended warrenty', 'TFT panel', 'Navigation', 'Windows operating systems', 'bulk', 'music software', 'combined touch pad and clicker', 'Unibody construction', 'screen hinges', 'BATTERY', 'STORAGE LIFE', 'SERVICE', 'Nvidia chipset', 'Programs', 'CHARGE TIME', 'consistancy', 'key bindings', '10-key', '500gb hard drive', 'USB output', 'wireless mouse', 'windows disc', 'disk throughput', 'spinning beachball', 'wireless internet access', 'screen resolutions', 'ILife', 'screen resolution', 'Snow Leopard', 'Office Mac applications', 'Excel', 'spinning wheel', '18.4\" screen', 'regular layout keyboard', 'Support', 'online chat service', 'VHS', 'Mac version of Microsoft Office', 'starting-up time', 'operates', 'pictures', 'transporting', 'network capability', 'wifi card', 'printer', 'repair service', 'customer service agents', 'AfterEffects programs', 'dependability', 'mouse button', 'load', 'webpages', 'OpenOffice', 'PRODUCT KEY', 'one touch keys', 'Delivery', 'stability', 'video editing', 'mobile video editing', 'imovie program', 'control buttons', 'Processor', 'patches', 'system memory', 'radeon 5850', 'DDR5', 'DDR3', 'OS (Vista)', 'pop up windows', 'web programming software', 'pop ups', 'Memory', '3G network', 'Web access', 'design based programs', 'Adobe Creative Suite', 'companies', 'customer service', 'HDD cover', 'Spy ware', 'Nortell', 'Setting', 'pixel sizes', 'pre installed software update', 'customer services', 'toshiba customer services', 'space bar', 'performing', 'booting', 'imail', 'imovie', 'transport', 'hard disk capacity', 'Keys', 'gaming look', 'gaming performance', 'volume control', 'internet connectivity', 'USB wireless card', 'discharges', 'compatibility', 'stand', 'heat sink', 'Webcam', 'trend micro', 'antiviral program', 'plastic piece', 'usb port wires', 'case design', 'connection', 'pricing', 'built-in wireless', 'install', 'uninstall\\xa0', 'noise', 'IWORKS', 'Itunes', 'application', 'Boot Camp', 'Applecare', 'cad programs', 'bootcamp', 'right click key', 'full charge', 'cordless mouse', 'Toshiba tech support', 'online chat', 'full service', 'letter A', 'after sales service', 'recovey disk', 'capacity', 'warranty service to Toshiba', 'screens', 'downloads', 'LED backlit display', 'aesthetics', 'connect quality', 'headphone', 'mic jack', 'connection with the internet', 'booting up', 'shutting down', 'Dashboard', 'return policy', 'affordability', 'hook to my wireless network', 'aluminum style', 'nvidia 9800', 'arm piece', '1-year-warranty', 'word', 'word processer', 'performance specs', 'quality control', 'touch-mouse', 'numeric pad', 'cover for the DVD drive', 'arm velcro', '2 GB of RAM', 'versitility', 'hinge design', 'browsers', 'Charger', 'screen graphics', 'clarity', 'sharpness', 'safety feature', 'unibody design', 'BOOTING UP', 'one-year warranty', 'services', 'Bluetooth 3', 'fan blade', 'external harddrives', 'functionality', 'simplicity', 'looking', 'mouse keys', 'mute', 'color reproduction', \"Sony 'Certified' technician\", 'proprietary software', 'Apple Care plan', 'video games', 'trial software', 'Graphics', 'internet interfaces', 'black keyboard', 'software options', 'functioning', 'grafics card', 'LED backlit screen', '8GB RAM', 'instructions', 'gadgets', 'disk image', 'word processing program', 'usage', 'MacOSX', 'dual-core', 'quad-core', '22\" Monitor', 'default background', 'island backlit keyboard', 'multi-touch mouse', 'spreadsheets', 'presentations', 'built it web cam', 'performed', 'graphics cards', 'bluray player', 'book', 'systems', 'media', 'thermal paste', 'internals', 'facial recognition', 'windows logon', 'online service', 'fans', 'preformed', 'windows OS', 'iDVD', 'play', 'Intel i processors', 'sound quality via USB', 'Windows XP drivers', 'sound card', 'Google Chrome', 'PRICE', 'art aspect', 'pre-loaded Norton Firewall/Security program', 'USB connect', 'multi-touch trackpad', 'System', 'Apple keyboard', \"PC's keyboard\", 'power cord', 'techies', 'Sony Sonic Stage software', 'Docking port', 'bluetooth enabled', 'Powerpoint program', 'customer service rep', 'genius bar staff', 'non-dedicated graphics card', 'Mouse Cable', 'RAM slots', 'HDD Bays', '16GB RAM support', 'ASUS TECH SUPPORT', 'mouse on the pad', 'left button', 'built in tools', 'Leopard running system', 'LG service center', 'Material', 'Specs', 'photo booth', 'multi-touch track pad', 'Hard disk', 'hard disk space', 'internal hard disk', 'connects to WIFI', 'mainboard', '500gb external hard drive', 'wireless card', 'accessories', 'playing games', 'equipment', 'wt', 'Apple navigation', 'Sound card', 'desktop keyboard', 'drivers/applications DVD', 'Operating System', 'motherboards', 'AC plug', 'Peformance', 'flexibility', 'S-video port', 'Iphoto', 'Senior Tech', 'volume wheel', 'sound quality', 'manual', 'sensitivity', 'core applications', 'hook up to other wireless networks', 'shift key', 'rep', 'standard os cd', 'proprietary hardware drivers', 'programm', 'response', 'Internet focused activity', 'charges', 'iBook backup', 'firewire connection', 'keyboard shortcuts', 'shortcuts', 'windows media', 'replacement charger', 'windows system', 'printer software', 'seventeen inch screen', 'technician', 'power brick', 'screen quality', '17\" inch screen', 'price-point', 'MOTHERBOARD', 'retail price', 'Microsoft Student Edition', 'every day computing', 'LED monitor', 'backlit keys', 'Safari internet browser', 'firefox', 'support line', 'Windows 7 starter', 'KEYBOARD FUNCTION', 'DVD drive', 'microphone', 'security-prone OS', 'firewire cable system', 'iBook', 'shipment', 'quicklook', 'browsing', 'PhotoBooth', 'built-in camera', 'Chrome', 'prices', 'external dvd drive', 'external drive', 'PORTABILITY', 'PROCESSING', 'Supplied software', 'apple applications', 'kernal', 'upgraded memory', 'starts', 'Keynotes', 'dvd drive', 'key board', 'ease', 'connection card', '4GB of RAM', '8GB of RAM', 'game', 'Browsing', 'itunes', 'Toshiba customer services', 'internet capabilities', 'High definition quality', 'Beast graphics', 'wall charger', 'windows vista system', 'Function keys', 'Screen size', 'push button', 'lid', 'Pentium 4', '1 GB ram', 'interface device', 'included program', 'expese', 'Microsoft Office apps', 'internet use', 'aero', 'machined aluminum frame', 'parallels type program', 'ATI graphics card', 'Intel built-in card', 'power supply cord', 'Applecare warranty plan', '13 inch', 'Final Cut Pro', 'Mac Snow Leopard O/S', 'Win XP', 'Visa', 'Win7', 'Startup', 'shutdown', 'resume from sleep', 'fit', 'external keyboard', 'windows 7 system', 'wheel', 'flatline keyboard', 'ergonomics', 'connections', 'Applecare tech support', 'power plug', 'resolution on the screen', 'AC power port', 'running system', 'force', 'durability', 'Vista Business', 'size of the screen', 'tote', 'Win 7', '2GB stick of memory', 'Norton', 'command prompt', 'programming', 'icon list', 'desktop icons', 'apple care', 'delivery service', 'picture quality', 'i3 processor', 'resolution of the screen', 'screen brightness', 'motherboard chip', 'Windows Vista Home Premium', '1GB of RAM', 'brightness', 'electronic fuzz sound', 'headphone jack', 'graphics editing', 'complex data analysis', 'costs', 'hardcopy manuel', 'visual', 'plate', 'mouse command buttons', 'speeds', 'lighted keyboard', 'operation system', 'Warrenty', 'agents', 'three year warranty', 'Nvidia grafics card', 'left \"mouse\" button', 'type', '15\"', '17\"', 'virus protection programs for a Mac', 'HDMI', 'wireless switch', 'technical person', 'driver/application DVD', 'photo detection software', 'mouse pointer', 'engineering design', 'hinges', 'pointer', 'life span', 'looks', 'my toshiba feature', 'layout', 'one of the programs', 'iwork', 'office', 'document creation', 'button below the mouse pad', 'lightscribe', 'photo application', '17 ince screen', 'warranty period', 'Performance', 'Battery Life', 'Value', 'WiFi', 'update programs', 'MS applications', 'Internet tabs', 'noises', 'bottom of the computer', 'repair technician']\n"
          ],
          "name": "stdout"
        }
      ]
    },
    {
      "cell_type": "code",
      "metadata": {
        "id": "4ZviMlsY0sY5"
      },
      "source": [
        "#get data frame\n",
        "df_train = get_data_frame(final_train_text_list,train_aspects_list, most_common_aspect)"
      ],
      "execution_count": null,
      "outputs": []
    },
    {
      "cell_type": "code",
      "metadata": {
        "colab": {
          "base_uri": "https://localhost:8080/",
          "height": 848
        },
        "id": "uNoDLY5m0wt0",
        "outputId": "d82bb5af-d500-4c41-988b-5261bb6e01c0"
      },
      "source": [
        "# get expect term df\n",
        "df_train_aspect = get_aspect_data_frame(df_train, most_common_aspect)\n",
        "df_train_aspect.head()"
      ],
      "execution_count": null,
      "outputs": [
        {
          "output_type": "execute_result",
          "data": {
            "text/html": [
              "<div>\n",
              "<style scoped>\n",
              "    .dataframe tbody tr th:only-of-type {\n",
              "        vertical-align: middle;\n",
              "    }\n",
              "\n",
              "    .dataframe tbody tr th {\n",
              "        vertical-align: top;\n",
              "    }\n",
              "\n",
              "    .dataframe thead th {\n",
              "        text-align: right;\n",
              "    }\n",
              "</style>\n",
              "<table border=\"1\" class=\"dataframe\">\n",
              "  <thead>\n",
              "    <tr style=\"text-align: right;\">\n",
              "      <th></th>\n",
              "      <th>Text</th>\n",
              "      <th>cord</th>\n",
              "      <th>battery life</th>\n",
              "      <th>service center</th>\n",
              "      <th>\"sales\" team</th>\n",
              "      <th>tech guy</th>\n",
              "      <th>quality</th>\n",
              "      <th>GUI</th>\n",
              "      <th>applications</th>\n",
              "      <th>use</th>\n",
              "      <th>start up</th>\n",
              "      <th>features</th>\n",
              "      <th>iChat</th>\n",
              "      <th>Photobooth</th>\n",
              "      <th>garage band</th>\n",
              "      <th>screen</th>\n",
              "      <th>power light</th>\n",
              "      <th>hard drive light</th>\n",
              "      <th>battery</th>\n",
              "      <th>rubber enclosure</th>\n",
              "      <th>edge</th>\n",
              "      <th>multi-touch gestures</th>\n",
              "      <th>tracking area</th>\n",
              "      <th>external mouse</th>\n",
              "      <th>gaming</th>\n",
              "      <th>suite of software</th>\n",
              "      <th>speed</th>\n",
              "      <th>Windows 7</th>\n",
              "      <th>usb devices</th>\n",
              "      <th>keyboard</th>\n",
              "      <th>software</th>\n",
              "      <th>system</th>\n",
              "      <th>Microsoft office for the mac</th>\n",
              "      <th>syncing</th>\n",
              "      <th>30\" HD Monitor</th>\n",
              "      <th>boot up</th>\n",
              "      <th>service</th>\n",
              "      <th>operating system</th>\n",
              "      <th>preloaded software</th>\n",
              "      <th>price</th>\n",
              "      <th>...</th>\n",
              "      <th>15\"</th>\n",
              "      <th>17\"</th>\n",
              "      <th>feel</th>\n",
              "      <th>virus protection programs for a Mac</th>\n",
              "      <th>HDMI</th>\n",
              "      <th>wireless switch</th>\n",
              "      <th>technical person</th>\n",
              "      <th>driver/application DVD</th>\n",
              "      <th>photo detection software</th>\n",
              "      <th>mouse pointer</th>\n",
              "      <th>engineering design</th>\n",
              "      <th>hinges</th>\n",
              "      <th>Customer Service</th>\n",
              "      <th>pointer</th>\n",
              "      <th>life span</th>\n",
              "      <th>looks</th>\n",
              "      <th>my toshiba feature</th>\n",
              "      <th>layout</th>\n",
              "      <th>one of the programs</th>\n",
              "      <th>iwork</th>\n",
              "      <th>office</th>\n",
              "      <th>document creation</th>\n",
              "      <th>memory stick</th>\n",
              "      <th>button below the mouse pad</th>\n",
              "      <th>lightscribe</th>\n",
              "      <th>photo application</th>\n",
              "      <th>17 ince screen</th>\n",
              "      <th>warranty period</th>\n",
              "      <th>Performance</th>\n",
              "      <th>Battery Life</th>\n",
              "      <th>Price</th>\n",
              "      <th>Value</th>\n",
              "      <th>WiFi</th>\n",
              "      <th>update programs</th>\n",
              "      <th>MS applications</th>\n",
              "      <th>Internet tabs</th>\n",
              "      <th>noises</th>\n",
              "      <th>bottom of the computer</th>\n",
              "      <th>repair technician</th>\n",
              "      <th>repair</th>\n",
              "    </tr>\n",
              "  </thead>\n",
              "  <tbody>\n",
              "    <tr>\n",
              "      <th>0</th>\n",
              "      <td>charge night skip taking cord good battery life</td>\n",
              "      <td>1.0</td>\n",
              "      <td>1.0</td>\n",
              "      <td>0.0</td>\n",
              "      <td>0.0</td>\n",
              "      <td>0.0</td>\n",
              "      <td>0.0</td>\n",
              "      <td>0.0</td>\n",
              "      <td>0.0</td>\n",
              "      <td>0.0</td>\n",
              "      <td>0.0</td>\n",
              "      <td>0.0</td>\n",
              "      <td>0.0</td>\n",
              "      <td>0.0</td>\n",
              "      <td>0.0</td>\n",
              "      <td>0.0</td>\n",
              "      <td>0.0</td>\n",
              "      <td>0.0</td>\n",
              "      <td>0.0</td>\n",
              "      <td>0.0</td>\n",
              "      <td>0.0</td>\n",
              "      <td>0.0</td>\n",
              "      <td>0.0</td>\n",
              "      <td>0.0</td>\n",
              "      <td>0.0</td>\n",
              "      <td>0.0</td>\n",
              "      <td>0.0</td>\n",
              "      <td>0.0</td>\n",
              "      <td>0.0</td>\n",
              "      <td>0.0</td>\n",
              "      <td>0.0</td>\n",
              "      <td>0.0</td>\n",
              "      <td>0.0</td>\n",
              "      <td>0.0</td>\n",
              "      <td>0.0</td>\n",
              "      <td>0.0</td>\n",
              "      <td>0.0</td>\n",
              "      <td>0.0</td>\n",
              "      <td>0.0</td>\n",
              "      <td>0.0</td>\n",
              "      <td>...</td>\n",
              "      <td>0.0</td>\n",
              "      <td>0.0</td>\n",
              "      <td>0.0</td>\n",
              "      <td>0.0</td>\n",
              "      <td>0.0</td>\n",
              "      <td>0.0</td>\n",
              "      <td>0.0</td>\n",
              "      <td>0.0</td>\n",
              "      <td>0.0</td>\n",
              "      <td>0.0</td>\n",
              "      <td>0.0</td>\n",
              "      <td>0.0</td>\n",
              "      <td>0.0</td>\n",
              "      <td>0.0</td>\n",
              "      <td>0.0</td>\n",
              "      <td>0.0</td>\n",
              "      <td>0.0</td>\n",
              "      <td>0.0</td>\n",
              "      <td>0.0</td>\n",
              "      <td>0.0</td>\n",
              "      <td>0.0</td>\n",
              "      <td>0.0</td>\n",
              "      <td>0.0</td>\n",
              "      <td>0.0</td>\n",
              "      <td>0.0</td>\n",
              "      <td>0.0</td>\n",
              "      <td>0.0</td>\n",
              "      <td>0.0</td>\n",
              "      <td>0.0</td>\n",
              "      <td>0.0</td>\n",
              "      <td>0.0</td>\n",
              "      <td>0.0</td>\n",
              "      <td>0.0</td>\n",
              "      <td>0.0</td>\n",
              "      <td>0.0</td>\n",
              "      <td>0.0</td>\n",
              "      <td>0.0</td>\n",
              "      <td>0.0</td>\n",
              "      <td>0.0</td>\n",
              "      <td>0.0</td>\n",
              "    </tr>\n",
              "    <tr>\n",
              "      <th>1</th>\n",
              "      <td>bought hp pavilion dv4-1222nr laptop many problems computer</td>\n",
              "      <td>0.0</td>\n",
              "      <td>0.0</td>\n",
              "      <td>0.0</td>\n",
              "      <td>0.0</td>\n",
              "      <td>0.0</td>\n",
              "      <td>0.0</td>\n",
              "      <td>0.0</td>\n",
              "      <td>0.0</td>\n",
              "      <td>0.0</td>\n",
              "      <td>0.0</td>\n",
              "      <td>0.0</td>\n",
              "      <td>0.0</td>\n",
              "      <td>0.0</td>\n",
              "      <td>0.0</td>\n",
              "      <td>0.0</td>\n",
              "      <td>0.0</td>\n",
              "      <td>0.0</td>\n",
              "      <td>0.0</td>\n",
              "      <td>0.0</td>\n",
              "      <td>0.0</td>\n",
              "      <td>0.0</td>\n",
              "      <td>0.0</td>\n",
              "      <td>0.0</td>\n",
              "      <td>0.0</td>\n",
              "      <td>0.0</td>\n",
              "      <td>0.0</td>\n",
              "      <td>0.0</td>\n",
              "      <td>0.0</td>\n",
              "      <td>0.0</td>\n",
              "      <td>0.0</td>\n",
              "      <td>0.0</td>\n",
              "      <td>0.0</td>\n",
              "      <td>0.0</td>\n",
              "      <td>0.0</td>\n",
              "      <td>0.0</td>\n",
              "      <td>0.0</td>\n",
              "      <td>0.0</td>\n",
              "      <td>0.0</td>\n",
              "      <td>0.0</td>\n",
              "      <td>...</td>\n",
              "      <td>0.0</td>\n",
              "      <td>0.0</td>\n",
              "      <td>0.0</td>\n",
              "      <td>0.0</td>\n",
              "      <td>0.0</td>\n",
              "      <td>0.0</td>\n",
              "      <td>0.0</td>\n",
              "      <td>0.0</td>\n",
              "      <td>0.0</td>\n",
              "      <td>0.0</td>\n",
              "      <td>0.0</td>\n",
              "      <td>0.0</td>\n",
              "      <td>0.0</td>\n",
              "      <td>0.0</td>\n",
              "      <td>0.0</td>\n",
              "      <td>0.0</td>\n",
              "      <td>0.0</td>\n",
              "      <td>0.0</td>\n",
              "      <td>0.0</td>\n",
              "      <td>0.0</td>\n",
              "      <td>0.0</td>\n",
              "      <td>0.0</td>\n",
              "      <td>0.0</td>\n",
              "      <td>0.0</td>\n",
              "      <td>0.0</td>\n",
              "      <td>0.0</td>\n",
              "      <td>0.0</td>\n",
              "      <td>0.0</td>\n",
              "      <td>0.0</td>\n",
              "      <td>0.0</td>\n",
              "      <td>0.0</td>\n",
              "      <td>0.0</td>\n",
              "      <td>0.0</td>\n",
              "      <td>0.0</td>\n",
              "      <td>0.0</td>\n",
              "      <td>0.0</td>\n",
              "      <td>0.0</td>\n",
              "      <td>0.0</td>\n",
              "      <td>0.0</td>\n",
              "      <td>0.0</td>\n",
              "    </tr>\n",
              "    <tr>\n",
              "      <th>2</th>\n",
              "      <td>tech guy said service center 1-to-1 exchange direct concern sales team retail shop bought netbook</td>\n",
              "      <td>0.0</td>\n",
              "      <td>0.0</td>\n",
              "      <td>1.0</td>\n",
              "      <td>1.0</td>\n",
              "      <td>1.0</td>\n",
              "      <td>0.0</td>\n",
              "      <td>0.0</td>\n",
              "      <td>0.0</td>\n",
              "      <td>0.0</td>\n",
              "      <td>0.0</td>\n",
              "      <td>0.0</td>\n",
              "      <td>0.0</td>\n",
              "      <td>0.0</td>\n",
              "      <td>0.0</td>\n",
              "      <td>0.0</td>\n",
              "      <td>0.0</td>\n",
              "      <td>0.0</td>\n",
              "      <td>0.0</td>\n",
              "      <td>0.0</td>\n",
              "      <td>0.0</td>\n",
              "      <td>0.0</td>\n",
              "      <td>0.0</td>\n",
              "      <td>0.0</td>\n",
              "      <td>0.0</td>\n",
              "      <td>0.0</td>\n",
              "      <td>0.0</td>\n",
              "      <td>0.0</td>\n",
              "      <td>0.0</td>\n",
              "      <td>0.0</td>\n",
              "      <td>0.0</td>\n",
              "      <td>0.0</td>\n",
              "      <td>0.0</td>\n",
              "      <td>0.0</td>\n",
              "      <td>0.0</td>\n",
              "      <td>0.0</td>\n",
              "      <td>0.0</td>\n",
              "      <td>0.0</td>\n",
              "      <td>0.0</td>\n",
              "      <td>0.0</td>\n",
              "      <td>...</td>\n",
              "      <td>0.0</td>\n",
              "      <td>0.0</td>\n",
              "      <td>0.0</td>\n",
              "      <td>0.0</td>\n",
              "      <td>0.0</td>\n",
              "      <td>0.0</td>\n",
              "      <td>0.0</td>\n",
              "      <td>0.0</td>\n",
              "      <td>0.0</td>\n",
              "      <td>0.0</td>\n",
              "      <td>0.0</td>\n",
              "      <td>0.0</td>\n",
              "      <td>0.0</td>\n",
              "      <td>0.0</td>\n",
              "      <td>0.0</td>\n",
              "      <td>0.0</td>\n",
              "      <td>0.0</td>\n",
              "      <td>0.0</td>\n",
              "      <td>0.0</td>\n",
              "      <td>0.0</td>\n",
              "      <td>0.0</td>\n",
              "      <td>0.0</td>\n",
              "      <td>0.0</td>\n",
              "      <td>0.0</td>\n",
              "      <td>0.0</td>\n",
              "      <td>0.0</td>\n",
              "      <td>0.0</td>\n",
              "      <td>0.0</td>\n",
              "      <td>0.0</td>\n",
              "      <td>0.0</td>\n",
              "      <td>0.0</td>\n",
              "      <td>0.0</td>\n",
              "      <td>0.0</td>\n",
              "      <td>0.0</td>\n",
              "      <td>0.0</td>\n",
              "      <td>0.0</td>\n",
              "      <td>0.0</td>\n",
              "      <td>0.0</td>\n",
              "      <td>0.0</td>\n",
              "      <td>0.0</td>\n",
              "    </tr>\n",
              "    <tr>\n",
              "      <th>3</th>\n",
              "      <td>investigated netbooks saw toshiba nb305-n410bl</td>\n",
              "      <td>0.0</td>\n",
              "      <td>0.0</td>\n",
              "      <td>0.0</td>\n",
              "      <td>0.0</td>\n",
              "      <td>0.0</td>\n",
              "      <td>0.0</td>\n",
              "      <td>0.0</td>\n",
              "      <td>0.0</td>\n",
              "      <td>0.0</td>\n",
              "      <td>0.0</td>\n",
              "      <td>0.0</td>\n",
              "      <td>0.0</td>\n",
              "      <td>0.0</td>\n",
              "      <td>0.0</td>\n",
              "      <td>0.0</td>\n",
              "      <td>0.0</td>\n",
              "      <td>0.0</td>\n",
              "      <td>0.0</td>\n",
              "      <td>0.0</td>\n",
              "      <td>0.0</td>\n",
              "      <td>0.0</td>\n",
              "      <td>0.0</td>\n",
              "      <td>0.0</td>\n",
              "      <td>0.0</td>\n",
              "      <td>0.0</td>\n",
              "      <td>0.0</td>\n",
              "      <td>0.0</td>\n",
              "      <td>0.0</td>\n",
              "      <td>0.0</td>\n",
              "      <td>0.0</td>\n",
              "      <td>0.0</td>\n",
              "      <td>0.0</td>\n",
              "      <td>0.0</td>\n",
              "      <td>0.0</td>\n",
              "      <td>0.0</td>\n",
              "      <td>0.0</td>\n",
              "      <td>0.0</td>\n",
              "      <td>0.0</td>\n",
              "      <td>0.0</td>\n",
              "      <td>...</td>\n",
              "      <td>0.0</td>\n",
              "      <td>0.0</td>\n",
              "      <td>0.0</td>\n",
              "      <td>0.0</td>\n",
              "      <td>0.0</td>\n",
              "      <td>0.0</td>\n",
              "      <td>0.0</td>\n",
              "      <td>0.0</td>\n",
              "      <td>0.0</td>\n",
              "      <td>0.0</td>\n",
              "      <td>0.0</td>\n",
              "      <td>0.0</td>\n",
              "      <td>0.0</td>\n",
              "      <td>0.0</td>\n",
              "      <td>0.0</td>\n",
              "      <td>0.0</td>\n",
              "      <td>0.0</td>\n",
              "      <td>0.0</td>\n",
              "      <td>0.0</td>\n",
              "      <td>0.0</td>\n",
              "      <td>0.0</td>\n",
              "      <td>0.0</td>\n",
              "      <td>0.0</td>\n",
              "      <td>0.0</td>\n",
              "      <td>0.0</td>\n",
              "      <td>0.0</td>\n",
              "      <td>0.0</td>\n",
              "      <td>0.0</td>\n",
              "      <td>0.0</td>\n",
              "      <td>0.0</td>\n",
              "      <td>0.0</td>\n",
              "      <td>0.0</td>\n",
              "      <td>0.0</td>\n",
              "      <td>0.0</td>\n",
              "      <td>0.0</td>\n",
              "      <td>0.0</td>\n",
              "      <td>0.0</td>\n",
              "      <td>0.0</td>\n",
              "      <td>0.0</td>\n",
              "      <td>0.0</td>\n",
              "    </tr>\n",
              "    <tr>\n",
              "      <th>4</th>\n",
              "      <td>day presentation seminar large conference town- lots people little time prep set computer projector etc</td>\n",
              "      <td>0.0</td>\n",
              "      <td>0.0</td>\n",
              "      <td>0.0</td>\n",
              "      <td>0.0</td>\n",
              "      <td>0.0</td>\n",
              "      <td>0.0</td>\n",
              "      <td>0.0</td>\n",
              "      <td>0.0</td>\n",
              "      <td>0.0</td>\n",
              "      <td>0.0</td>\n",
              "      <td>0.0</td>\n",
              "      <td>0.0</td>\n",
              "      <td>0.0</td>\n",
              "      <td>0.0</td>\n",
              "      <td>0.0</td>\n",
              "      <td>0.0</td>\n",
              "      <td>0.0</td>\n",
              "      <td>0.0</td>\n",
              "      <td>0.0</td>\n",
              "      <td>0.0</td>\n",
              "      <td>0.0</td>\n",
              "      <td>0.0</td>\n",
              "      <td>0.0</td>\n",
              "      <td>0.0</td>\n",
              "      <td>0.0</td>\n",
              "      <td>0.0</td>\n",
              "      <td>0.0</td>\n",
              "      <td>0.0</td>\n",
              "      <td>0.0</td>\n",
              "      <td>0.0</td>\n",
              "      <td>0.0</td>\n",
              "      <td>0.0</td>\n",
              "      <td>0.0</td>\n",
              "      <td>0.0</td>\n",
              "      <td>0.0</td>\n",
              "      <td>0.0</td>\n",
              "      <td>0.0</td>\n",
              "      <td>0.0</td>\n",
              "      <td>0.0</td>\n",
              "      <td>...</td>\n",
              "      <td>0.0</td>\n",
              "      <td>0.0</td>\n",
              "      <td>0.0</td>\n",
              "      <td>0.0</td>\n",
              "      <td>0.0</td>\n",
              "      <td>0.0</td>\n",
              "      <td>0.0</td>\n",
              "      <td>0.0</td>\n",
              "      <td>0.0</td>\n",
              "      <td>0.0</td>\n",
              "      <td>0.0</td>\n",
              "      <td>0.0</td>\n",
              "      <td>0.0</td>\n",
              "      <td>0.0</td>\n",
              "      <td>0.0</td>\n",
              "      <td>0.0</td>\n",
              "      <td>0.0</td>\n",
              "      <td>0.0</td>\n",
              "      <td>0.0</td>\n",
              "      <td>0.0</td>\n",
              "      <td>0.0</td>\n",
              "      <td>0.0</td>\n",
              "      <td>0.0</td>\n",
              "      <td>0.0</td>\n",
              "      <td>0.0</td>\n",
              "      <td>0.0</td>\n",
              "      <td>0.0</td>\n",
              "      <td>0.0</td>\n",
              "      <td>0.0</td>\n",
              "      <td>0.0</td>\n",
              "      <td>0.0</td>\n",
              "      <td>0.0</td>\n",
              "      <td>0.0</td>\n",
              "      <td>0.0</td>\n",
              "      <td>0.0</td>\n",
              "      <td>0.0</td>\n",
              "      <td>0.0</td>\n",
              "      <td>0.0</td>\n",
              "      <td>0.0</td>\n",
              "      <td>0.0</td>\n",
              "    </tr>\n",
              "  </tbody>\n",
              "</table>\n",
              "<p>5 rows × 1001 columns</p>\n",
              "</div>"
            ],
            "text/plain": [
              "                                                                                                      Text  ...  repair\n",
              "0  charge night skip taking cord good battery life                                                          ...  0.0   \n",
              "1  bought hp pavilion dv4-1222nr laptop many problems computer                                              ...  0.0   \n",
              "2  tech guy said service center 1-to-1 exchange direct concern sales team retail shop bought netbook        ...  0.0   \n",
              "3  investigated netbooks saw toshiba nb305-n410bl                                                           ...  0.0   \n",
              "4  day presentation seminar large conference town- lots people little time prep set computer projector etc  ...  0.0   \n",
              "\n",
              "[5 rows x 1001 columns]"
            ]
          },
          "metadata": {
            "tags": []
          },
          "execution_count": 20
        }
      ]
    },
    {
      "cell_type": "code",
      "metadata": {
        "colab": {
          "base_uri": "https://localhost:8080/",
          "height": 304
        },
        "id": "Efh5J9Ro0z-z",
        "outputId": "be8b9fb5-8d5d-4310-afa6-cad531fa7391"
      },
      "source": [
        "df_train_aspect = df_train_aspect.reindex(sorted(df_train_aspect.columns), axis=1)\n",
        "df_train_aspect.head()"
      ],
      "execution_count": null,
      "outputs": [
        {
          "output_type": "execute_result",
          "data": {
            "text/html": [
              "<div>\n",
              "<style scoped>\n",
              "    .dataframe tbody tr th:only-of-type {\n",
              "        vertical-align: middle;\n",
              "    }\n",
              "\n",
              "    .dataframe tbody tr th {\n",
              "        vertical-align: top;\n",
              "    }\n",
              "\n",
              "    .dataframe thead th {\n",
              "        text-align: right;\n",
              "    }\n",
              "</style>\n",
              "<table border=\"1\" class=\"dataframe\">\n",
              "  <thead>\n",
              "    <tr style=\"text-align: right;\">\n",
              "      <th></th>\n",
              "      <th>\"sales\" team</th>\n",
              "      <th>1 GB ram</th>\n",
              "      <th>1-year-warranty</th>\n",
              "      <th>10-key</th>\n",
              "      <th>12 cell battery</th>\n",
              "      <th>13 inch</th>\n",
              "      <th>15 inch</th>\n",
              "      <th>15\"</th>\n",
              "      <th>16GB RAM support</th>\n",
              "      <th>17 ince screen</th>\n",
              "      <th>17 inch screen</th>\n",
              "      <th>17\"</th>\n",
              "      <th>17\" inch screen</th>\n",
              "      <th>17-inch screen</th>\n",
              "      <th>18.4\" screen</th>\n",
              "      <th>1GB of RAM</th>\n",
              "      <th>2 GB of RAM</th>\n",
              "      <th>22\" Monitor</th>\n",
              "      <th>2GB RAM stick</th>\n",
              "      <th>2GB stick of memory</th>\n",
              "      <th>3 year warranty</th>\n",
              "      <th>30\" HD Monitor</th>\n",
              "      <th>3G network</th>\n",
              "      <th>4GB of RAM</th>\n",
              "      <th>4GB stick of RAM</th>\n",
              "      <th>500gb external hard drive</th>\n",
              "      <th>500gb hard drive</th>\n",
              "      <th>8GB RAM</th>\n",
              "      <th>8GB of RAM</th>\n",
              "      <th>9 punds</th>\n",
              "      <th>AC plug</th>\n",
              "      <th>AC power port</th>\n",
              "      <th>AMD Turin processor</th>\n",
              "      <th>ASUS TECH SUPPORT</th>\n",
              "      <th>ATI graphics card</th>\n",
              "      <th>Acer screen</th>\n",
              "      <th>Adobe Creative Suite</th>\n",
              "      <th>Adobe Creative apps</th>\n",
              "      <th>Adobe Flash player</th>\n",
              "      <th>AfterEffects programs</th>\n",
              "      <th>...</th>\n",
              "      <th>warrentys</th>\n",
              "      <th>watching movies</th>\n",
              "      <th>web browsing</th>\n",
              "      <th>web cam</th>\n",
              "      <th>web programming software</th>\n",
              "      <th>webcam</th>\n",
              "      <th>webpages</th>\n",
              "      <th>weighed</th>\n",
              "      <th>weight</th>\n",
              "      <th>wheel</th>\n",
              "      <th>wifi</th>\n",
              "      <th>wifi card</th>\n",
              "      <th>windows</th>\n",
              "      <th>windows 7</th>\n",
              "      <th>windows 7 home premium</th>\n",
              "      <th>windows 7 system</th>\n",
              "      <th>windows OS</th>\n",
              "      <th>windows disc</th>\n",
              "      <th>windows logon</th>\n",
              "      <th>windows media</th>\n",
              "      <th>windows system</th>\n",
              "      <th>windows vista</th>\n",
              "      <th>windows vista system</th>\n",
              "      <th>windows xp</th>\n",
              "      <th>wired lan</th>\n",
              "      <th>wireless card</th>\n",
              "      <th>wireless internet access</th>\n",
              "      <th>wireless mouse</th>\n",
              "      <th>wireless switch</th>\n",
              "      <th>wireless system</th>\n",
              "      <th>word</th>\n",
              "      <th>word editing</th>\n",
              "      <th>word processer</th>\n",
              "      <th>word processing</th>\n",
              "      <th>word processing program</th>\n",
              "      <th>word processor</th>\n",
              "      <th>work</th>\n",
              "      <th>working</th>\n",
              "      <th>works</th>\n",
              "      <th>wt</th>\n",
              "    </tr>\n",
              "  </thead>\n",
              "  <tbody>\n",
              "    <tr>\n",
              "      <th>0</th>\n",
              "      <td>0.0</td>\n",
              "      <td>0.0</td>\n",
              "      <td>0.0</td>\n",
              "      <td>0.0</td>\n",
              "      <td>0.0</td>\n",
              "      <td>0.0</td>\n",
              "      <td>0.0</td>\n",
              "      <td>0.0</td>\n",
              "      <td>0.0</td>\n",
              "      <td>0.0</td>\n",
              "      <td>0.0</td>\n",
              "      <td>0.0</td>\n",
              "      <td>0.0</td>\n",
              "      <td>0.0</td>\n",
              "      <td>0.0</td>\n",
              "      <td>0.0</td>\n",
              "      <td>0.0</td>\n",
              "      <td>0.0</td>\n",
              "      <td>0.0</td>\n",
              "      <td>0.0</td>\n",
              "      <td>0.0</td>\n",
              "      <td>0.0</td>\n",
              "      <td>0.0</td>\n",
              "      <td>0.0</td>\n",
              "      <td>0.0</td>\n",
              "      <td>0.0</td>\n",
              "      <td>0.0</td>\n",
              "      <td>0.0</td>\n",
              "      <td>0.0</td>\n",
              "      <td>0.0</td>\n",
              "      <td>0.0</td>\n",
              "      <td>0.0</td>\n",
              "      <td>0.0</td>\n",
              "      <td>0.0</td>\n",
              "      <td>0.0</td>\n",
              "      <td>0.0</td>\n",
              "      <td>0.0</td>\n",
              "      <td>0.0</td>\n",
              "      <td>0.0</td>\n",
              "      <td>0.0</td>\n",
              "      <td>...</td>\n",
              "      <td>0.0</td>\n",
              "      <td>0.0</td>\n",
              "      <td>0.0</td>\n",
              "      <td>0.0</td>\n",
              "      <td>0.0</td>\n",
              "      <td>0.0</td>\n",
              "      <td>0.0</td>\n",
              "      <td>0.0</td>\n",
              "      <td>0.0</td>\n",
              "      <td>0.0</td>\n",
              "      <td>0.0</td>\n",
              "      <td>0.0</td>\n",
              "      <td>0.0</td>\n",
              "      <td>0.0</td>\n",
              "      <td>0.0</td>\n",
              "      <td>0.0</td>\n",
              "      <td>0.0</td>\n",
              "      <td>0.0</td>\n",
              "      <td>0.0</td>\n",
              "      <td>0.0</td>\n",
              "      <td>0.0</td>\n",
              "      <td>0.0</td>\n",
              "      <td>0.0</td>\n",
              "      <td>0.0</td>\n",
              "      <td>0.0</td>\n",
              "      <td>0.0</td>\n",
              "      <td>0.0</td>\n",
              "      <td>0.0</td>\n",
              "      <td>0.0</td>\n",
              "      <td>0.0</td>\n",
              "      <td>0.0</td>\n",
              "      <td>0.0</td>\n",
              "      <td>0.0</td>\n",
              "      <td>0.0</td>\n",
              "      <td>0.0</td>\n",
              "      <td>0.0</td>\n",
              "      <td>0.0</td>\n",
              "      <td>0.0</td>\n",
              "      <td>0.0</td>\n",
              "      <td>0.0</td>\n",
              "    </tr>\n",
              "    <tr>\n",
              "      <th>1</th>\n",
              "      <td>0.0</td>\n",
              "      <td>0.0</td>\n",
              "      <td>0.0</td>\n",
              "      <td>0.0</td>\n",
              "      <td>0.0</td>\n",
              "      <td>0.0</td>\n",
              "      <td>0.0</td>\n",
              "      <td>0.0</td>\n",
              "      <td>0.0</td>\n",
              "      <td>0.0</td>\n",
              "      <td>0.0</td>\n",
              "      <td>0.0</td>\n",
              "      <td>0.0</td>\n",
              "      <td>0.0</td>\n",
              "      <td>0.0</td>\n",
              "      <td>0.0</td>\n",
              "      <td>0.0</td>\n",
              "      <td>0.0</td>\n",
              "      <td>0.0</td>\n",
              "      <td>0.0</td>\n",
              "      <td>0.0</td>\n",
              "      <td>0.0</td>\n",
              "      <td>0.0</td>\n",
              "      <td>0.0</td>\n",
              "      <td>0.0</td>\n",
              "      <td>0.0</td>\n",
              "      <td>0.0</td>\n",
              "      <td>0.0</td>\n",
              "      <td>0.0</td>\n",
              "      <td>0.0</td>\n",
              "      <td>0.0</td>\n",
              "      <td>0.0</td>\n",
              "      <td>0.0</td>\n",
              "      <td>0.0</td>\n",
              "      <td>0.0</td>\n",
              "      <td>0.0</td>\n",
              "      <td>0.0</td>\n",
              "      <td>0.0</td>\n",
              "      <td>0.0</td>\n",
              "      <td>0.0</td>\n",
              "      <td>...</td>\n",
              "      <td>0.0</td>\n",
              "      <td>0.0</td>\n",
              "      <td>0.0</td>\n",
              "      <td>0.0</td>\n",
              "      <td>0.0</td>\n",
              "      <td>0.0</td>\n",
              "      <td>0.0</td>\n",
              "      <td>0.0</td>\n",
              "      <td>0.0</td>\n",
              "      <td>0.0</td>\n",
              "      <td>0.0</td>\n",
              "      <td>0.0</td>\n",
              "      <td>0.0</td>\n",
              "      <td>0.0</td>\n",
              "      <td>0.0</td>\n",
              "      <td>0.0</td>\n",
              "      <td>0.0</td>\n",
              "      <td>0.0</td>\n",
              "      <td>0.0</td>\n",
              "      <td>0.0</td>\n",
              "      <td>0.0</td>\n",
              "      <td>0.0</td>\n",
              "      <td>0.0</td>\n",
              "      <td>0.0</td>\n",
              "      <td>0.0</td>\n",
              "      <td>0.0</td>\n",
              "      <td>0.0</td>\n",
              "      <td>0.0</td>\n",
              "      <td>0.0</td>\n",
              "      <td>0.0</td>\n",
              "      <td>0.0</td>\n",
              "      <td>0.0</td>\n",
              "      <td>0.0</td>\n",
              "      <td>0.0</td>\n",
              "      <td>0.0</td>\n",
              "      <td>0.0</td>\n",
              "      <td>0.0</td>\n",
              "      <td>0.0</td>\n",
              "      <td>0.0</td>\n",
              "      <td>0.0</td>\n",
              "    </tr>\n",
              "    <tr>\n",
              "      <th>2</th>\n",
              "      <td>1.0</td>\n",
              "      <td>0.0</td>\n",
              "      <td>0.0</td>\n",
              "      <td>0.0</td>\n",
              "      <td>0.0</td>\n",
              "      <td>0.0</td>\n",
              "      <td>0.0</td>\n",
              "      <td>0.0</td>\n",
              "      <td>0.0</td>\n",
              "      <td>0.0</td>\n",
              "      <td>0.0</td>\n",
              "      <td>0.0</td>\n",
              "      <td>0.0</td>\n",
              "      <td>0.0</td>\n",
              "      <td>0.0</td>\n",
              "      <td>0.0</td>\n",
              "      <td>0.0</td>\n",
              "      <td>0.0</td>\n",
              "      <td>0.0</td>\n",
              "      <td>0.0</td>\n",
              "      <td>0.0</td>\n",
              "      <td>0.0</td>\n",
              "      <td>0.0</td>\n",
              "      <td>0.0</td>\n",
              "      <td>0.0</td>\n",
              "      <td>0.0</td>\n",
              "      <td>0.0</td>\n",
              "      <td>0.0</td>\n",
              "      <td>0.0</td>\n",
              "      <td>0.0</td>\n",
              "      <td>0.0</td>\n",
              "      <td>0.0</td>\n",
              "      <td>0.0</td>\n",
              "      <td>0.0</td>\n",
              "      <td>0.0</td>\n",
              "      <td>0.0</td>\n",
              "      <td>0.0</td>\n",
              "      <td>0.0</td>\n",
              "      <td>0.0</td>\n",
              "      <td>0.0</td>\n",
              "      <td>...</td>\n",
              "      <td>0.0</td>\n",
              "      <td>0.0</td>\n",
              "      <td>0.0</td>\n",
              "      <td>0.0</td>\n",
              "      <td>0.0</td>\n",
              "      <td>0.0</td>\n",
              "      <td>0.0</td>\n",
              "      <td>0.0</td>\n",
              "      <td>0.0</td>\n",
              "      <td>0.0</td>\n",
              "      <td>0.0</td>\n",
              "      <td>0.0</td>\n",
              "      <td>0.0</td>\n",
              "      <td>0.0</td>\n",
              "      <td>0.0</td>\n",
              "      <td>0.0</td>\n",
              "      <td>0.0</td>\n",
              "      <td>0.0</td>\n",
              "      <td>0.0</td>\n",
              "      <td>0.0</td>\n",
              "      <td>0.0</td>\n",
              "      <td>0.0</td>\n",
              "      <td>0.0</td>\n",
              "      <td>0.0</td>\n",
              "      <td>0.0</td>\n",
              "      <td>0.0</td>\n",
              "      <td>0.0</td>\n",
              "      <td>0.0</td>\n",
              "      <td>0.0</td>\n",
              "      <td>0.0</td>\n",
              "      <td>0.0</td>\n",
              "      <td>0.0</td>\n",
              "      <td>0.0</td>\n",
              "      <td>0.0</td>\n",
              "      <td>0.0</td>\n",
              "      <td>0.0</td>\n",
              "      <td>0.0</td>\n",
              "      <td>0.0</td>\n",
              "      <td>0.0</td>\n",
              "      <td>0.0</td>\n",
              "    </tr>\n",
              "    <tr>\n",
              "      <th>3</th>\n",
              "      <td>0.0</td>\n",
              "      <td>0.0</td>\n",
              "      <td>0.0</td>\n",
              "      <td>0.0</td>\n",
              "      <td>0.0</td>\n",
              "      <td>0.0</td>\n",
              "      <td>0.0</td>\n",
              "      <td>0.0</td>\n",
              "      <td>0.0</td>\n",
              "      <td>0.0</td>\n",
              "      <td>0.0</td>\n",
              "      <td>0.0</td>\n",
              "      <td>0.0</td>\n",
              "      <td>0.0</td>\n",
              "      <td>0.0</td>\n",
              "      <td>0.0</td>\n",
              "      <td>0.0</td>\n",
              "      <td>0.0</td>\n",
              "      <td>0.0</td>\n",
              "      <td>0.0</td>\n",
              "      <td>0.0</td>\n",
              "      <td>0.0</td>\n",
              "      <td>0.0</td>\n",
              "      <td>0.0</td>\n",
              "      <td>0.0</td>\n",
              "      <td>0.0</td>\n",
              "      <td>0.0</td>\n",
              "      <td>0.0</td>\n",
              "      <td>0.0</td>\n",
              "      <td>0.0</td>\n",
              "      <td>0.0</td>\n",
              "      <td>0.0</td>\n",
              "      <td>0.0</td>\n",
              "      <td>0.0</td>\n",
              "      <td>0.0</td>\n",
              "      <td>0.0</td>\n",
              "      <td>0.0</td>\n",
              "      <td>0.0</td>\n",
              "      <td>0.0</td>\n",
              "      <td>0.0</td>\n",
              "      <td>...</td>\n",
              "      <td>0.0</td>\n",
              "      <td>0.0</td>\n",
              "      <td>0.0</td>\n",
              "      <td>0.0</td>\n",
              "      <td>0.0</td>\n",
              "      <td>0.0</td>\n",
              "      <td>0.0</td>\n",
              "      <td>0.0</td>\n",
              "      <td>0.0</td>\n",
              "      <td>0.0</td>\n",
              "      <td>0.0</td>\n",
              "      <td>0.0</td>\n",
              "      <td>0.0</td>\n",
              "      <td>0.0</td>\n",
              "      <td>0.0</td>\n",
              "      <td>0.0</td>\n",
              "      <td>0.0</td>\n",
              "      <td>0.0</td>\n",
              "      <td>0.0</td>\n",
              "      <td>0.0</td>\n",
              "      <td>0.0</td>\n",
              "      <td>0.0</td>\n",
              "      <td>0.0</td>\n",
              "      <td>0.0</td>\n",
              "      <td>0.0</td>\n",
              "      <td>0.0</td>\n",
              "      <td>0.0</td>\n",
              "      <td>0.0</td>\n",
              "      <td>0.0</td>\n",
              "      <td>0.0</td>\n",
              "      <td>0.0</td>\n",
              "      <td>0.0</td>\n",
              "      <td>0.0</td>\n",
              "      <td>0.0</td>\n",
              "      <td>0.0</td>\n",
              "      <td>0.0</td>\n",
              "      <td>0.0</td>\n",
              "      <td>0.0</td>\n",
              "      <td>0.0</td>\n",
              "      <td>0.0</td>\n",
              "    </tr>\n",
              "    <tr>\n",
              "      <th>4</th>\n",
              "      <td>0.0</td>\n",
              "      <td>0.0</td>\n",
              "      <td>0.0</td>\n",
              "      <td>0.0</td>\n",
              "      <td>0.0</td>\n",
              "      <td>0.0</td>\n",
              "      <td>0.0</td>\n",
              "      <td>0.0</td>\n",
              "      <td>0.0</td>\n",
              "      <td>0.0</td>\n",
              "      <td>0.0</td>\n",
              "      <td>0.0</td>\n",
              "      <td>0.0</td>\n",
              "      <td>0.0</td>\n",
              "      <td>0.0</td>\n",
              "      <td>0.0</td>\n",
              "      <td>0.0</td>\n",
              "      <td>0.0</td>\n",
              "      <td>0.0</td>\n",
              "      <td>0.0</td>\n",
              "      <td>0.0</td>\n",
              "      <td>0.0</td>\n",
              "      <td>0.0</td>\n",
              "      <td>0.0</td>\n",
              "      <td>0.0</td>\n",
              "      <td>0.0</td>\n",
              "      <td>0.0</td>\n",
              "      <td>0.0</td>\n",
              "      <td>0.0</td>\n",
              "      <td>0.0</td>\n",
              "      <td>0.0</td>\n",
              "      <td>0.0</td>\n",
              "      <td>0.0</td>\n",
              "      <td>0.0</td>\n",
              "      <td>0.0</td>\n",
              "      <td>0.0</td>\n",
              "      <td>0.0</td>\n",
              "      <td>0.0</td>\n",
              "      <td>0.0</td>\n",
              "      <td>0.0</td>\n",
              "      <td>...</td>\n",
              "      <td>0.0</td>\n",
              "      <td>0.0</td>\n",
              "      <td>0.0</td>\n",
              "      <td>0.0</td>\n",
              "      <td>0.0</td>\n",
              "      <td>0.0</td>\n",
              "      <td>0.0</td>\n",
              "      <td>0.0</td>\n",
              "      <td>0.0</td>\n",
              "      <td>0.0</td>\n",
              "      <td>0.0</td>\n",
              "      <td>0.0</td>\n",
              "      <td>0.0</td>\n",
              "      <td>0.0</td>\n",
              "      <td>0.0</td>\n",
              "      <td>0.0</td>\n",
              "      <td>0.0</td>\n",
              "      <td>0.0</td>\n",
              "      <td>0.0</td>\n",
              "      <td>0.0</td>\n",
              "      <td>0.0</td>\n",
              "      <td>0.0</td>\n",
              "      <td>0.0</td>\n",
              "      <td>0.0</td>\n",
              "      <td>0.0</td>\n",
              "      <td>0.0</td>\n",
              "      <td>0.0</td>\n",
              "      <td>0.0</td>\n",
              "      <td>0.0</td>\n",
              "      <td>0.0</td>\n",
              "      <td>0.0</td>\n",
              "      <td>0.0</td>\n",
              "      <td>0.0</td>\n",
              "      <td>0.0</td>\n",
              "      <td>0.0</td>\n",
              "      <td>0.0</td>\n",
              "      <td>0.0</td>\n",
              "      <td>0.0</td>\n",
              "      <td>0.0</td>\n",
              "      <td>0.0</td>\n",
              "    </tr>\n",
              "  </tbody>\n",
              "</table>\n",
              "<p>5 rows × 1001 columns</p>\n",
              "</div>"
            ],
            "text/plain": [
              "   \"sales\" team  1 GB ram  1-year-warranty  10-key  ...  work  working  works   wt\n",
              "0  0.0           0.0       0.0              0.0     ...  0.0   0.0      0.0    0.0\n",
              "1  0.0           0.0       0.0              0.0     ...  0.0   0.0      0.0    0.0\n",
              "2  1.0           0.0       0.0              0.0     ...  0.0   0.0      0.0    0.0\n",
              "3  0.0           0.0       0.0              0.0     ...  0.0   0.0      0.0    0.0\n",
              "4  0.0           0.0       0.0              0.0     ...  0.0   0.0      0.0    0.0\n",
              "\n",
              "[5 rows x 1001 columns]"
            ]
          },
          "metadata": {
            "tags": []
          },
          "execution_count": 21
        }
      ]
    },
    {
      "cell_type": "code",
      "metadata": {
        "id": "Gy816pIv06Ea"
      },
      "source": [
        "# Similar for test list\n",
        "test_dataframe = get_xml_data(test_data)\n",
        "test_text_list = train_dataframe['text']\n",
        "test_aspects_list = list(train_dataframe['aspect_info'])"
      ],
      "execution_count": null,
      "outputs": []
    },
    {
      "cell_type": "code",
      "metadata": {
        "id": "1lA33cZQ09WT"
      },
      "source": [
        "tagged_text_list_test = pos_tag(test_text_list)\n",
        "joblib.dump(tagged_text_list_test, 'tagged_text_list_test.pkl')\n",
        "tagged_text_list_test=joblib.load('tagged_text_list_test.pkl')"
      ],
      "execution_count": null,
      "outputs": []
    },
    {
      "cell_type": "code",
      "metadata": {
        "id": "p-fmG0A21EzC"
      },
      "source": [
        "final_test_text_list = filter_tag(tagged_text_list_test)"
      ],
      "execution_count": null,
      "outputs": []
    },
    {
      "cell_type": "code",
      "metadata": {
        "id": "3RQHcmCe1Is7"
      },
      "source": [
        "df_test = get_data_frame(final_test_text_list,test_aspects_list, most_common_aspect)\n",
        "df_test_aspect = get_aspect_data_frame(df_test, most_common_aspect)\n",
        "df_test_aspect = df_test_aspect.reindex(sorted(df_test_aspect.columns), axis=1)"
      ],
      "execution_count": null,
      "outputs": []
    },
    {
      "cell_type": "code",
      "metadata": {
        "colab": {
          "base_uri": "https://localhost:8080/"
        },
        "id": "sWndwos31L-e",
        "outputId": "5d6f2b3b-c34c-4eb0-f548-5b802f10b026"
      },
      "source": [
        "# Sort the data frame according to aspect's name and separate data(X) and target(y)\n",
        "# df_train_aspect = df_train_aspect.sample(frac=1).reset_index(drop=True) # For randomization\n",
        "X_train= df_train_aspect.Text\n",
        "y_train = df_train_aspect.drop('Text', 1)\n",
        "print(y_train[:5])\n",
        "\n",
        "\n",
        "# df_test_aspect = df_test_aspect.sample(frac=1).reset_index(drop=True) # For randomization\n",
        "X_test = df_test_aspect.Text\n",
        "y_test = df_test_aspect.drop('Text', 1)\n",
        "final_most_common_aspect = list(y_train)\n"
      ],
      "execution_count": null,
      "outputs": [
        {
          "output_type": "stream",
          "text": [
            "   \"sales\" team  1 GB ram  1-year-warranty  10-key  ...  work  working  works   wt\n",
            "0  0.0           0.0       0.0              0.0     ...  0.0   0.0      0.0    0.0\n",
            "1  0.0           0.0       0.0              0.0     ...  0.0   0.0      0.0    0.0\n",
            "2  1.0           0.0       0.0              0.0     ...  0.0   0.0      0.0    0.0\n",
            "3  0.0           0.0       0.0              0.0     ...  0.0   0.0      0.0    0.0\n",
            "4  0.0           0.0       0.0              0.0     ...  0.0   0.0      0.0    0.0\n",
            "\n",
            "[5 rows x 1000 columns]\n"
          ],
          "name": "stdout"
        }
      ]
    },
    {
      "cell_type": "code",
      "metadata": {
        "colab": {
          "base_uri": "https://localhost:8080/"
        },
        "id": "kwVNDc801O_b",
        "outputId": "188b515e-7dba-4947-f2d0-f4e3efabb998"
      },
      "source": [
        "# Change y_train to numpy array\n",
        "import numpy as np\n",
        "y_train = np.asarray(y_train, dtype=np.int64)\n",
        "y_test = np.asarray(y_test, dtype=np.int64)\n",
        "print(y_train[:5])"
      ],
      "execution_count": null,
      "outputs": [
        {
          "output_type": "stream",
          "text": [
            "[[0 0 0 ... 0 0 0]\n",
            " [0 0 0 ... 0 0 0]\n",
            " [1 0 0 ... 0 0 0]\n",
            " [0 0 0 ... 0 0 0]\n",
            " [0 0 0 ... 0 0 0]]\n"
          ],
          "name": "stdout"
        }
      ]
    },
    {
      "cell_type": "code",
      "metadata": {
        "id": "mXp6dJ6W1WNx"
      },
      "source": [
        "# Generate word vecotors using CountVectorizer\n",
        "from sklearn.feature_extraction.text import CountVectorizer\n",
        "# from nltk import word_tokenize          \n",
        "# from nltk.stem import WordNetLemmatizer \n",
        "vect = CountVectorizer(max_df=1.0, stop_words='english')  \n",
        "X_train_dtm = vect.fit_transform(X_train)\n",
        "X_test_dtm = vect.transform(X_test)"
      ],
      "execution_count": null,
      "outputs": []
    },
    {
      "cell_type": "code",
      "metadata": {
        "id": "9FpQf_FA1cpI"
      },
      "source": [
        "# Create various models. These are multi-label models.\n",
        "from sklearn.ensemble import RandomForestClassifier\n",
        "from sklearn import tree\n",
        "nb_classif = OneVsRestClassifier(MultinomialNB()).fit(X_train_dtm, y_train)\n",
        "C = 1.0 \n",
        "# SVregularization parameter\n",
        "svc = OneVsRestClassifier(svm.SVC(kernel='linear', C=C)).fit(X_train_dtm, y_train)\n",
        "lin_svc = OneVsRestClassifier(svm.LinearSVC(C=C)).fit(X_train_dtm, y_train)\n",
        "sgd = OneVsRestClassifier(SGDClassifier(max_iter=1000)).fit(X_train_dtm,y_train)\n",
        "\n"
      ],
      "execution_count": null,
      "outputs": []
    },
    {
      "cell_type": "code",
      "metadata": {
        "id": "Y-rTdjM0uNwV"
      },
      "source": [
        "clf_sent =tree.DecisionTreeClassifier().fit(X_train_dtm,y_train)"
      ],
      "execution_count": null,
      "outputs": []
    },
    {
      "cell_type": "code",
      "metadata": {
        "id": "1wpT74X61jIs"
      },
      "source": [
        "# Predict the test data using classifiers\n",
        "y_pred_class = nb_classif.predict(X_test_dtm)\n",
        "y_pred_class_svc = svc.predict(X_test_dtm)\n",
        "y_pred_class_lin_svc = lin_svc.predict(X_test_dtm)\n",
        "y_pred_class_sgd = sgd.predict(X_test_dtm)\n",
        "y_pred_sent=clf_sent.predict(X_test_dtm)"
      ],
      "execution_count": null,
      "outputs": []
    },
    {
      "cell_type": "code",
      "metadata": {
        "colab": {
          "base_uri": "https://localhost:8080/"
        },
        "id": "F12uJnHRJGsA",
        "outputId": "74785348-7f62-4ef3-9835-7f52f7a2d146"
      },
      "source": [
        "!pip3 install --upgrade tensorflow "
      ],
      "execution_count": null,
      "outputs": [
        {
          "output_type": "stream",
          "text": [
            "Requirement already up-to-date: tensorflow in /usr/local/lib/python3.6/dist-packages (2.3.1)\n",
            "Requirement already satisfied, skipping upgrade: opt-einsum>=2.3.2 in /usr/local/lib/python3.6/dist-packages (from tensorflow) (3.3.0)\n",
            "Requirement already satisfied, skipping upgrade: wrapt>=1.11.1 in /usr/local/lib/python3.6/dist-packages (from tensorflow) (1.12.1)\n",
            "Requirement already satisfied, skipping upgrade: tensorboard<3,>=2.3.0 in /usr/local/lib/python3.6/dist-packages (from tensorflow) (2.3.0)\n",
            "Requirement already satisfied, skipping upgrade: h5py<2.11.0,>=2.10.0 in /usr/local/lib/python3.6/dist-packages (from tensorflow) (2.10.0)\n",
            "Requirement already satisfied, skipping upgrade: google-pasta>=0.1.8 in /usr/local/lib/python3.6/dist-packages (from tensorflow) (0.2.0)\n",
            "Requirement already satisfied, skipping upgrade: six>=1.12.0 in /usr/local/lib/python3.6/dist-packages (from tensorflow) (1.15.0)\n",
            "Requirement already satisfied, skipping upgrade: numpy<1.19.0,>=1.16.0 in /usr/local/lib/python3.6/dist-packages (from tensorflow) (1.18.5)\n",
            "Requirement already satisfied, skipping upgrade: protobuf>=3.9.2 in /usr/local/lib/python3.6/dist-packages (from tensorflow) (3.12.4)\n",
            "Requirement already satisfied, skipping upgrade: termcolor>=1.1.0 in /usr/local/lib/python3.6/dist-packages (from tensorflow) (1.1.0)\n",
            "Requirement already satisfied, skipping upgrade: wheel>=0.26 in /usr/local/lib/python3.6/dist-packages (from tensorflow) (0.35.1)\n",
            "Requirement already satisfied, skipping upgrade: keras-preprocessing<1.2,>=1.1.1 in /usr/local/lib/python3.6/dist-packages (from tensorflow) (1.1.2)\n",
            "Requirement already satisfied, skipping upgrade: gast==0.3.3 in /usr/local/lib/python3.6/dist-packages (from tensorflow) (0.3.3)\n",
            "Requirement already satisfied, skipping upgrade: grpcio>=1.8.6 in /usr/local/lib/python3.6/dist-packages (from tensorflow) (1.33.2)\n",
            "Requirement already satisfied, skipping upgrade: tensorflow-estimator<2.4.0,>=2.3.0 in /usr/local/lib/python3.6/dist-packages (from tensorflow) (2.3.0)\n",
            "Requirement already satisfied, skipping upgrade: absl-py>=0.7.0 in /usr/local/lib/python3.6/dist-packages (from tensorflow) (0.10.0)\n",
            "Requirement already satisfied, skipping upgrade: astunparse==1.6.3 in /usr/local/lib/python3.6/dist-packages (from tensorflow) (1.6.3)\n",
            "Requirement already satisfied, skipping upgrade: requests<3,>=2.21.0 in /usr/local/lib/python3.6/dist-packages (from tensorboard<3,>=2.3.0->tensorflow) (2.23.0)\n",
            "Requirement already satisfied, skipping upgrade: google-auth-oauthlib<0.5,>=0.4.1 in /usr/local/lib/python3.6/dist-packages (from tensorboard<3,>=2.3.0->tensorflow) (0.4.2)\n",
            "Requirement already satisfied, skipping upgrade: tensorboard-plugin-wit>=1.6.0 in /usr/local/lib/python3.6/dist-packages (from tensorboard<3,>=2.3.0->tensorflow) (1.7.0)\n",
            "Requirement already satisfied, skipping upgrade: werkzeug>=0.11.15 in /usr/local/lib/python3.6/dist-packages (from tensorboard<3,>=2.3.0->tensorflow) (1.0.1)\n",
            "Requirement already satisfied, skipping upgrade: google-auth<2,>=1.6.3 in /usr/local/lib/python3.6/dist-packages (from tensorboard<3,>=2.3.0->tensorflow) (1.17.2)\n",
            "Requirement already satisfied, skipping upgrade: setuptools>=41.0.0 in /usr/local/lib/python3.6/dist-packages (from tensorboard<3,>=2.3.0->tensorflow) (50.3.2)\n",
            "Requirement already satisfied, skipping upgrade: markdown>=2.6.8 in /usr/local/lib/python3.6/dist-packages (from tensorboard<3,>=2.3.0->tensorflow) (3.3.3)\n",
            "Requirement already satisfied, skipping upgrade: certifi>=2017.4.17 in /usr/local/lib/python3.6/dist-packages (from requests<3,>=2.21.0->tensorboard<3,>=2.3.0->tensorflow) (2020.11.8)\n",
            "Requirement already satisfied, skipping upgrade: idna<3,>=2.5 in /usr/local/lib/python3.6/dist-packages (from requests<3,>=2.21.0->tensorboard<3,>=2.3.0->tensorflow) (2.10)\n",
            "Requirement already satisfied, skipping upgrade: urllib3!=1.25.0,!=1.25.1,<1.26,>=1.21.1 in /usr/local/lib/python3.6/dist-packages (from requests<3,>=2.21.0->tensorboard<3,>=2.3.0->tensorflow) (1.24.3)\n",
            "Requirement already satisfied, skipping upgrade: chardet<4,>=3.0.2 in /usr/local/lib/python3.6/dist-packages (from requests<3,>=2.21.0->tensorboard<3,>=2.3.0->tensorflow) (3.0.4)\n",
            "Requirement already satisfied, skipping upgrade: requests-oauthlib>=0.7.0 in /usr/local/lib/python3.6/dist-packages (from google-auth-oauthlib<0.5,>=0.4.1->tensorboard<3,>=2.3.0->tensorflow) (1.3.0)\n",
            "Requirement already satisfied, skipping upgrade: pyasn1-modules>=0.2.1 in /usr/local/lib/python3.6/dist-packages (from google-auth<2,>=1.6.3->tensorboard<3,>=2.3.0->tensorflow) (0.2.8)\n",
            "Requirement already satisfied, skipping upgrade: rsa<5,>=3.1.4; python_version >= \"3\" in /usr/local/lib/python3.6/dist-packages (from google-auth<2,>=1.6.3->tensorboard<3,>=2.3.0->tensorflow) (4.6)\n",
            "Requirement already satisfied, skipping upgrade: cachetools<5.0,>=2.0.0 in /usr/local/lib/python3.6/dist-packages (from google-auth<2,>=1.6.3->tensorboard<3,>=2.3.0->tensorflow) (4.1.1)\n",
            "Requirement already satisfied, skipping upgrade: importlib-metadata; python_version < \"3.8\" in /usr/local/lib/python3.6/dist-packages (from markdown>=2.6.8->tensorboard<3,>=2.3.0->tensorflow) (2.0.0)\n",
            "Requirement already satisfied, skipping upgrade: oauthlib>=3.0.0 in /usr/local/lib/python3.6/dist-packages (from requests-oauthlib>=0.7.0->google-auth-oauthlib<0.5,>=0.4.1->tensorboard<3,>=2.3.0->tensorflow) (3.1.0)\n",
            "Requirement already satisfied, skipping upgrade: pyasn1<0.5.0,>=0.4.6 in /usr/local/lib/python3.6/dist-packages (from pyasn1-modules>=0.2.1->google-auth<2,>=1.6.3->tensorboard<3,>=2.3.0->tensorflow) (0.4.8)\n",
            "Requirement already satisfied, skipping upgrade: zipp>=0.5 in /usr/local/lib/python3.6/dist-packages (from importlib-metadata; python_version < \"3.8\"->markdown>=2.6.8->tensorboard<3,>=2.3.0->tensorflow) (3.4.0)\n"
          ],
          "name": "stdout"
        }
      ]
    },
    {
      "cell_type": "code",
      "metadata": {
        "id": "CXkaoeOqaqLw"
      },
      "source": [
        "from keras.preprocessing.text import Tokenizer\n",
        "\n",
        "vocab_size = 3644 # We set a maximum size for the vocabulary\n",
        "tokenizer = Tokenizer(num_words=vocab_size)\n",
        "tokenizer.fit_on_texts(X_train)\n",
        "aspect_tokenized = pd.DataFrame(tokenizer.texts_to_matrix(X_train))\n",
        "#aspect_tokenized"
      ],
      "execution_count": null,
      "outputs": []
    },
    {
      "cell_type": "code",
      "metadata": {
        "id": "YsIgmzdN1l0Y"
      },
      "source": [
        "# Following code to test metrics of all aspect extraction classifiers\n",
        "from sklearn import metrics"
      ],
      "execution_count": null,
      "outputs": []
    },
    {
      "cell_type": "code",
      "metadata": {
        "colab": {
          "base_uri": "https://localhost:8080/"
        },
        "id": "5ZHi67rj1qNi",
        "outputId": "4e2ca5ff-29f7-4b25-db6f-f00fdde4029e"
      },
      "source": [
        "\n",
        "print('NB-classifier:',metrics.accuracy_score(y_test,y_pred_class))\n",
        "print('SVM',metrics.accuracy_score(y_test,y_pred_class_svc))\n",
        "#print('Linear SVM:',metrics.accuracy_score(y_test,y_pred_class_lin_svc))\n",
        "#print('SGD classifier',metrics.accuracy_score(y_test,y_pred_class_sgd))\n",
        "#print('RF classifier',metrics.accuracy_score(y_test,y_pred_class_rf))\n",
        "print('tree classifier',metrics.accuracy_score(y_test,y_pred_sent))"
      ],
      "execution_count": null,
      "outputs": [
        {
          "output_type": "stream",
          "text": [
            "NB-classifier: 0.5822660098522168\n",
            "SVM 0.8894909688013136\n",
            "tree classifier 0.7973727422003285\n"
          ],
          "name": "stdout"
        }
      ]
    },
    {
      "cell_type": "code",
      "metadata": {
        "colab": {
          "base_uri": "https://localhost:8080/"
        },
        "id": "IbSF-W2Y1sJd",
        "outputId": "0483a482-a969-4c76-ea56-a08c469da5ca"
      },
      "source": [
        "print(metrics.precision_score(y_test,y_pred_class,average='micro'))\n",
        "print(metrics.precision_score(y_test,y_pred_class_svc,average='micro'))\n",
        "print(metrics.precision_score(y_test,y_pred_class_lin_svc,average='micro'))\n",
        "print(metrics.precision_score(y_test,y_pred_class_sgd,average='micro'))"
      ],
      "execution_count": null,
      "outputs": [
        {
          "output_type": "stream",
          "text": [
            "0.9232558139534883\n",
            "0.9968138370505234\n",
            "0.9968340117593849\n",
            "0.9945280437756497\n"
          ],
          "name": "stdout"
        }
      ]
    },
    {
      "cell_type": "code",
      "metadata": {
        "colab": {
          "base_uri": "https://localhost:8080/"
        },
        "id": "ORtIZA8c2Xwx",
        "outputId": "8102799d-c426-4a92-b20c-221fbb7132a9"
      },
      "source": [
        "# stored trained model\n",
        "joblib.dump(sgd, 'trained_sgd.pkl')"
      ],
      "execution_count": null,
      "outputs": [
        {
          "output_type": "execute_result",
          "data": {
            "text/plain": [
              "['trained_sgd.pkl']"
            ]
          },
          "metadata": {
            "tags": []
          },
          "execution_count": 33
        }
      ]
    },
    {
      "cell_type": "code",
      "metadata": {
        "id": "YMq424Sh2jRQ"
      },
      "source": [
        "\n",
        "\n",
        "def BIO_format(text, predicted_output, common_words):\n",
        "    bio_obj = BIO()\n",
        "    df = bio_obj.convert_into_bio(text, predicted_output, common_words_list=common_words)\n",
        "    return df"
      ],
      "execution_count": null,
      "outputs": []
    },
    {
      "cell_type": "code",
      "metadata": {
        "id": "rPpv39-UBLqe"
      },
      "source": [
        "def get_dict_aspect(y,most_common_aspect):\n",
        "    position=[]\n",
        "    for innerlist in y:\n",
        "        position.append([i for i, j in enumerate(innerlist) if j == 1])\n",
        "    sorted_common=sorted(most_common_aspect)\n",
        "    dict_aspect=[]\n",
        "    for innerlist in position:\n",
        "        inner_dict={}\n",
        "        for word in sorted_common:\n",
        "            if sorted_common.index(word) in innerlist:\n",
        "                inner_dict[word]= 5\n",
        "            else:\n",
        "                inner_dict[word]=0\n",
        "        dict_aspect.append(inner_dict)\n",
        "    return dict_aspect"
      ],
      "execution_count": null,
      "outputs": []
    },
    {
      "cell_type": "code",
      "metadata": {
        "id": "JNwIqGCt2mx_",
        "colab": {
          "base_uri": "https://localhost:8080/",
          "height": 390
        },
        "outputId": "2eb06c8b-b256-4219-c913-99fc83158139"
      },
      "source": [
        "\n",
        "# Aspect term extractor of user's input.\n",
        "#user_input=input(\"Enter a laptop review:\\n\\n\")\n",
        "user_input = \"The battery life is really good and its size is reasonable\"\n",
        "#user_input = \"it is of high quality, has a killer GUI, is extremely stable, is highly expandable, is bundled with lots of very good applications, is easy to use, and is absolutely gorgeous.\"\n",
        "# Preprocessing and vectorizing\n",
        "tagged_user_input = pos_tag([user_input])\n",
        "#print(tagged_user_input)\n",
        "filter_tagged_user_input = filter_tag(tagged_user_input)\n",
        "#print(filter_tagged_user_input)\n",
        "\n",
        "user_input_series = pd.Series(filter_tagged_user_input)\n",
        "#print(user_input_series)\n",
        "user_input_series_dtm = vect.transform(user_input_series)\n",
        "#print(user_input_series_dtm)\n",
        "# print(user_input_series[:5])\n",
        "\n",
        "predict_aspect= lin_svc.predict(user_input_series_dtm)\n",
        "#print(predict_aspect)\n",
        "# predict_aspect_data = predict_aspect[0]\n",
        "extra_feature=get_dict_aspect(predict_aspect, most_common_aspect)\n",
        "extra_feature_dtm=DictVectorizer().fit_transform(extra_feature)\n",
        "#extra_feature\n",
        "df = BIO_format(user_input, predict_aspect[0], final_most_common_aspect)\n",
        "df"
      ],
      "execution_count": null,
      "outputs": [
        {
          "output_type": "execute_result",
          "data": {
            "text/html": [
              "<div>\n",
              "<style scoped>\n",
              "    .dataframe tbody tr th:only-of-type {\n",
              "        vertical-align: middle;\n",
              "    }\n",
              "\n",
              "    .dataframe tbody tr th {\n",
              "        vertical-align: top;\n",
              "    }\n",
              "\n",
              "    .dataframe thead th {\n",
              "        text-align: right;\n",
              "    }\n",
              "</style>\n",
              "<table border=\"1\" class=\"dataframe\">\n",
              "  <thead>\n",
              "    <tr style=\"text-align: right;\">\n",
              "      <th></th>\n",
              "      <th>text</th>\n",
              "      <th>BIO</th>\n",
              "    </tr>\n",
              "  </thead>\n",
              "  <tbody>\n",
              "    <tr>\n",
              "      <th>0</th>\n",
              "      <td>The</td>\n",
              "      <td>B</td>\n",
              "    </tr>\n",
              "    <tr>\n",
              "      <th>1</th>\n",
              "      <td>battery</td>\n",
              "      <td>B</td>\n",
              "    </tr>\n",
              "    <tr>\n",
              "      <th>2</th>\n",
              "      <td>life</td>\n",
              "      <td>I</td>\n",
              "    </tr>\n",
              "    <tr>\n",
              "      <th>3</th>\n",
              "      <td>is</td>\n",
              "      <td>O</td>\n",
              "    </tr>\n",
              "    <tr>\n",
              "      <th>4</th>\n",
              "      <td>really</td>\n",
              "      <td>O</td>\n",
              "    </tr>\n",
              "    <tr>\n",
              "      <th>5</th>\n",
              "      <td>good</td>\n",
              "      <td>O</td>\n",
              "    </tr>\n",
              "    <tr>\n",
              "      <th>6</th>\n",
              "      <td>and</td>\n",
              "      <td>O</td>\n",
              "    </tr>\n",
              "    <tr>\n",
              "      <th>7</th>\n",
              "      <td>its</td>\n",
              "      <td>O</td>\n",
              "    </tr>\n",
              "    <tr>\n",
              "      <th>8</th>\n",
              "      <td>size</td>\n",
              "      <td>B</td>\n",
              "    </tr>\n",
              "    <tr>\n",
              "      <th>9</th>\n",
              "      <td>is</td>\n",
              "      <td>O</td>\n",
              "    </tr>\n",
              "    <tr>\n",
              "      <th>10</th>\n",
              "      <td>reasonable</td>\n",
              "      <td>O</td>\n",
              "    </tr>\n",
              "  </tbody>\n",
              "</table>\n",
              "</div>"
            ],
            "text/plain": [
              "          text BIO\n",
              "0   The         B \n",
              "1   battery     B \n",
              "2   life        I \n",
              "3   is          O \n",
              "4   really      O \n",
              "5   good        O \n",
              "6   and         O \n",
              "7   its         O \n",
              "8   size        B \n",
              "9   is          O \n",
              "10  reasonable  O "
            ]
          },
          "metadata": {
            "tags": []
          },
          "execution_count": 36
        }
      ]
    },
    {
      "cell_type": "code",
      "metadata": {
        "id": "QhbjTSpC2w0e",
        "colab": {
          "base_uri": "https://localhost:8080/",
          "height": 390
        },
        "outputId": "8e5549d4-ef52-4c85-ae03-708855674f4f"
      },
      "source": [
        "df = BIO_format(user_input, predict_aspect[0], final_most_common_aspect)\n",
        "df"
      ],
      "execution_count": null,
      "outputs": [
        {
          "output_type": "execute_result",
          "data": {
            "text/html": [
              "<div>\n",
              "<style scoped>\n",
              "    .dataframe tbody tr th:only-of-type {\n",
              "        vertical-align: middle;\n",
              "    }\n",
              "\n",
              "    .dataframe tbody tr th {\n",
              "        vertical-align: top;\n",
              "    }\n",
              "\n",
              "    .dataframe thead th {\n",
              "        text-align: right;\n",
              "    }\n",
              "</style>\n",
              "<table border=\"1\" class=\"dataframe\">\n",
              "  <thead>\n",
              "    <tr style=\"text-align: right;\">\n",
              "      <th></th>\n",
              "      <th>text</th>\n",
              "      <th>BIO</th>\n",
              "    </tr>\n",
              "  </thead>\n",
              "  <tbody>\n",
              "    <tr>\n",
              "      <th>0</th>\n",
              "      <td>The</td>\n",
              "      <td>B</td>\n",
              "    </tr>\n",
              "    <tr>\n",
              "      <th>1</th>\n",
              "      <td>battery</td>\n",
              "      <td>B</td>\n",
              "    </tr>\n",
              "    <tr>\n",
              "      <th>2</th>\n",
              "      <td>life</td>\n",
              "      <td>I</td>\n",
              "    </tr>\n",
              "    <tr>\n",
              "      <th>3</th>\n",
              "      <td>is</td>\n",
              "      <td>O</td>\n",
              "    </tr>\n",
              "    <tr>\n",
              "      <th>4</th>\n",
              "      <td>really</td>\n",
              "      <td>O</td>\n",
              "    </tr>\n",
              "    <tr>\n",
              "      <th>5</th>\n",
              "      <td>good</td>\n",
              "      <td>O</td>\n",
              "    </tr>\n",
              "    <tr>\n",
              "      <th>6</th>\n",
              "      <td>and</td>\n",
              "      <td>O</td>\n",
              "    </tr>\n",
              "    <tr>\n",
              "      <th>7</th>\n",
              "      <td>its</td>\n",
              "      <td>O</td>\n",
              "    </tr>\n",
              "    <tr>\n",
              "      <th>8</th>\n",
              "      <td>size</td>\n",
              "      <td>B</td>\n",
              "    </tr>\n",
              "    <tr>\n",
              "      <th>9</th>\n",
              "      <td>is</td>\n",
              "      <td>O</td>\n",
              "    </tr>\n",
              "    <tr>\n",
              "      <th>10</th>\n",
              "      <td>reasonable</td>\n",
              "      <td>O</td>\n",
              "    </tr>\n",
              "  </tbody>\n",
              "</table>\n",
              "</div>"
            ],
            "text/plain": [
              "          text BIO\n",
              "0   The         B \n",
              "1   battery     B \n",
              "2   life        I \n",
              "3   is          O \n",
              "4   really      O \n",
              "5   good        O \n",
              "6   and         O \n",
              "7   its         O \n",
              "8   size        B \n",
              "9   is          O \n",
              "10  reasonable  O "
            ]
          },
          "metadata": {
            "tags": []
          },
          "execution_count": 37
        }
      ]
    },
    {
      "cell_type": "code",
      "metadata": {
        "id": "cHExna3qLxoF",
        "colab": {
          "base_uri": "https://localhost:8080/",
          "height": 100
        },
        "outputId": "b92fc3d9-e5cd-4b64-b1e5-c4a141e9265a"
      },
      "source": [
        "# Aspect term extractor of user's input.\n",
        "user_input=input(\"Enter a laptop review:\\n\\n\")\n",
        "#user_input = \"The battery life is really good and its size is reasonable\"\n",
        "#user_input = \"it is of high quality, has a killer GUI, is extremely stable, is highly expandable, is bundled with lots of very good applications, is easy to use, and is absolutely gorgeous.\"\n",
        "# Preprocessing and vectorizing\n",
        "tagged_user_input = pos_tag([user_input])\n",
        "#print(tagged_user_input)\n",
        "filter_tagged_user_input = filter_tag(tagged_user_input)\n",
        "#print(filter_tagged_user_input)\n",
        "\n",
        "user_input_series = pd.Series(filter_tagged_user_input)\n",
        "#print(user_input_series)\n",
        "user_input_series_dtm = vect.transform(user_input_series)\n",
        "#print(user_input_series_dtm)\n",
        "# print(user_input_series[:5])\n",
        "\n",
        "predict_aspect= lin_svc.predict(user_input_series_dtm)\n",
        "# predict_aspect_data = predict_aspect[0]\n",
        "extra_feature=get_dict_aspect(predict_aspect, most_common_aspect)\n",
        "extra_feature_dtm=DictVectorizer().fit_transform(extra_feature)\n",
        "#extra_feature\n",
        "df = BIO_format(user_input, predict_aspect[0], final_most_common_aspect)\n",
        "df"
      ],
      "execution_count": null,
      "outputs": [
        {
          "output_type": "stream",
          "text": [
            "Enter a laptop review:\n",
            "\n",
            "\n"
          ],
          "name": "stdout"
        },
        {
          "output_type": "execute_result",
          "data": {
            "text/html": [
              "<div>\n",
              "<style scoped>\n",
              "    .dataframe tbody tr th:only-of-type {\n",
              "        vertical-align: middle;\n",
              "    }\n",
              "\n",
              "    .dataframe tbody tr th {\n",
              "        vertical-align: top;\n",
              "    }\n",
              "\n",
              "    .dataframe thead th {\n",
              "        text-align: right;\n",
              "    }\n",
              "</style>\n",
              "<table border=\"1\" class=\"dataframe\">\n",
              "  <thead>\n",
              "    <tr style=\"text-align: right;\">\n",
              "      <th></th>\n",
              "      <th>text</th>\n",
              "      <th>BIO</th>\n",
              "    </tr>\n",
              "  </thead>\n",
              "  <tbody>\n",
              "  </tbody>\n",
              "</table>\n",
              "</div>"
            ],
            "text/plain": [
              "Empty DataFrame\n",
              "Columns: [text, BIO]\n",
              "Index: []"
            ]
          },
          "metadata": {
            "tags": []
          },
          "execution_count": 40
        }
      ]
    },
    {
      "cell_type": "markdown",
      "metadata": {
        "id": "EYV4K7Pl724Q"
      },
      "source": [
        "# Aspect extraction using Deep learning models\n",
        "\n",
        "---\n",
        "\n"
      ]
    },
    {
      "cell_type": "code",
      "metadata": {
        "id": "NWZ5NTwy7tow"
      },
      "source": [
        "from keras.layers import Layer\n",
        "import keras.backend as K\n",
        "\n",
        "class attention(Layer):\n",
        "    def __init__(self,**kwargs):\n",
        "        super(attention,self).__init__(**kwargs)\n",
        "\n",
        "    def build(self,input_shape):\n",
        "        self.W=self.add_weight(name=\"att_weight\",shape=(input_shape[-1],1),initializer=\"normal\")\n",
        "        self.b=self.add_weight(name=\"att_bias\",shape=(input_shape[1],1),initializer=\"zeros\")        \n",
        "        super(attention, self).build(input_shape)\n",
        "\n",
        "    def call(self,x):\n",
        "        et=K.squeeze(K.tanh(K.dot(x,self.W)+self.b),axis=-1)\n",
        "        at=K.softmax(et)\n",
        "        at=K.expand_dims(at,axis=-1)\n",
        "        output=x*at\n",
        "        return K.sum(output,axis=1)\n",
        "\n",
        "    def compute_output_shape(self,input_shape):\n",
        "        return (input_shape[0],input_shape[-1])\n",
        "\n",
        "    def get_config(self):\n",
        "        return super(attention,self).get_config()"
      ],
      "execution_count": null,
      "outputs": []
    },
    {
      "cell_type": "code",
      "metadata": {
        "id": "ruaSkPo_-cD8",
        "colab": {
          "base_uri": "https://localhost:8080/"
        },
        "outputId": "148a9fbf-32ac-4c50-fadc-c49ae22567d5"
      },
      "source": [
        "!wget -c \"https://s3.amazonaws.com/dl4j-distribution/GoogleNews-vectors-negative300.bin.gz\""
      ],
      "execution_count": null,
      "outputs": [
        {
          "output_type": "stream",
          "text": [
            "--2020-12-09 17:41:10--  https://s3.amazonaws.com/dl4j-distribution/GoogleNews-vectors-negative300.bin.gz\n",
            "Resolving s3.amazonaws.com (s3.amazonaws.com)... 52.216.76.158\n",
            "Connecting to s3.amazonaws.com (s3.amazonaws.com)|52.216.76.158|:443... connected.\n",
            "HTTP request sent, awaiting response... 200 OK\n",
            "Length: 1647046227 (1.5G) [application/x-gzip]\n",
            "Saving to: ‘GoogleNews-vectors-negative300.bin.gz’\n",
            "\n",
            "GoogleNews-vectors- 100%[===================>]   1.53G  76.4MB/s    in 21s     \n",
            "\n",
            "2020-12-09 17:41:32 (74.1 MB/s) - ‘GoogleNews-vectors-negative300.bin.gz’ saved [1647046227/1647046227]\n",
            "\n"
          ],
          "name": "stdout"
        }
      ]
    },
    {
      "cell_type": "code",
      "metadata": {
        "id": "buxPUiN_-oUl",
        "colab": {
          "base_uri": "https://localhost:8080/"
        },
        "outputId": "e0156129-1993-40e1-f1d2-25cf193187f4"
      },
      "source": [
        "!gunzip GoogleNews-vectors-negative300.bin.gz"
      ],
      "execution_count": null,
      "outputs": [
        {
          "output_type": "stream",
          "text": [
            "gzip: GoogleNews-vectors-negative300.bin already exists; do you wish to overwrite (y or n)? n\n",
            "\tnot overwritten\n"
          ],
          "name": "stdout"
        }
      ]
    },
    {
      "cell_type": "code",
      "metadata": {
        "id": "5FY5667ScMnf"
      },
      "source": [
        "def load_google_word2vec(file_name):\n",
        "    return KeyedVectors.load_word2vec_format(file_name, binary=True)"
      ],
      "execution_count": null,
      "outputs": []
    },
    {
      "cell_type": "code",
      "metadata": {
        "id": "dTZDGeSScOrj"
      },
      "source": [
        "def get_word2vec_embedding_matrix(model):\n",
        "    embedding_matrix = np.zeros((vocab_size,300))\n",
        "    for word, i in tokenizer.word_index.items():\n",
        "        try:\n",
        "            embedding_vector = model[word]\n",
        "        except KeyError:\n",
        "            embedding_vector = None\n",
        "        if embedding_vector is not None:\n",
        "            embedding_matrix[i]=embedding_vector\n",
        "    return embedding_matrix"
      ],
      "execution_count": null,
      "outputs": []
    },
    {
      "cell_type": "code",
      "metadata": {
        "id": "St8YZyHFDiwf"
      },
      "source": [
        "from keras.models import Sequential\n",
        "from keras.models import Model\n",
        "from keras.layers import Input\n",
        "from keras.layers import Dense\n",
        "from keras.layers import LSTM, Dropout\n",
        "from keras.layers import Flatten\n",
        "from keras.layers import Bidirectional\n",
        "from keras.layers import Embedding\n",
        "from keras.optimizers import Adam"
      ],
      "execution_count": null,
      "outputs": []
    },
    {
      "cell_type": "code",
      "metadata": {
        "colab": {
          "base_uri": "https://localhost:8080/"
        },
        "id": "lKAJ1vu5nVnL",
        "outputId": "46558c92-6472-4e9e-e3df-ff0dc9ccd6ec"
      },
      "source": [
        "embed_dim = 128\n",
        "lstm_out = 196\n",
        "model = Sequential()\n",
        "model.add(Embedding(10000, embed_dim,input_length = 28))\n",
        "model.add(Bidirectional(LSTM(lstm_out,return_sequences=True)))\n",
        "model.add(LSTM(lstm_out, dropout=0.2, recurrent_dropout=0.2))\n",
        "model.add(attention())\n",
        "model.add(Flatten())\n",
        "model.add(Dropout(0.3))\n",
        "model.add(Dense(1000, activation='softmax'))\n",
        "model.compile(loss='categorical_crossentropy', optimizer='adam', metrics=['accuracy'])\n",
        "model.summary()"
      ],
      "execution_count": null,
      "outputs": [
        {
          "output_type": "stream",
          "text": [
            "WARNING:tensorflow:Layer lstm_16 will not use cuDNN kernel since it doesn't meet the cuDNN kernel criteria. It will use generic GPU kernel as fallback when running on GPU\n",
            "Model: \"sequential_8\"\n",
            "_________________________________________________________________\n",
            "Layer (type)                 Output Shape              Param #   \n",
            "=================================================================\n",
            "embedding_8 (Embedding)      (None, 28, 128)           1280000   \n",
            "_________________________________________________________________\n",
            "bidirectional_8 (Bidirection (None, 28, 392)           509600    \n",
            "_________________________________________________________________\n",
            "lstm_16 (LSTM)               (None, 196)               461776    \n",
            "_________________________________________________________________\n",
            "attention_7 (attention)      (196,)                    392       \n",
            "_________________________________________________________________\n",
            "flatten_1 (Flatten)          (196, 1)                  0         \n",
            "_________________________________________________________________\n",
            "dropout_5 (Dropout)          (196, 1)                  0         \n",
            "_________________________________________________________________\n",
            "dense_7 (Dense)              (196, 1000)               2000      \n",
            "=================================================================\n",
            "Total params: 2,253,768\n",
            "Trainable params: 2,253,768\n",
            "Non-trainable params: 0\n",
            "_________________________________________________________________\n"
          ],
          "name": "stdout"
        }
      ]
    },
    {
      "cell_type": "code",
      "metadata": {
        "id": "eKoC9vFZornb"
      },
      "source": [
        "model=OneVsRestClassifier(MultinomialNB())\n",
        "history_model=model.fit(X_train_dtm, y_train)"
      ],
      "execution_count": null,
      "outputs": []
    },
    {
      "cell_type": "code",
      "metadata": {
        "id": "NweQ81gnGD2R",
        "colab": {
          "base_uri": "https://localhost:8080/"
        },
        "outputId": "8a3e0d76-7ade-4c10-c747-67cb99d9e17a"
      },
      "source": [
        "history_object = model.fit(trainX, trainY, epochs=5,batch_size=8)"
      ],
      "execution_count": null,
      "outputs": [
        {
          "output_type": "stream",
          "text": [
            "Epoch 1/5\n",
            "160/160 [==============================] - 194s 1s/step - loss: 1.0406 - accuracy: 0.6474\n",
            "Epoch 2/5\n",
            "160/160 [==============================] - 195s 1s/step - loss: 0.7027 - accuracy: 0.7537\n",
            "Epoch 3/5\n",
            "160/160 [==============================] - 194s 1s/step - loss: 0.6119 - accuracy: 0.7647\n",
            "Epoch 4/5\n",
            "160/160 [==============================] - 195s 1s/step - loss: 0.5528 - accuracy: 0.7756\n",
            "Epoch 5/5\n",
            "160/160 [==============================] - 195s 1s/step - loss: 0.4975 - accuracy: 0.7975\n"
          ],
          "name": "stdout"
        }
      ]
    },
    {
      "cell_type": "code",
      "metadata": {
        "colab": {
          "base_uri": "https://localhost:8080/"
        },
        "id": "HiJJ10wtrwCb",
        "outputId": "d016f412-350e-4435-f254-4ef93f648b93"
      },
      "source": [
        "y_pred_class=model.predict(X_test_dtm)\n",
        "metrics.accuracy_score(y_test,y_pred_class)"
      ],
      "execution_count": null,
      "outputs": [
        {
          "output_type": "execute_result",
          "data": {
            "text/plain": [
              "0.5822660098522168"
            ]
          },
          "metadata": {
            "tags": []
          },
          "execution_count": 66
        }
      ]
    },
    {
      "cell_type": "markdown",
      "metadata": {
        "id": "UoBBncVjhyZo"
      },
      "source": [
        "# Aspect sentiment classification - using ML models"
      ]
    },
    {
      "cell_type": "code",
      "metadata": {
        "id": "1_UWoDYj83F8"
      },
      "source": [
        "import pandas as pd\n",
        "import numpy as np\n",
        "import os\n",
        "import nltk\n",
        "from nltk.tokenize import WordPunctTokenizer\n",
        "from nltk.stem.snowball import SnowballStemmer\n",
        "import math\n",
        "\n",
        "\n",
        "from sklearn.feature_extraction.text import TfidfVectorizer\n",
        "from sklearn.model_selection import *\n",
        "from sklearn import svm\n",
        "from sklearn.metrics import classification_report\n",
        "from sklearn.metrics import accuracy_score, r2_score\n",
        "\n",
        "source_word2idx = {}\n",
        "target_word2idx = {}\n",
        "source_data = []\n",
        "source_loc_data = []\n",
        "target_data = []\n",
        "target_label = []\n",
        "\n",
        "final_list = []\n",
        "max_length = 0\n",
        "\n",
        "def read_data(file):\n",
        "    data_train_1 = pd.read_csv(file)\n",
        "    return data_train_1\n",
        "\n",
        "def read_and_process_data(data_train_1, sourceWord2idx, targetWord2idx):\n",
        "    global source_word2idx\n",
        "    global target_word2idx\n",
        "    source_word2idx = sourceWord2idx\n",
        "    target_word2idx = targetWord2idx\n",
        "    #parse_data(data_train_1)\n",
        "    #create_vocab(data_train_1)\n",
        "    data_train_1.apply(prepare_data,axis = 1)\n",
        "    return source_data, source_loc_data, target_data, target_label, max_length\n",
        "\n",
        "\n",
        "def split_data(data_train_1, train_size, test_size):\n",
        "    size = data_train_1.shape[0]\n",
        "    training_rows = math.ceil((train_size/100)*size)\n",
        "    testing_rows = size - training_rows\n",
        "    train_data = data_train_1.iloc[0:training_rows]\n",
        "    test_data = data_train_1.iloc[training_rows:]\n",
        "    return train_data, test_data\n",
        "\n",
        "\n",
        "def custom_tokenize(text):\n",
        "    tokenizer = WordPunctTokenizer()\n",
        "    tokens = tokenizer.tokenize(text)\n",
        "    words = [word for word in tokens if word.isalnum()]\n",
        "    return words\n",
        "\n",
        "\n",
        "def parse_data(data_train_1):\n",
        "    data_train_1[' text'] = data_train_1[' text'].apply(lambda x: x.replace('[comma]',',').lower())\n",
        "    data_train_1[' text'] = data_train_1[' text'].apply(custom_tokenize)\n",
        "    data_train_1[' aspect_term']= data_train_1.astype(str)\n",
        "    data_train_1[' aspect_term'] = data_train_1[' aspect_term'].apply(lambda x: x.lower())\n",
        "    data_train_1[' aspect_term'] = data_train_1[' aspect_term'].apply(custom_tokenize)\n",
        "    data_train_1[' aspect_term'] = data_train_1[' aspect_term'].apply(lambda x:\" \".join(x))\n",
        "    return data_train_1\n",
        "\n",
        "\n",
        "def prepare_data(row):\n",
        "    global max_length\n",
        "    global source_word2idx\n",
        "    global target_word2idx\n",
        "    m = [source_word2idx[id] for id in row[' text']]\n",
        "    if len(m) == 2602:\n",
        "        print(row[' text'])\n",
        "    if len(m) > max_length:\n",
        "        max_length = len(m)\n",
        "    source_data.append(m)\n",
        "    t = [target_word2idx[row[' aspect_term']]]\n",
        "    target_data.append(t)\n",
        "    target_label.append(row[' class'])\n",
        "    g = get_pos(row)\n",
        "    datab = []\n",
        "    datab.append(m)\n",
        "    datab.append(g)\n",
        "    datab.append(t)\n",
        "    final_list.append(datab)\n",
        "\n",
        "\n",
        "def get_pos_old(row):\n",
        "    index = []\n",
        "    s_len = len(row[' text'])-1\n",
        "    p = row[' text'].copy()\n",
        "    #print('%s in %s: '%(row[' aspect_term'],row[' text']))\n",
        "    aspects = row[' aspect_term'].split(' ')\n",
        "    for aspect in aspects:\n",
        "        try:\n",
        "            if len(aspects)-1 > aspects.index(aspect):\n",
        "                a_i = [i for i,val in enumerate(row[' text']) if val==aspect]\n",
        "                #print(a_i)\n",
        "                \n",
        "                for a_id in a_i:\n",
        "                    try:\n",
        "                        if row[' text'][a_id+1] != aspects[aspects.index(aspect)+1]:\n",
        "                            a_i.remove(a_id)\n",
        "                    except:\n",
        "#                         print('a_i',a_i)\n",
        "#                         print('a_id',a_id)\n",
        "#                         print(a_i.index(a_id))\n",
        "                        a_i = a_i[:a_i.index(a_id)+1]\n",
        "#                         print('exception', a_i)\n",
        "                        break;\n",
        "    #             index.append(row[' text'].index(aspect))\n",
        "                index.extend(a_i)\n",
        "                #print(index)\n",
        "                for i in index:\n",
        "                    p[i] = s_len\n",
        "            else:\n",
        "                index.append(row[' text'].index(aspect))\n",
        "                p[row[' text'].index(aspect)] = s_len\n",
        "        except:\n",
        "            pass\n",
        "    try:\n",
        "        for i in range(index[0]):\n",
        "#             p[i] = index[0] - i\n",
        "            p[i] = s_len - index[0] + i\n",
        "        v = s_len\n",
        "        for i in range(index[len(index)-1],len(p)):\n",
        "            #p[i] = i - index[len(index)-1]\n",
        "            if i == index[len(index)-1]:\n",
        "                p[i] = v\n",
        "            else:    \n",
        "                p[i] = v - 1\n",
        "                v = v-1\n",
        "            \n",
        "        #print(p)\n",
        "    except Exception as e: \n",
        "#         print(e)\n",
        "#         print(p)\n",
        "#         print('exception caught')\n",
        "#         print('%s,%s'%(row[' text'],row[' aspect_term']))\n",
        "        p = [0 for i in row[' text']]\n",
        "#         print(p)\n",
        "    #print(source_loc_data)\n",
        "    source_loc_data.append(p)\n",
        "    return p\n",
        "\n",
        "\n",
        "def get_pos(row):\n",
        "    index = []\n",
        "    s_len = len(row[' text'])-1\n",
        "    p = row[' text'].copy()\n",
        "    #print('%s in %s: '%(row[' aspect_term'],row[' text']))\n",
        "    aspects = row[' aspect_term'].split(' ')\n",
        "    for aspect in aspects:\n",
        "        try:\n",
        "            if len(aspects)-1 > aspects.index(aspect):\n",
        "                a_i = [i for i,val in enumerate(row[' text']) if val==aspect]\n",
        "                try:\n",
        "                    for a_id in a_i:\n",
        "                        if row[' text'][a_id+1] != aspects[aspects.index(aspect)+1]:\n",
        "                            a_i.remove(a_id)\n",
        "                except:\n",
        "                    pass\n",
        "    #             index.append(row[' text'].index(aspect))\n",
        "                index.extend(a_i[0])\n",
        "            else:\n",
        "                index.append(row[' text'].index(aspect))\n",
        "            p[row[' text'].index(aspect)] = s_len\n",
        "        except:\n",
        "            pass\n",
        "    try:\n",
        "        for i in range(index[0]):\n",
        "#             p[i] = index[0] - i\n",
        "            p[i] = s_len - index[0] + i\n",
        "        v = s_len\n",
        "        for i in range(index[len(index)-1],len(p)):\n",
        "            #p[i] = i - index[len(index)-1]\n",
        "            if i == index[len(index)-1]:\n",
        "                p[i] = v\n",
        "            else:    \n",
        "                p[i] = v - 1\n",
        "                v = v-1\n",
        "            \n",
        "        #print(p)\n",
        "    except Exception as e: \n",
        "#         print(e)\n",
        "#         print(p)\n",
        "#         print('exception caught')\n",
        "#         print('%s,%s'%(row[' text'],row[' aspect_term']))\n",
        "        p = [0 for i in row[' text']]\n",
        "#         print(p)\n",
        "    source_loc_data.append(p)\n",
        "    return p\n",
        "\n",
        "\n",
        "def create_vocab(data_train_1):\n",
        "    source_word2idx = {'<pad>': 0}\n",
        "    target_word2idx = {}\n",
        "    for words in data_train_1[' text']:\n",
        "        for word in words:\n",
        "            if word not in source_word2idx:\n",
        "                source_word2idx[word] = len(source_word2idx)\n",
        "\n",
        "    for words in data_train_1[' aspect_term']:\n",
        "        if words not in target_word2idx:\n",
        "            target_word2idx[words] = len(target_word2idx)\n",
        "    return source_word2idx, target_word2idx"
      ],
      "execution_count": null,
      "outputs": []
    },
    {
      "cell_type": "code",
      "metadata": {
        "id": "r5aF5T0n85s5"
      },
      "source": [
        "train_file = 'data_1_train.csv'\n",
        "#train_file = 'data/data_2_train.csv'\n",
        "a=[0,1,2]\n",
        "data = read_data(train_file)\n",
        "data=data[data[' class'].isin(a)]\n",
        "parsed_data = parse_data(data)\n",
        "source_word2idx, target_word2idx = create_vocab(parsed_data)\n",
        "\n",
        "#trainData, testData = process_data.split_data(parsed_data, 80, 20)\n",
        "train_data = read_and_process_data(parsed_data, source_word2idx, target_word2idx)\n",
        "#test_data = process_data.read_and_process_data(testData, source_word2idx, target_word2idx)"
      ],
      "execution_count": null,
      "outputs": []
    },
    {
      "cell_type": "code",
      "metadata": {
        "colab": {
          "base_uri": "https://localhost:8080/"
        },
        "id": "96-49HpdyjA5",
        "outputId": "db3c2b71-d495-4b67-ce4d-6be00fabd494"
      },
      "source": [
        "data[' class'].value_counts()"
      ],
      "execution_count": null,
      "outputs": [
        {
          "output_type": "execute_result",
          "data": {
            "text/plain": [
              "Series([], Name:  class, dtype: int64)"
            ]
          },
          "metadata": {
            "tags": []
          },
          "execution_count": 84
        }
      ]
    },
    {
      "cell_type": "code",
      "metadata": {
        "colab": {
          "base_uri": "https://localhost:8080/"
        },
        "id": "9WXsMlYf9VIu",
        "outputId": "250e0101-4743-403e-aef1-a5b0a3ef19e0"
      },
      "source": [
        "x1_list, x2_list, x3_list = list(), list(), list()\n",
        "example_list = list()\n",
        "\n",
        "sen_max_len = train_data[4]\n",
        "print(\"sen_max_len: \",sen_max_len)\n",
        "\n",
        "for i in range(len(train_data[0])):\n",
        "    x1, x2, x3 = list(), list(), list()\n",
        "    \n",
        "    x1.extend(train_data[0][i])\n",
        "    if len(x1) < sen_max_len:\n",
        "        for _ in range(sen_max_len - len(x1)):\n",
        "            x1.append(0)\n",
        "    \n",
        "    x2.extend(train_data[1][i])\n",
        "    if len(x2) < sen_max_len:\n",
        "        for _ in range(sen_max_len - len(x2)):\n",
        "            x2.append(0)\n",
        "            \n",
        "    x3.extend(train_data[2][i])\n",
        "    for j in range(len(x1) - 1):\n",
        "        x3.append(x3[0])\n",
        "    for k in range(sen_max_len - len(x3)):\n",
        "        x3.append(0)\n",
        "    \n",
        "    example = list()\n",
        "    example.append(x1)\n",
        "    example.append(x2)\n",
        "    example.append(x3)\n",
        "    #print(\"example: \",example)\n",
        "    example_list.append(example)\n",
        "\n",
        "len(example_list)\n",
        "\n",
        "final_array = np.array(example_list)\n",
        "print(final_array.shape)\n",
        "\n",
        "nsamples, nx, ny = final_array.shape\n",
        "feature_vector = final_array.reshape((nsamples,nx*ny))\n",
        "print(feature_vector.shape)\n",
        "labels = train_data[3]"
      ],
      "execution_count": null,
      "outputs": [
        {
          "output_type": "stream",
          "text": [
            "sen_max_len:  2602\n",
            "(2203, 3, 2602)\n",
            "(2203, 7806)\n"
          ],
          "name": "stdout"
        }
      ]
    },
    {
      "cell_type": "code",
      "metadata": {
        "colab": {
          "base_uri": "https://localhost:8080/"
        },
        "id": "DhwcRYNZ9cc-",
        "outputId": "e87cc112-0979-4699-f185-801a979a089b"
      },
      "source": [
        "from collections import Counter\n",
        "Counter(labels).keys() # equals to list(set(words))\n",
        "# counts the elements' frequency\n",
        "Counter(labels).values()"
      ],
      "execution_count": null,
      "outputs": [
        {
          "output_type": "execute_result",
          "data": {
            "text/plain": [
              "dict_values([430, 926, 822, 2, 1, 1, 1, 1, 1, 1, 1, 1, 1, 1, 1, 1, 1, 1, 1, 1, 1, 1, 1, 1, 1, 1, 1])"
            ]
          },
          "metadata": {
            "tags": []
          },
          "execution_count": 73
        }
      ]
    },
    {
      "cell_type": "code",
      "metadata": {
        "id": "nXUuUa8197jV"
      },
      "source": [
        "from imblearn.over_sampling import SMOTE, ADASYN\n",
        "X_resampled, y_resampled = SMOTE().fit_sample(feature_vector, labels)\n",
        "print(sorted(Counter(y_resampled).items()))"
      ],
      "execution_count": null,
      "outputs": []
    },
    {
      "cell_type": "code",
      "metadata": {
        "id": "QpXiMdZG-Ati"
      },
      "source": [
        "train_vectors, test_vectors, train_labels, test_labels = train_test_split(feature_vector, labels, test_size=0.2, random_state=0)\n"
      ],
      "execution_count": null,
      "outputs": []
    },
    {
      "cell_type": "code",
      "metadata": {
        "colab": {
          "base_uri": "https://localhost:8080/"
        },
        "id": "00Jy2x7n-Fu4",
        "outputId": "d798ab7a-e633-4429-d61f-030e68e7f315"
      },
      "source": [
        "from collections import Counter\n",
        "Counter(train_labels).keys() # equals to list(set(words))\n",
        "# counts the elements' frequency\n",
        "Counter(train_labels).values()"
      ],
      "execution_count": null,
      "outputs": [
        {
          "output_type": "execute_result",
          "data": {
            "text/plain": [
              "dict_values([664, 741, 341, 1, 1, 1, 1, 1, 1, 1, 1, 1, 1, 2, 1, 1, 1, 1])"
            ]
          },
          "metadata": {
            "tags": []
          },
          "execution_count": 76
        }
      ]
    },
    {
      "cell_type": "code",
      "metadata": {
        "colab": {
          "base_uri": "https://localhost:8080/"
        },
        "id": "qUGRu_2u-KOZ",
        "outputId": "8026f5a3-977b-48cc-c704-acdb949494d7"
      },
      "source": [
        "\n",
        "print(train_vectors.shape)\n",
        "print(test_vectors.shape)\n",
        "\n",
        "print(type(train_labels))"
      ],
      "execution_count": null,
      "outputs": [
        {
          "output_type": "stream",
          "text": [
            "(1762, 7806)\n",
            "(441, 7806)\n",
            "<class 'list'>\n"
          ],
          "name": "stdout"
        }
      ]
    },
    {
      "cell_type": "code",
      "metadata": {
        "id": "N082C7Fu-Nyx"
      },
      "source": [
        "from matplotlib import pylab as plt\n",
        "\n",
        "from sklearn.ensemble import ExtraTreesClassifier\n",
        "\n",
        "forest = ExtraTreesClassifier(n_estimators=250,\n",
        "                              random_state=0)\n",
        "X = train_vectors\n",
        "y = train_labels\n",
        "forest.fit(X, y)\n",
        "importances = forest.feature_importances_\n",
        "std = np.std([tree.feature_importances_ for tree in forest.estimators_],\n",
        "             axis=0)\n",
        "indices = np.argsort(importances)[::-1]\n",
        "\n",
        "# Print the feature ranking\n",
        "#print(\"Feature ranking:\")\n",
        "\n",
        "# for f in range(X.shape[1]):\n",
        "#     print(\"%d. feature %d (%f)\" % (f + 1, indices[f], importances[indices[f]]))\n",
        "\n",
        "# Plot the feature importances of the forest\n",
        "plt.figure()\n",
        "plt.title(\"Feature importances\")\n",
        "plt.bar(range(X.shape[1]), importances[indices],\n",
        "       color=\"r\", yerr=std[indices], align=\"center\")\n",
        "plt.xticks(range(X.shape[1]), indices)\n",
        "plt.xlim([-1, X.shape[1]])\n",
        "plt.show()"
      ],
      "execution_count": null,
      "outputs": []
    },
    {
      "cell_type": "code",
      "metadata": {
        "colab": {
          "base_uri": "https://localhost:8080/"
        },
        "id": "gD2z-Pn1-ZCa",
        "outputId": "438246ed-1e54-46ad-f151-6672a1912047"
      },
      "source": [
        "importances.shape\n",
        "train_vectors.shape[0]\n",
        "train_X = np.zeros(shape=(train_vectors.shape[0],50))\n",
        "train_X.shape"
      ],
      "execution_count": null,
      "outputs": [
        {
          "output_type": "execute_result",
          "data": {
            "text/plain": [
              "(1762, 50)"
            ]
          },
          "metadata": {
            "tags": []
          },
          "execution_count": 80
        }
      ]
    },
    {
      "cell_type": "code",
      "metadata": {
        "colab": {
          "base_uri": "https://localhost:8080/"
        },
        "id": "83kruKNs-cMN",
        "outputId": "a28e47ef-ab88-45b6-ba33-ea18c4e6e81a"
      },
      "source": [
        "for i in range(train_vectors.shape[0]):\n",
        "    for j in range(50):\n",
        "        # print(\"indices [\",j,\"]: \",indices[j], \" train_vectors[i][indices[j]]:\",train_vectors[i][indices[j]])\n",
        "        train_X[i][j] = train_vectors[i][indices[j]]\n",
        "        \n",
        "print(\"***************************\")  \n",
        "print(train_X[i][j])"
      ],
      "execution_count": null,
      "outputs": [
        {
          "output_type": "stream",
          "text": [
            "***************************\n",
            "0.0\n"
          ],
          "name": "stdout"
        }
      ]
    },
    {
      "cell_type": "code",
      "metadata": {
        "id": "2QjHryrg180d"
      },
      "source": [
        "from sklearn.naive_bayes import MultinomialNB\n",
        "\n",
        "nb = MultinomialNB()\n",
        "\n",
        "print(\"Results for NB: \")\n",
        "print()\n",
        "\n",
        "nb_scores = cross_val_score(nb, train_vectors, train_labels, cv=10)  \n",
        "print('scores: ', nb_scores)\n",
        "\n",
        "nb.fit(train_vectors,train_labels)\n",
        "y_pred = nb.predict(test_vectors) \n",
        "\n",
        "nb_accuracy = accuracy_score(test_labels, y_pred)\n",
        "\n",
        "print()\n",
        "\n",
        "print(\"\")\n",
        "print(classification_report(test_labels, y_pred))\n",
        "print(\"Overall accuracy: \",nb_accuracy)"
      ],
      "execution_count": null,
      "outputs": []
    },
    {
      "cell_type": "code",
      "metadata": {
        "id": "Cp3-FTJI-g-7"
      },
      "source": [
        "from sklearn.ensemble import RandomForestClassifier as RFR\n",
        "#10,20,50,80\n",
        "n_estimators = [100,200,500]\n",
        "rfr = RFR(n_estimators=100,random_state=0)\n",
        "\n",
        "print(\"Results for RFR: \")\n",
        "print()\n",
        "\n",
        "rfr_scores = cross_val_score(rfr, train_vectors, train_labels, cv=10)  \n",
        "print('scores: ', rfr_scores)\n",
        "\n",
        "rfr.fit(train_vectors,train_labels)\n",
        "y_pred = rfr.predict(test_vectors) \n",
        "\n",
        "rfr_accuracy = accuracy_score(test_labels, y_pred)\n",
        "\n",
        "print()\n",
        "\n",
        "print(\"\")\n",
        "print(classification_report(test_labels, y_pred))\n",
        "print(\"Overall accuracy: \",rfr_accuracy)"
      ],
      "execution_count": null,
      "outputs": []
    },
    {
      "cell_type": "code",
      "metadata": {
        "id": "7q6cWDj3-lrQ"
      },
      "source": [
        "from sklearn.tree import DecisionTreeClassifier\n",
        "\n",
        "dt_clf = DecisionTreeClassifier(max_depth=None, min_samples_split=2,random_state=0)\n",
        "print(\"Results for DecisionTreeClassifier: \")\n",
        "print()\n",
        "rfr_scores = cross_val_score(rfr, train_vectors, train_labels, cv=10)  \n",
        "print('scores: ', rfr_scores)\n",
        "\n",
        "dt_clf.fit(train_vectors,train_labels)\n",
        "y_pred = dt_clf.predict(test_vectors)\n",
        "\n",
        "accuracy = accuracy_score(test_labels, y_pred)\n",
        "\n",
        "print(\"\")\n",
        "print(classification_report(test_labels, y_pred))\n",
        "print(\"Overall accuracy: \",accuracy)"
      ],
      "execution_count": null,
      "outputs": []
    },
    {
      "cell_type": "code",
      "metadata": {
        "id": "fXg1-Giv_F-X"
      },
      "source": [
        "from sklearn.neighbors import KNeighborsClassifier\n",
        "\n",
        "knn = KNeighborsClassifier()\n",
        "\n",
        "scores = cross_val_score(knn, train_vectors, train_labels, cv=10)  \n",
        "print('scores: ', scores)\n",
        "\n",
        "knn.fit(train_vectors, train_labels)\n",
        "y_pred = knn.predict(test_vectors)\n",
        "\n",
        "accuracy = accuracy_score(test_labels, y_pred)\n",
        "\n",
        "print(\"\")\n",
        "print(classification_report(test_labels, y_pred))\n",
        "print(\"Overall accuracy: \",accuracy)"
      ],
      "execution_count": null,
      "outputs": []
    },
    {
      "cell_type": "code",
      "metadata": {
        "id": "vzesMxzW_KhD"
      },
      "source": [
        "svc_classifier = svm.SVC(C = 100)\n",
        "\n",
        "classifier_svc_scores = cross_val_score(svc_classifier, train_vectors, train_labels, cv=10)  \n",
        "print('scores: ', classifier_svc_scores)\n",
        "\n",
        "svc_classifier.fit(train_vectors, train_labels)\n",
        "prediction_svc = svc_classifier.predict(test_vectors)\n",
        "\n",
        "classifier_svc_accuracy = accuracy_score(test_labels, prediction_svc)\n",
        "print('classifier_svc_accuracy: ', classifier_svc_accuracy)\n",
        "\n",
        "print(\"\")\n",
        "print(classification_report(test_labels, prediction_svc))\n",
        "print(\"Overall accuracy: \",classifier_svc_accuracy)"
      ],
      "execution_count": null,
      "outputs": []
    },
    {
      "cell_type": "code",
      "metadata": {
        "id": "-br7-mzW_Otr"
      },
      "source": [
        "from sklearn.naive_bayes import GaussianNB\n",
        "from sklearn.ensemble import RandomForestClassifier, VotingClassifier\n",
        "\n",
        "eclf1 = VotingClassifier(estimators=[('rfr', rfr), ('knn', knn), ('dt_clf', dt_clf)], voting='hard')\n",
        "eclf1 = eclf1.fit(train_vectors, train_labels)\n",
        "eclf1_pred = eclf1.predict(test_vectors)\n",
        "eclf1_accuracy_score = accuracy_score(test_labels, eclf1_pred)\n",
        "print(eclf1_accuracy_score)\n",
        "\n",
        "eclf2 = VotingClassifier(estimators=[('rfr', rfr), ('knn', knn), ('dt_clf', dt_clf)], voting='soft')\n",
        "eclf2 = eclf2.fit(train_vectors, train_labels)\n",
        "eclf2_pred = eclf2.predict(test_vectors)\n",
        "eclf2_accuracy_score = accuracy_score(test_labels, eclf2_pred)\n",
        "print(eclf2_accuracy_score)"
      ],
      "execution_count": null,
      "outputs": []
    },
    {
      "cell_type": "markdown",
      "metadata": {
        "id": "2p6vra27y7Wh"
      },
      "source": [
        "# Aspect sentiment- DL"
      ]
    },
    {
      "cell_type": "code",
      "metadata": {
        "colab": {
          "base_uri": "https://localhost:8080/"
        },
        "id": "pd8pRGKXJWCV",
        "outputId": "490d7e3e-fdfd-43f7-eef4-7230cea95611"
      },
      "source": [
        "!pip install transformers"
      ],
      "execution_count": null,
      "outputs": [
        {
          "output_type": "stream",
          "text": [
            "Collecting transformers\n",
            "\u001b[?25l  Downloading https://files.pythonhosted.org/packages/3a/83/e74092e7f24a08d751aa59b37a9fc572b2e4af3918cb66f7766c3affb1b4/transformers-3.5.1-py3-none-any.whl (1.3MB)\n",
            "\u001b[K     |████████████████████████████████| 1.3MB 4.3MB/s \n",
            "\u001b[?25hRequirement already satisfied: packaging in /usr/local/lib/python3.6/dist-packages (from transformers) (20.4)\n",
            "Requirement already satisfied: regex!=2019.12.17 in /usr/local/lib/python3.6/dist-packages (from transformers) (2019.12.20)\n",
            "Collecting sacremoses\n",
            "\u001b[?25l  Downloading https://files.pythonhosted.org/packages/7d/34/09d19aff26edcc8eb2a01bed8e98f13a1537005d31e95233fd48216eed10/sacremoses-0.0.43.tar.gz (883kB)\n",
            "\u001b[K     |████████████████████████████████| 890kB 44.7MB/s \n",
            "\u001b[?25hRequirement already satisfied: dataclasses; python_version < \"3.7\" in /usr/local/lib/python3.6/dist-packages (from transformers) (0.7)\n",
            "Requirement already satisfied: filelock in /usr/local/lib/python3.6/dist-packages (from transformers) (3.0.12)\n",
            "Collecting tokenizers==0.9.3\n",
            "\u001b[?25l  Downloading https://files.pythonhosted.org/packages/4c/34/b39eb9994bc3c999270b69c9eea40ecc6f0e97991dba28282b9fd32d44ee/tokenizers-0.9.3-cp36-cp36m-manylinux1_x86_64.whl (2.9MB)\n",
            "\u001b[K     |████████████████████████████████| 2.9MB 44.2MB/s \n",
            "\u001b[?25hRequirement already satisfied: requests in /usr/local/lib/python3.6/dist-packages (from transformers) (2.23.0)\n",
            "Requirement already satisfied: protobuf in /usr/local/lib/python3.6/dist-packages (from transformers) (3.12.4)\n",
            "Collecting sentencepiece==0.1.91\n",
            "\u001b[?25l  Downloading https://files.pythonhosted.org/packages/d4/a4/d0a884c4300004a78cca907a6ff9a5e9fe4f090f5d95ab341c53d28cbc58/sentencepiece-0.1.91-cp36-cp36m-manylinux1_x86_64.whl (1.1MB)\n",
            "\u001b[K     |████████████████████████████████| 1.1MB 42.8MB/s \n",
            "\u001b[?25hRequirement already satisfied: numpy in /usr/local/lib/python3.6/dist-packages (from transformers) (1.18.5)\n",
            "Requirement already satisfied: tqdm>=4.27 in /usr/local/lib/python3.6/dist-packages (from transformers) (4.41.1)\n",
            "Requirement already satisfied: six in /usr/local/lib/python3.6/dist-packages (from packaging->transformers) (1.15.0)\n",
            "Requirement already satisfied: pyparsing>=2.0.2 in /usr/local/lib/python3.6/dist-packages (from packaging->transformers) (2.4.7)\n",
            "Requirement already satisfied: click in /usr/local/lib/python3.6/dist-packages (from sacremoses->transformers) (7.1.2)\n",
            "Requirement already satisfied: joblib in /usr/local/lib/python3.6/dist-packages (from sacremoses->transformers) (0.17.0)\n",
            "Requirement already satisfied: idna<3,>=2.5 in /usr/local/lib/python3.6/dist-packages (from requests->transformers) (2.10)\n",
            "Requirement already satisfied: chardet<4,>=3.0.2 in /usr/local/lib/python3.6/dist-packages (from requests->transformers) (3.0.4)\n",
            "Requirement already satisfied: urllib3!=1.25.0,!=1.25.1,<1.26,>=1.21.1 in /usr/local/lib/python3.6/dist-packages (from requests->transformers) (1.24.3)\n",
            "Requirement already satisfied: certifi>=2017.4.17 in /usr/local/lib/python3.6/dist-packages (from requests->transformers) (2020.6.20)\n",
            "Requirement already satisfied: setuptools in /usr/local/lib/python3.6/dist-packages (from protobuf->transformers) (50.3.2)\n",
            "Building wheels for collected packages: sacremoses\n",
            "  Building wheel for sacremoses (setup.py) ... \u001b[?25l\u001b[?25hdone\n",
            "  Created wheel for sacremoses: filename=sacremoses-0.0.43-cp36-none-any.whl size=893257 sha256=359e2148412679a0f876318fa303eaef42820caa225a2f34172aa6c0ab32e775\n",
            "  Stored in directory: /root/.cache/pip/wheels/29/3c/fd/7ce5c3f0666dab31a50123635e6fb5e19ceb42ce38d4e58f45\n",
            "Successfully built sacremoses\n",
            "Installing collected packages: sacremoses, tokenizers, sentencepiece, transformers\n",
            "Successfully installed sacremoses-0.0.43 sentencepiece-0.1.91 tokenizers-0.9.3 transformers-3.5.1\n"
          ],
          "name": "stdout"
        }
      ]
    },
    {
      "cell_type": "code",
      "metadata": {
        "colab": {
          "base_uri": "https://localhost:8080/"
        },
        "id": "emGzzAjxWhzc",
        "outputId": "168de98f-015d-4213-ab27-5690a7cee2d7"
      },
      "source": [
        "!pip install tensorflow==1.14"
      ],
      "execution_count": null,
      "outputs": [
        {
          "output_type": "stream",
          "text": [
            "Collecting tensorflow==1.14\n",
            "\u001b[?25l  Downloading https://files.pythonhosted.org/packages/de/f0/96fb2e0412ae9692dbf400e5b04432885f677ad6241c088ccc5fe7724d69/tensorflow-1.14.0-cp36-cp36m-manylinux1_x86_64.whl (109.2MB)\n",
            "\u001b[K     |████████████████████████████████| 109.2MB 49kB/s \n",
            "\u001b[?25hRequirement already satisfied: absl-py>=0.7.0 in /usr/local/lib/python3.6/dist-packages (from tensorflow==1.14) (0.10.0)\n",
            "Requirement already satisfied: gast>=0.2.0 in /usr/local/lib/python3.6/dist-packages (from tensorflow==1.14) (0.3.3)\n",
            "Requirement already satisfied: wrapt>=1.11.1 in /usr/local/lib/python3.6/dist-packages (from tensorflow==1.14) (1.12.1)\n",
            "Requirement already satisfied: grpcio>=1.8.6 in /usr/local/lib/python3.6/dist-packages (from tensorflow==1.14) (1.33.2)\n",
            "Collecting tensorboard<1.15.0,>=1.14.0\n",
            "\u001b[?25l  Downloading https://files.pythonhosted.org/packages/91/2d/2ed263449a078cd9c8a9ba50ebd50123adf1f8cfbea1492f9084169b89d9/tensorboard-1.14.0-py3-none-any.whl (3.1MB)\n",
            "\u001b[K     |████████████████████████████████| 3.2MB 37.4MB/s \n",
            "\u001b[?25hCollecting keras-applications>=1.0.6\n",
            "\u001b[?25l  Downloading https://files.pythonhosted.org/packages/71/e3/19762fdfc62877ae9102edf6342d71b28fbfd9dea3d2f96a882ce099b03f/Keras_Applications-1.0.8-py3-none-any.whl (50kB)\n",
            "\u001b[K     |████████████████████████████████| 51kB 5.9MB/s \n",
            "\u001b[?25hRequirement already satisfied: google-pasta>=0.1.6 in /usr/local/lib/python3.6/dist-packages (from tensorflow==1.14) (0.2.0)\n",
            "Requirement already satisfied: wheel>=0.26 in /usr/local/lib/python3.6/dist-packages (from tensorflow==1.14) (0.35.1)\n",
            "Collecting tensorflow-estimator<1.15.0rc0,>=1.14.0rc0\n",
            "\u001b[?25l  Downloading https://files.pythonhosted.org/packages/3c/d5/21860a5b11caf0678fbc8319341b0ae21a07156911132e0e71bffed0510d/tensorflow_estimator-1.14.0-py2.py3-none-any.whl (488kB)\n",
            "\u001b[K     |████████████████████████████████| 491kB 41.5MB/s \n",
            "\u001b[?25hRequirement already satisfied: protobuf>=3.6.1 in /usr/local/lib/python3.6/dist-packages (from tensorflow==1.14) (3.12.4)\n",
            "Requirement already satisfied: termcolor>=1.1.0 in /usr/local/lib/python3.6/dist-packages (from tensorflow==1.14) (1.1.0)\n",
            "Requirement already satisfied: six>=1.10.0 in /usr/local/lib/python3.6/dist-packages (from tensorflow==1.14) (1.15.0)\n",
            "Requirement already satisfied: keras-preprocessing>=1.0.5 in /usr/local/lib/python3.6/dist-packages (from tensorflow==1.14) (1.1.2)\n",
            "Requirement already satisfied: numpy<2.0,>=1.14.5 in /usr/local/lib/python3.6/dist-packages (from tensorflow==1.14) (1.18.5)\n",
            "Requirement already satisfied: astor>=0.6.0 in /usr/local/lib/python3.6/dist-packages (from tensorflow==1.14) (0.8.1)\n",
            "Requirement already satisfied: werkzeug>=0.11.15 in /usr/local/lib/python3.6/dist-packages (from tensorboard<1.15.0,>=1.14.0->tensorflow==1.14) (1.0.1)\n",
            "Requirement already satisfied: markdown>=2.6.8 in /usr/local/lib/python3.6/dist-packages (from tensorboard<1.15.0,>=1.14.0->tensorflow==1.14) (3.3.3)\n",
            "Requirement already satisfied: setuptools>=41.0.0 in /usr/local/lib/python3.6/dist-packages (from tensorboard<1.15.0,>=1.14.0->tensorflow==1.14) (50.3.2)\n",
            "Requirement already satisfied: h5py in /usr/local/lib/python3.6/dist-packages (from keras-applications>=1.0.6->tensorflow==1.14) (2.10.0)\n",
            "Requirement already satisfied: importlib-metadata; python_version < \"3.8\" in /usr/local/lib/python3.6/dist-packages (from markdown>=2.6.8->tensorboard<1.15.0,>=1.14.0->tensorflow==1.14) (2.0.0)\n",
            "Requirement already satisfied: zipp>=0.5 in /usr/local/lib/python3.6/dist-packages (from importlib-metadata; python_version < \"3.8\"->markdown>=2.6.8->tensorboard<1.15.0,>=1.14.0->tensorflow==1.14) (3.4.0)\n",
            "Installing collected packages: tensorboard, keras-applications, tensorflow-estimator, tensorflow\n",
            "  Found existing installation: tensorboard 2.3.0\n",
            "    Uninstalling tensorboard-2.3.0:\n",
            "      Successfully uninstalled tensorboard-2.3.0\n",
            "  Found existing installation: tensorflow-estimator 2.3.0\n",
            "    Uninstalling tensorflow-estimator-2.3.0:\n",
            "      Successfully uninstalled tensorflow-estimator-2.3.0\n",
            "  Found existing installation: tensorflow 2.3.0\n",
            "    Uninstalling tensorflow-2.3.0:\n",
            "      Successfully uninstalled tensorflow-2.3.0\n",
            "Successfully installed keras-applications-1.0.8 tensorboard-1.14.0 tensorflow-1.14.0 tensorflow-estimator-1.14.0\n"
          ],
          "name": "stdout"
        }
      ]
    },
    {
      "cell_type": "code",
      "metadata": {
        "colab": {
          "base_uri": "https://localhost:8080/"
        },
        "id": "i62v6sx-B62_",
        "outputId": "8ad70dbf-3969-4532-dd0e-2c4208a82583"
      },
      "source": [
        "import os\n",
        "import gc\n",
        "import zipfile\n",
        "import random\n",
        "\n",
        "import pandas as pd\n",
        "import numpy as np\n",
        "import torch\n",
        "import gensim\n",
        "import nltk\n",
        "import spacy\n",
        "import matplotlib.pyplot as plt\n",
        "import seaborn as sns\n",
        "import bs4\n",
        "\n",
        "from tqdm.notebook import tqdm\n",
        "\n",
        "\n",
        "from sklearn.metrics import accuracy_score, f1_score\n",
        "from sklearn.model_selection import train_test_split\n",
        "\n",
        "import torch.nn as nn\n",
        "import torch.nn.functional as F\n",
        "import torch.optim as optim\n",
        "import torchtext\n",
        "from torch.utils.data import Dataset as TorchDataset\n",
        "from torch.utils.data import DataLoader\n",
        "\n",
        "from transformers import AdamW\n",
        "\n",
        "from google.colab import drive\n",
        "\n",
        "USE_GOOGLE_DRIVE = True\n",
        "\n",
        "sns.set(font_scale=1.2)"
      ],
      "execution_count": null,
      "outputs": [
        {
          "output_type": "stream",
          "text": [
            "/usr/local/lib/python3.6/dist-packages/tensorflow/python/framework/dtypes.py:516: FutureWarning: Passing (type, 1) or '1type' as a synonym of type is deprecated; in a future version of numpy, it will be understood as (type, (1,)) / '(1,)type'.\n",
            "  _np_qint8 = np.dtype([(\"qint8\", np.int8, 1)])\n",
            "/usr/local/lib/python3.6/dist-packages/tensorflow/python/framework/dtypes.py:517: FutureWarning: Passing (type, 1) or '1type' as a synonym of type is deprecated; in a future version of numpy, it will be understood as (type, (1,)) / '(1,)type'.\n",
            "  _np_quint8 = np.dtype([(\"quint8\", np.uint8, 1)])\n",
            "/usr/local/lib/python3.6/dist-packages/tensorflow/python/framework/dtypes.py:518: FutureWarning: Passing (type, 1) or '1type' as a synonym of type is deprecated; in a future version of numpy, it will be understood as (type, (1,)) / '(1,)type'.\n",
            "  _np_qint16 = np.dtype([(\"qint16\", np.int16, 1)])\n",
            "/usr/local/lib/python3.6/dist-packages/tensorflow/python/framework/dtypes.py:519: FutureWarning: Passing (type, 1) or '1type' as a synonym of type is deprecated; in a future version of numpy, it will be understood as (type, (1,)) / '(1,)type'.\n",
            "  _np_quint16 = np.dtype([(\"quint16\", np.uint16, 1)])\n",
            "/usr/local/lib/python3.6/dist-packages/tensorflow/python/framework/dtypes.py:520: FutureWarning: Passing (type, 1) or '1type' as a synonym of type is deprecated; in a future version of numpy, it will be understood as (type, (1,)) / '(1,)type'.\n",
            "  _np_qint32 = np.dtype([(\"qint32\", np.int32, 1)])\n",
            "/usr/local/lib/python3.6/dist-packages/tensorflow/python/framework/dtypes.py:525: FutureWarning: Passing (type, 1) or '1type' as a synonym of type is deprecated; in a future version of numpy, it will be understood as (type, (1,)) / '(1,)type'.\n",
            "  np_resource = np.dtype([(\"resource\", np.ubyte, 1)])\n",
            "/usr/local/lib/python3.6/dist-packages/tensorboard/compat/tensorflow_stub/dtypes.py:541: FutureWarning: Passing (type, 1) or '1type' as a synonym of type is deprecated; in a future version of numpy, it will be understood as (type, (1,)) / '(1,)type'.\n",
            "  _np_qint8 = np.dtype([(\"qint8\", np.int8, 1)])\n",
            "/usr/local/lib/python3.6/dist-packages/tensorboard/compat/tensorflow_stub/dtypes.py:542: FutureWarning: Passing (type, 1) or '1type' as a synonym of type is deprecated; in a future version of numpy, it will be understood as (type, (1,)) / '(1,)type'.\n",
            "  _np_quint8 = np.dtype([(\"quint8\", np.uint8, 1)])\n",
            "/usr/local/lib/python3.6/dist-packages/tensorboard/compat/tensorflow_stub/dtypes.py:543: FutureWarning: Passing (type, 1) or '1type' as a synonym of type is deprecated; in a future version of numpy, it will be understood as (type, (1,)) / '(1,)type'.\n",
            "  _np_qint16 = np.dtype([(\"qint16\", np.int16, 1)])\n",
            "/usr/local/lib/python3.6/dist-packages/tensorboard/compat/tensorflow_stub/dtypes.py:544: FutureWarning: Passing (type, 1) or '1type' as a synonym of type is deprecated; in a future version of numpy, it will be understood as (type, (1,)) / '(1,)type'.\n",
            "  _np_quint16 = np.dtype([(\"quint16\", np.uint16, 1)])\n",
            "/usr/local/lib/python3.6/dist-packages/tensorboard/compat/tensorflow_stub/dtypes.py:545: FutureWarning: Passing (type, 1) or '1type' as a synonym of type is deprecated; in a future version of numpy, it will be understood as (type, (1,)) / '(1,)type'.\n",
            "  _np_qint32 = np.dtype([(\"qint32\", np.int32, 1)])\n",
            "/usr/local/lib/python3.6/dist-packages/tensorboard/compat/tensorflow_stub/dtypes.py:550: FutureWarning: Passing (type, 1) or '1type' as a synonym of type is deprecated; in a future version of numpy, it will be understood as (type, (1,)) / '(1,)type'.\n",
            "  np_resource = np.dtype([(\"resource\", np.ubyte, 1)])\n"
          ],
          "name": "stderr"
        }
      ]
    },
    {
      "cell_type": "code",
      "metadata": {
        "colab": {
          "base_uri": "https://localhost:8080/"
        },
        "id": "bna07trLSf__",
        "outputId": "f798a6c4-896f-4f9e-c386-a1b4f1978fa3"
      },
      "source": [
        "USE_GPU = True\n",
        "\n",
        "if USE_GPU and torch.cuda.is_available():\n",
        "    device = torch.device('cuda')\n",
        "else:\n",
        "    device = torch.device('cpu')\n",
        "\n",
        "print('using device:', device)"
      ],
      "execution_count": null,
      "outputs": [
        {
          "output_type": "stream",
          "text": [
            "using device: cpu\n"
          ],
          "name": "stdout"
        }
      ]
    },
    {
      "cell_type": "code",
      "metadata": {
        "id": "hsjH-F_IScsV"
      },
      "source": [
        "random_seed = 42\n",
        "random_state = random_seed\n",
        "\n",
        "def set_seed_everywhere(seed, cuda):\n",
        "    random.seed(seed)\n",
        "    np.random.seed(seed)\n",
        "    torch.manual_seed(seed)\n",
        "    torch.backends.cudnn.deterministic = True\n",
        "    torch.backends.cudnn.benchmark = False\n",
        "    if cuda:\n",
        "        torch.cuda.manual_seed_all(seed)\n",
        "\n",
        "set_seed_everywhere(random_seed, USE_GPU)"
      ],
      "execution_count": null,
      "outputs": []
    },
    {
      "cell_type": "code",
      "metadata": {
        "id": "N21lEhsBDK70"
      },
      "source": [
        "def xml2pandas(data_path):\n",
        "    aspect_categories = ['size', 'charge', 'battery', 'speaker', \n",
        "                        'memory']\n",
        "    num_aspects = len(aspect_categories)\n",
        "    data_dict = {'sentence_id': [], 'text': []}\n",
        "    data_dict.update({key: [] for key in aspect_categories})\n",
        "\n",
        "    sent2class = {'none': 0, 'neutral': 1, 'positive': 2, 'negative': 3, \n",
        "                'conflict': 4}\n",
        "\n",
        "    with open(data_path, 'r') as inf:\n",
        "        contents = inf.read()\n",
        "        soup = bs4.BeautifulSoup(contents, 'xml')\n",
        "        for sentence in soup.find_all('sentence'):\n",
        "            data_dict['sentence_id'].append(sentence['id'])\n",
        "\n",
        "            text = sentence.find('text').text\n",
        "            data_dict['text'].append(text)\n",
        "\n",
        "            categories = sentence.find('aspectCategories').find_all(\n",
        "                'aspectCategory'\n",
        "            )\n",
        "            for aspect_category in aspect_categories:\n",
        "                data_dict[aspect_category].append(0)\n",
        "            \n",
        "            for aspect_category in categories:\n",
        "                data_dict[\n",
        "                    aspect_category['category']\n",
        "                ][-1] = sent2class[aspect_category['polarity']]\n",
        "\n",
        "    data = pd.DataFrame(data_dict)\n",
        "    return data"
      ],
      "execution_count": null,
      "outputs": []
    },
    {
      "cell_type": "code",
      "metadata": {
        "id": "XgfGGHiIV-S6"
      },
      "source": [
        "def raw2processed(data, remain_sentiments, filename):\n",
        "    data_processed_dict = {'text': [], 'aspect': [], 'sentiment': []}\n",
        "    aspect_categories = list(data.columns[2:])\n",
        "    for i, row in data.iterrows():\n",
        "        for aspect_category in aspect_categories:\n",
        "            data_processed_dict['text'].append(row['text'])\n",
        "            data_processed_dict['aspect'].append(aspect_category)\n",
        "            data_processed_dict['sentiment'].append(row[aspect_category])\n",
        "\n",
        "    data_processed = pd.DataFrame(data_processed_dict)\n",
        "    data_processed = data_processed[\n",
        "        data_processed.sentiment.isin(remain_sentiments)\n",
        "    ]\n",
        "\n",
        "    data_path = os.path.join(PATH_PREFIX, 'processed', filename)\n",
        "    data_processed.to_csv(data_path, index=False)\n",
        "    return data_processed"
      ],
      "execution_count": null,
      "outputs": []
    },
    {
      "cell_type": "code",
      "metadata": {
        "id": "-4IG86IdXn99"
      },
      "source": [
        "TEXT = torchtext.data.Field(\n",
        "    tokenize='spacy', batch_first=True, init_token='<begin>', \n",
        "    eos_token='<end>', lower=True\n",
        ")\n",
        "ASPECT = torchtext.data.LabelField(sequential=False, batch_first=True)\n",
        "SENTIMENT = torchtext.data.LabelField(batch_first=True)"
      ],
      "execution_count": null,
      "outputs": []
    },
    {
      "cell_type": "code",
      "metadata": {
        "id": "HfmJD6wsXt_E"
      },
      "source": [
        "fields = [('text', TEXT), ('aspect', ASPECT), ('sentiment', SENTIMENT)]"
      ],
      "execution_count": null,
      "outputs": []
    },
    {
      "cell_type": "code",
      "metadata": {
        "id": "elk0jrfGikLb"
      },
      "source": [
        "\n",
        "data_train_path = os.path.join(PATH_PREFIX, 'processed', 'restaurants_train.csv')\n",
        "data_test_path = os.path.join(PATH_PREFIX, 'processed', 'restaurants_test.csv')\n",
        "data_all_path = os.path.join(PATH_PREFIX, 'processed', 'restaurants.csv')\n",
        "\n",
        "train_data_all = torchtext.data.TabularDataset(\n",
        "    path=data_train_path, format = 'csv', fields=fields, skip_header=True\n",
        ")\n",
        "test_data = torchtext.data.TabularDataset(\n",
        "    path=data_test_path, format = 'csv', fields=fields, skip_header=True\n",
        ")\n",
        "data_all = torchtext.data.TabularDataset(\n",
        "    path=data_all_path, format = 'csv', fields=fields, skip_header=True\n",
        ")\n"
      ],
      "execution_count": null,
      "outputs": []
    },
    {
      "cell_type": "code",
      "metadata": {
        "id": "Pz3HHNGPiyod"
      },
      "source": [
        "train_data, valid_data = train_data_all.split(\n",
        "    split_ratio=0.8, random_state=random.seed(random_state)\n",
        ")"
      ],
      "execution_count": null,
      "outputs": []
    },
    {
      "cell_type": "code",
      "metadata": {
        "colab": {
          "base_uri": "https://localhost:8080/"
        },
        "id": "0aiFfowli6bS",
        "outputId": "8ea2dff0-6672-433b-b68e-0e1575b3fa19"
      },
      "source": [
        "\n",
        "epsilon = 0.01\n",
        "vectors_cache = os.path.join(PATH_PREFIX, 'processed', 'glove')\n",
        "TEXT.build_vocab(data_all, \n",
        "                 vectors='glove.840B.300d', vectors_cache=vectors_cache,\n",
        "                 unk_init=lambda x: torch.nn.init.uniform_(x, -epsilon, epsilon))\n",
        "ASPECT.build_vocab(train_data)\n",
        "SENTIMENT.build_vocab(train_data)"
      ],
      "execution_count": null,
      "outputs": [
        {
          "output_type": "stream",
          "text": [
            "100%|█████████▉| 2195385/2196017 [04:50<00:00, 8122.79it/s]"
          ],
          "name": "stderr"
        }
      ]
    },
    {
      "cell_type": "code",
      "metadata": {
        "colab": {
          "base_uri": "https://localhost:8080/"
        },
        "id": "f7AKjP_koLsb",
        "outputId": "20f588c2-961e-4f54-e760-8d2a874e70f2"
      },
      "source": [
        "print(f'Size of TEXT vocabulary: {len(TEXT.vocab)}')\n",
        "print(f'Size of ASPECT vocabulary: {len(ASPECT.vocab)}')\n",
        "print(f'Size of SENTIMENT vocabulary: {len(SENTIMENT.vocab)}')"
      ],
      "execution_count": null,
      "outputs": [
        {
          "output_type": "stream",
          "text": [
            "Size of TEXT vocabulary: 5041\n",
            "Size of ASPECT vocabulary: 5\n",
            "Size of SENTIMENT vocabulary: 3\n"
          ],
          "name": "stdout"
        }
      ]
    },
    {
      "cell_type": "code",
      "metadata": {
        "id": "eDYow3wzoTME"
      },
      "source": [
        "batch_size = 64\n",
        "\n",
        "train_iter, val_iter, test_iter = torchtext.data.BucketIterator.splits(\n",
        "        (train_data, valid_data, test_data),\n",
        "        batch_sizes=(batch_size, batch_size, batch_size),\n",
        "        sort=True,\n",
        "        sort_key=lambda x: len(x.text),\n",
        "        sort_within_batch=True,\n",
        "        device=device,\n",
        "        repeat=False\n",
        ")"
      ],
      "execution_count": null,
      "outputs": []
    },
    {
      "cell_type": "code",
      "metadata": {
        "id": "6OPAbCnFKGct"
      },
      "source": [
        "\n",
        "class Permute(nn.Module):\n",
        "    def __init__(self, dims):\n",
        "        super(Permute, self).__init__()\n",
        "        self.dims = dims\n",
        "        \n",
        "    def forward(self, x):\n",
        "        x = x.permute(self.dims).contiguous()\n",
        "        return x\n",
        "\n",
        "class Swish(nn.Module):\n",
        "    def __init__(self):\n",
        "        super(Swish, self).__init__()\n",
        "        \n",
        "    def forward(self, x):\n",
        "        return x * torch.sigmoid(x)\n",
        "\n",
        "class Mish(nn.Module):\n",
        "    def __init__(self):\n",
        "        super(Mish, self).__init__()\n",
        "        \n",
        "    def forward(self, x):\n",
        "        return x * torch.tanh(F.softplus(x))"
      ],
      "execution_count": null,
      "outputs": []
    },
    {
      "cell_type": "code",
      "metadata": {
        "id": "Fp5R_lRqoYlr"
      },
      "source": [
        "class AE_LSTM(nn.Module):\n",
        "\n",
        "    def __init__(\n",
        "        self, num_aspects, embeddings_aspects_dim, hidden_dim, \n",
        "        num_sentiments, \n",
        "        vocab_size=None, embeddings_words_dim=None, embeddings_words_init=None\n",
        "    ):\n",
        "        super(AE_LSTM, self).__init__()\n",
        "\n",
        "        train_from_scratch = (vocab_size is not None \n",
        "                              and embedding_words_dim is not None)\n",
        "        use_pretrained = embeddings_words_init is not None\n",
        "        if not(train_from_scratch or use_pretrained):\n",
        "            raise ValueError('You should use pretrained vectors or '\n",
        "                             'set vocab size and embeddings dim')\n",
        "\n",
        "        if train_from_scratch:\n",
        "            self.embeddings_words = nn.Embedding(\n",
        "                vocab_size, embeddings_words_dim\n",
        "            )\n",
        "        else:\n",
        "            self.embeddings_words = nn.Embedding.from_pretrained(\n",
        "                embeddings_words_init\n",
        "            )\n",
        "            vocab_size, embeddings_words_dim = embeddings_words_init.size()\n",
        "\n",
        "        self.embeddings_aspects = nn.Embedding(\n",
        "            num_aspects, embeddings_aspects_dim\n",
        "        )\n",
        "        self.lstm = nn.LSTM(\n",
        "            embeddings_aspects_dim + embeddings_words_dim, hidden_dim,\n",
        "            batch_first=True\n",
        "        )\n",
        "        self.attention = nn.Sequential(\n",
        "            nn.Linear(embeddings_aspects_dim + hidden_dim, \n",
        "                      embeddings_aspects_dim + hidden_dim),\n",
        "            Permute([0, 2, 1]),     \n",
        "            nn.BatchNorm1d(embeddings_aspects_dim + hidden_dim),\n",
        "            Permute([0, 2, 1]),\n",
        "            nn.Dropout(),\n",
        "            nn.Tanh(),\n",
        "            nn.Linear(embeddings_aspects_dim + hidden_dim, 1),\n",
        "            nn.Softmax(dim=1),\n",
        "        )\n",
        "\n",
        "        self.sentence_representation = nn.Linear(\n",
        "            hidden_dim + hidden_dim, hidden_dim, bias=False\n",
        "        )\n",
        "        self.drop = nn.Dropout()\n",
        "        self.sentence_representation_nonlinearity = nn.Tanh()\n",
        "        self.sentence_representation_to_sentiments = nn.Linear(\n",
        "            hidden_dim, num_sentiments\n",
        "        )\n",
        "        torch.nn.init.xavier_uniform_(self.embeddings_aspects.weight)\n",
        "        torch.nn.init.xavier_uniform_(self.sentence_representation.weight)\n",
        "        torch.nn.init.xavier_uniform_(self.sentence_representation_to_sentiments.weight)\n",
        "\n",
        "        \n",
        "    def forward(self, texts, aspects, hidden=None):\n",
        "        batch_size, seq_len = texts.size()\n",
        "        # shape: [batch_size, seq_len] -> [batch_size, seq_len, embeddings_words_dim]\n",
        "        embeddings_words_out = self.embeddings_words(texts)\n",
        "        # shape: [batch_size] -> [batch_size, seq_len, embedding_aspects_dim]\n",
        "        embeddings_aspects_out = self.embeddings_aspects(aspects)\n",
        "        embeddings_aspects_out = torch.unsqueeze(embeddings_aspects_out, 1)\n",
        "        embeddings_aspects_out = torch.repeat_interleave(\n",
        "            embeddings_aspects_out, seq_len, 1\n",
        "        )\n",
        "        # shape: -> [batch_size, seq_len, embedding_words_dim + embedding_aspects_dim]\n",
        "        embeddings = torch.cat(\n",
        "            [embeddings_words_out, embeddings_aspects_out], dim=-1,\n",
        "        )\n",
        "        # shape: [batch_size, seq_len, embeddings_dim] -> [batch_size, seq_len, hidden_dim]\n",
        "        lstm_output, hidden_state = self.lstm(embeddings, hidden)\n",
        "\n",
        "        attention_input = torch.cat(\n",
        "            [lstm_output, embeddings_aspects_out], dim=-1,\n",
        "        )\n",
        "        # shape: [batch_size, seq_len, hidden_dim + embeddings_aspects_dim] -> [batch_size, seq_len]\n",
        "        attention_weights = self.attention(attention_input)\n",
        "        weighted_lstm_output = lstm_output.permute(0, 2, 1) @ attention_weights\n",
        "        weighted_lstm_output = torch.squeeze(weighted_lstm_output, dim=-1)\n",
        "        sentence_representation = torch.cat([lstm_output[:, -1, :], \n",
        "                                             weighted_lstm_output], dim=-1)\n",
        "        sentence_representation = self.sentence_representation(\n",
        "            sentence_representation\n",
        "        )\n",
        "        sentence_representation = self.drop(sentence_representation)\n",
        "        sentence_representation = self.sentence_representation_nonlinearity(\n",
        "            sentence_representation\n",
        "        )\n",
        "        # shape: [batch_size, hidden_size] -> [batch_size, num_sentiments]\n",
        "        sentiments_scores = self.sentence_representation_to_sentiments(\n",
        "            sentence_representation\n",
        "        )\n",
        "        return sentiments_scores, hidden_state"
      ],
      "execution_count": null,
      "outputs": []
    },
    {
      "cell_type": "code",
      "metadata": {
        "colab": {
          "base_uri": "https://localhost:8080/"
        },
        "id": "ViJK2VoTonVX",
        "outputId": "8e4c9954-0f23-47b6-e13f-753f99356e78"
      },
      "source": [
        "num_aspects = len(ASPECT.vocab)\n",
        "embeddings_aspects_dim = 300\n",
        "hidden_dim = 300\n",
        "num_sentiments = len(SENTIMENT.vocab)\n",
        "embeddings_words_init = TEXT.vocab.vectors\n",
        "\n",
        "set_seed_everywhere(random_seed, USE_GPU)\n",
        "model = AE_LSTM(\n",
        "    num_aspects, embeddings_aspects_dim, hidden_dim, num_sentiments, \n",
        "    embeddings_words_init=embeddings_words_init\n",
        ")\n",
        "model"
      ],
      "execution_count": null,
      "outputs": [
        {
          "output_type": "execute_result",
          "data": {
            "text/plain": [
              "AE_LSTM(\n",
              "  (embeddings_words): Embedding(5041, 300)\n",
              "  (embeddings_aspects): Embedding(5, 300)\n",
              "  (lstm): LSTM(600, 300, batch_first=True)\n",
              "  (attention): Sequential(\n",
              "    (0): Linear(in_features=600, out_features=600, bias=True)\n",
              "    (1): Permute()\n",
              "    (2): BatchNorm1d(600, eps=1e-05, momentum=0.1, affine=True, track_running_stats=True)\n",
              "    (3): Permute()\n",
              "    (4): Dropout(p=0.5, inplace=False)\n",
              "    (5): Tanh()\n",
              "    (6): Linear(in_features=600, out_features=1, bias=True)\n",
              "    (7): Softmax(dim=1)\n",
              "  )\n",
              "  (sentence_representation): Linear(in_features=600, out_features=300, bias=False)\n",
              "  (drop): Dropout(p=0.5, inplace=False)\n",
              "  (sentence_representation_nonlinearity): Tanh()\n",
              "  (sentence_representation_to_sentiments): Linear(in_features=300, out_features=3, bias=True)\n",
              ")"
            ]
          },
          "metadata": {
            "tags": []
          },
          "execution_count": 22
        }
      ]
    },
    {
      "cell_type": "code",
      "metadata": {
        "id": "PEokgNhTpETQ"
      },
      "source": [
        "model = model.to(device=device)\n",
        "learning_rate = 1e-5\n",
        "early_stopping = 1000\n",
        "grad_clipping_value = 1\n",
        "l2_coef = 1e-3\n",
        "epochs = 25\n",
        "\n",
        "opt = optim.Adam(model.parameters(), lr=learning_rate, weight_decay=l2_coef)\n",
        "scheduler = optim.lr_scheduler.StepLR(opt, step_size=10, gamma=1)\n",
        "criterion = nn.CrossEntropyLoss()\n",
        "path_save = os.path.join(PATH_PREFIX, 'aspect_extraction_model')"
      ],
      "execution_count": null,
      "outputs": []
    },
    {
      "cell_type": "code",
      "metadata": {
        "id": "P3MRpJTM1-lr"
      },
      "source": [
        "def train_loop(train_iter, val_iter, model, opt, scheduler, criterion, epochs, \n",
        "               early_stopping):\n",
        "    train_losses = []\n",
        "    val_losses = []\n",
        "    train_acc_values = []\n",
        "    val_acc_values = []\n",
        "    best_val_loss = 10\n",
        "    best_val_acc = 0\n",
        "    not_improves = 0\n",
        "    for epoch in tqdm(range(1, epochs + 1)):\n",
        "        train_loss = 0.0\n",
        "        train_acc = 0\n",
        "        model.train() \n",
        "        for batch in train_iter: \n",
        "\n",
        "            texts = batch.text.to(device=device)\n",
        "            aspects = batch.aspect.to(device=device)\n",
        "            sentiments = batch.sentiment.to(device=device)\n",
        "\n",
        "            opt.zero_grad()\n",
        "            preds, _ = model(texts, aspects)\n",
        "\n",
        "            loss = criterion(preds, sentiments)\n",
        "            loss.backward()\n",
        "            nn.utils.clip_grad_norm_(model.parameters(), grad_clipping_value)\n",
        "            opt.step()\n",
        "            train_loss += loss.item()\n",
        "\n",
        "            pred_sentiments = torch.max(preds, dim=-1)[1]\n",
        "            train_acc += np.sum(\n",
        "                pred_sentiments.cpu().numpy() == sentiments.cpu().numpy()\n",
        "            )\n",
        "\n",
        "        train_loss /= len(train_data)\n",
        "        train_losses.append(train_loss)\n",
        "        train_acc /= len(train_data)\n",
        "        train_acc_values.append(train_acc)\n",
        "\n",
        "        val_loss = 0.0\n",
        "        val_acc = 0\n",
        "        model.eval()\n",
        "        with torch.no_grad():\n",
        "            for batch in val_iter:\n",
        "\n",
        "                texts = batch.text.to(device=device)\n",
        "                aspects = batch.aspect.to(device=device)\n",
        "                sentiments = batch.sentiment.to(device=device)\n",
        "\n",
        "                preds, _ = model(texts, aspects)   \n",
        "                loss = criterion(preds, sentiments)\n",
        "                val_loss += loss.item()\n",
        "\n",
        "                pred_sentiments = torch.max(preds, dim=-1)[1]\n",
        "                val_acc += np.sum(\n",
        "                    pred_sentiments.cpu().numpy() == sentiments.cpu().numpy()\n",
        "                )\n",
        "\n",
        "        val_loss /= len(valid_data)\n",
        "        val_acc /= len(valid_data)\n",
        "        val_losses.append(val_loss)\n",
        "        val_acc_values.append(val_acc)\n",
        "\n",
        "        if val_acc > best_val_acc:\n",
        "            not_improves = 0\n",
        "            best_val_acc = val_acc\n",
        "            torch.save(model.state_dict(), path_save)\n",
        "            print('------SAVED------')\n",
        "        else:\n",
        "            not_improves += 1\n",
        "            if not_improves == early_stopping:\n",
        "                break\n",
        "        \n",
        "        scheduler.step()\n",
        "\n",
        "        print(f'Epoch: {epoch}, '\n",
        "              f'Training Loss*: {1000*train_loss:.5f}, '\n",
        "              f'Validation Loss*: {1000*val_loss:.5f}, \\n'\n",
        "              f'Training Acc: {train_acc:.5f}, '\n",
        "              f'Validation Acc: {val_acc:.5f}')\n",
        "\n",
        "    return train_losses, val_losses, train_acc_values, val_acc_values\n"
      ],
      "execution_count": null,
      "outputs": []
    },
    {
      "cell_type": "code",
      "metadata": {
        "id": "pKY0NBe8r803",
        "colab": {
          "base_uri": "https://localhost:8080/",
          "height": 1000,
          "referenced_widgets": [
            "dcaae2e19ee649388ba732d163345ec0",
            "d0d15dcccb3940c283e67fefc3567110",
            "a0414bda145f4359a67c93ef0bdb430b",
            "125e623d20f34108a70717f2957acb9c",
            "8827e5af89ff4e79bdbc5fa834c2cdda",
            "fcf3df5687034bdf860931e9df19c05a",
            "dc05a9454ed84ad3a7dab412ac247161",
            "7906fab0bfc945b793f81e2960f20f46"
          ]
        },
        "outputId": "568d9b15-d2fa-4ff3-f782-53c0e66e8f41"
      },
      "source": [
        "set_seed_everywhere(random_seed, USE_GPU)\n",
        "train_losses, val_losses, train_acc, val_acc = train_loop(\n",
        "    train_iter, val_iter, model, opt, scheduler, criterion, \n",
        "    epochs, early_stopping\n",
        ")"
      ],
      "execution_count": null,
      "outputs": [
        {
          "output_type": "display_data",
          "data": {
            "application/vnd.jupyter.widget-view+json": {
              "model_id": "dcaae2e19ee649388ba732d163345ec0",
              "version_minor": 0,
              "version_major": 2
            },
            "text/plain": [
              "HBox(children=(FloatProgress(value=0.0, max=25.0), HTML(value='')))"
            ]
          },
          "metadata": {
            "tags": []
          }
        },
        {
          "output_type": "stream",
          "text": [
            "------SAVED------\n",
            "Epoch: 1, Training Loss*: 16.90149, Validation Loss*: 16.14166, \n",
            "Training Acc: 0.42837, Validation Acc: 0.61593\n",
            "------SAVED------\n",
            "Epoch: 2, Training Loss*: 15.35593, Validation Loss*: 15.00735, \n",
            "Training Acc: 0.61500, Validation Acc: 0.61735\n",
            "Epoch: 3, Training Loss*: 14.42923, Validation Loss*: 14.35860, \n",
            "Training Acc: 0.61962, Validation Acc: 0.61735\n",
            "Epoch: 4, Training Loss*: 13.89026, Validation Loss*: 14.02958, \n",
            "Training Acc: 0.61962, Validation Acc: 0.61735\n",
            "Epoch: 5, Training Loss*: 13.60859, Validation Loss*: 13.81132, \n",
            "Training Acc: 0.61998, Validation Acc: 0.61735\n",
            "Epoch: 6, Training Loss*: 13.35835, Validation Loss*: 13.61499, \n",
            "Training Acc: 0.61998, Validation Acc: 0.61735\n",
            "Epoch: 7, Training Loss*: 13.15565, Validation Loss*: 13.43383, \n",
            "Training Acc: 0.61998, Validation Acc: 0.61735\n",
            "Epoch: 8, Training Loss*: 13.00944, Validation Loss*: 13.25119, \n",
            "Training Acc: 0.62105, Validation Acc: 0.61735\n",
            "------SAVED------\n",
            "Epoch: 9, Training Loss*: 12.79038, Validation Loss*: 13.06667, \n",
            "Training Acc: 0.62069, Validation Acc: 0.61878\n",
            "------SAVED------\n",
            "Epoch: 10, Training Loss*: 12.57195, Validation Loss*: 12.88557, \n",
            "Training Acc: 0.62460, Validation Acc: 0.62304\n",
            "------SAVED------\n",
            "Epoch: 11, Training Loss*: 12.39353, Validation Loss*: 12.70703, \n",
            "Training Acc: 0.62638, Validation Acc: 0.63016\n",
            "------SAVED------\n",
            "Epoch: 12, Training Loss*: 12.20273, Validation Loss*: 12.52501, \n",
            "Training Acc: 0.63313, Validation Acc: 0.63442\n",
            "------SAVED------\n",
            "Epoch: 13, Training Loss*: 12.04845, Validation Loss*: 12.34384, \n",
            "Training Acc: 0.63882, Validation Acc: 0.64580\n",
            "------SAVED------\n",
            "Epoch: 14, Training Loss*: 11.80147, Validation Loss*: 12.15884, \n",
            "Training Acc: 0.65020, Validation Acc: 0.65292\n",
            "------SAVED------\n",
            "Epoch: 15, Training Loss*: 11.61755, Validation Loss*: 11.97876, \n",
            "Training Acc: 0.65802, Validation Acc: 0.66145\n",
            "------SAVED------\n",
            "Epoch: 16, Training Loss*: 11.45163, Validation Loss*: 11.80002, \n",
            "Training Acc: 0.66477, Validation Acc: 0.66572\n",
            "------SAVED------\n",
            "Epoch: 17, Training Loss*: 11.18395, Validation Loss*: 11.62163, \n",
            "Training Acc: 0.67472, Validation Acc: 0.66999\n",
            "------SAVED------\n",
            "Epoch: 18, Training Loss*: 11.00356, Validation Loss*: 11.44327, \n",
            "Training Acc: 0.68859, Validation Acc: 0.67852\n",
            "------SAVED------\n",
            "Epoch: 19, Training Loss*: 10.86655, Validation Loss*: 11.26946, \n",
            "Training Acc: 0.69570, Validation Acc: 0.68563\n",
            "------SAVED------\n",
            "Epoch: 20, Training Loss*: 10.65031, Validation Loss*: 11.10708, \n",
            "Training Acc: 0.71241, Validation Acc: 0.69275\n",
            "------SAVED------\n",
            "Epoch: 21, Training Loss*: 10.44397, Validation Loss*: 10.94858, \n",
            "Training Acc: 0.71241, Validation Acc: 0.70413\n",
            "------SAVED------\n",
            "Epoch: 22, Training Loss*: 10.25440, Validation Loss*: 10.80053, \n",
            "Training Acc: 0.72165, Validation Acc: 0.70839\n",
            "------SAVED------\n",
            "Epoch: 23, Training Loss*: 10.11448, Validation Loss*: 10.66316, \n",
            "Training Acc: 0.72983, Validation Acc: 0.71266\n",
            "Epoch: 24, Training Loss*: 9.91536, Validation Loss*: 10.53993, \n",
            "Training Acc: 0.73516, Validation Acc: 0.70982\n",
            "------SAVED------\n",
            "Epoch: 25, Training Loss*: 9.80808, Validation Loss*: 10.43471, \n",
            "Training Acc: 0.73978, Validation Acc: 0.71408\n",
            "\n"
          ],
          "name": "stdout"
        }
      ]
    },
    {
      "cell_type": "code",
      "metadata": {
        "id": "GxVBB2ZIyL31",
        "colab": {
          "base_uri": "https://localhost:8080/",
          "height": 578
        },
        "outputId": "7bcc12a8-4fbd-4d32-c6ea-6b8ba8878a72"
      },
      "source": [
        "\n",
        "plt.figure(figsize=(16, 9))\n",
        "finished_epochs = len(train_losses)\n",
        "plt.plot(np.arange(finished_epochs), train_losses, label='Train loss')\n",
        "plt.plot(np.arange(finished_epochs), val_losses, label='Validation loss')\n",
        "plt.xlabel('epoch')\n",
        "plt.ylabel('cross entropy loss')\n",
        "plt.title('Loss plot')\n",
        "plt.legend()\n",
        "plt.show()"
      ],
      "execution_count": null,
      "outputs": [
        {
          "output_type": "display_data",
          "data": {
            "image/png": "[encoded data removed]",
            "text/plain": [
              "<Figure size 1152x648 with 1 Axes>"
            ]
          },
          "metadata": {
            "tags": []
          }
        }
      ]
    },
    {
      "cell_type": "code",
      "metadata": {
        "id": "Kqj40DkqyWB4",
        "colab": {
          "base_uri": "https://localhost:8080/",
          "height": 578
        },
        "outputId": "c6e14422-eb8f-4f86-93d0-ea3c0203bf47"
      },
      "source": [
        "plt.figure(figsize=(16, 9))\n",
        "finished_epochs = len(train_losses)\n",
        "plt.plot(np.arange(finished_epochs), train_acc, label='Train accuracy')\n",
        "plt.plot(np.arange(finished_epochs), val_acc, label='Validation accuracy')\n",
        "plt.xlabel('epoch')\n",
        "plt.ylabel('accuracy')\n",
        "plt.title('Accuracy plot')\n",
        "plt.legend()\n",
        "plt.show()"
      ],
      "execution_count": null,
      "outputs": [
        {
          "output_type": "display_data",
          "data": {
            "image/png": "[encoded data removed]",
            "text/plain": [
              "<Figure size 1152x648 with 1 Axes>"
            ]
          },
          "metadata": {
            "tags": []
          }
        }
      ]
    },
    {
      "cell_type": "code",
      "metadata": {
        "id": "MTSxxBPEyaU_"
      },
      "source": [
        "model.eval()\n",
        "\n",
        "all_preds = []\n",
        "all_answers = []\n",
        "with torch.no_grad():\n",
        "    for batch in test_iter:\n",
        "\n",
        "        texts = batch.text.to(device=device)\n",
        "        aspects = batch.aspect.to(device=device)\n",
        "        sentiments = batch.sentiment.to(device=device)\n",
        "\n",
        "        preds_scores, _ = model(texts, aspects)\n",
        "        \n",
        "        preds = torch.max(preds_scores, dim=-1)[1]\n",
        "        all_preds += preds.tolist()\n",
        "        all_answers += sentiments.tolist()\n",
        "\n",
        "\n",
        "all_preds = np.array(all_preds)\n",
        "all_answers = np.array(all_answers)"
      ],
      "execution_count": null,
      "outputs": []
    },
    {
      "cell_type": "code",
      "metadata": {
        "id": "EKIaeWghye8e",
        "colab": {
          "base_uri": "https://localhost:8080/"
        },
        "outputId": "888eb4b3-b4a6-49ef-b922-bef2b8c534d0"
      },
      "source": [
        "\n",
        "accuracy = accuracy_score(all_preds, all_answers)\n",
        "\n",
        "print(f'Accuracy: {accuracy:.5f}')"
      ],
      "execution_count": null,
      "outputs": [
        {
          "output_type": "stream",
          "text": [
            "Accuracy: 0.78726\n"
          ],
          "name": "stdout"
        }
      ]
    },
    {
      "cell_type": "markdown",
      "metadata": {
        "id": "wS8Lbb72y8zv"
      },
      "source": [
        "# Sample ABSA prediction"
      ]
    },
    {
      "cell_type": "code",
      "metadata": {
        "id": "__tzPAaezEzQ",
        "colab": {
          "base_uri": "https://localhost:8080/"
        },
        "outputId": "2f0ada1d-eb4a-40ce-8ada-2867a2b39b83"
      },
      "source": [
        "from textblob import TextBlob\n",
        "user_input=input(\"Enter a laptop review:\\n\\n\") # ******* user input ******\n",
        "tagged_user_input = pos_tag([user_input])\n",
        "filter_tagged_user_input = filter_tag(tagged_user_input)\n",
        "\n",
        "user_input_series = pd.Series(filter_tagged_user_input)\n",
        "user_input_series_dtm = vect.transform(user_input_series)\n",
        "\n",
        "\n",
        "predict_aspect= sgd.predict(user_input_series_dtm)\n",
        "extra_feature=get_dict_aspect(predict_aspect, most_common_aspect)\n",
        "extra_feature_dtm=DictVectorizer().fit_transform(extra_feature)\n",
        "df = BIO_format(user_input, predict_aspect[0], final_most_common_aspect)\n",
        "p=df.to_dict('split')['data']\n",
        "print(df) #***** answer-1 ********\n",
        "\n",
        "opt=['B','I']\n",
        "term=df.loc[df[\"BIO\"].isin(opt)]\n",
        "print(list(term[\"text\"])) #****** answer-2 ******\n",
        "\n",
        "blob=TextBlob(user_input)\n",
        "tokens=list(blob.words)\n",
        "word=[]\n",
        "sent=[]\n",
        "c=0\n",
        "i=0\n",
        "for words,pos in blob.tags:\n",
        "    if pos=='JJ' or pos=='NN' or pos=='JJR' or pos=='NNS':\n",
        "        word.append(words)\n",
        "if len(word)>=2:\n",
        "  for i in range(len(word)):\n",
        "   if len(word)>=2:\n",
        "     firstw=word[0]\n",
        "     secw=word[1]\n",
        "     word.remove(firstw)\n",
        "     word.remove(secw)\n",
        "     findx=tokens.index(firstw)\n",
        "     lindx=tokens.index(secw)\n",
        "     sent.append(' '.join(tokens[findx:lindx+1]))\n",
        "\n",
        "print(\"Sentiment terms:\",sent) #******* answer-3 ********\n",
        "for sentence in sent:\n",
        "  if TextBlob(sentence).polarity<=0:\n",
        "    polarity=\"Negative\"\n",
        "    print(sentence,\" : \",polarity) #******* answer-4 ********\n",
        "  elif TextBlob(sentence).polarity>0:\n",
        "    polarity=\"Positive\"\n",
        "    print(sentence,\" : \",polarity) #******* answer-4 ********\n",
        "  else:\n",
        "    polarity=\"Neutral\"\n",
        "    print(sentence,\" : \",polarity) #******* answer-4 *******"
      ],
      "execution_count": null,
      "outputs": [
        {
          "output_type": "stream",
          "text": [
            "Enter a laptop review:\n",
            "\n",
            "the size is large and the speaker is very good\n",
            "      text BIO\n",
            "0  the      B \n",
            "1  size     B \n",
            "2  is       O \n",
            "3  large    O \n",
            "4  and      O \n",
            "5  the      O \n",
            "6  speaker  O \n",
            "7  is       O \n",
            "8  very     O \n",
            "9  good     O \n",
            "['the', 'size']\n",
            "Sentiment terms: ['size is large', 'speaker is very good']\n",
            "size is large  :  Positive\n",
            "speaker is very good  :  Positive\n"
          ],
          "name": "stdout"
        }
      ]
    },
    {
      "cell_type": "code",
      "metadata": {
        "id": "FKlcSIioL0sb"
      },
      "source": [
        ""
      ],
      "execution_count": null,
      "outputs": []
    }
  ]
}